{
  "nbformat": 4,
  "nbformat_minor": 0,
  "metadata": {
    "colab": {
      "name": "stl_10.ipynb",
      "provenance": [],
      "collapsed_sections": [
        "MX7aH6gMriD_",
        "yLw5hJTN-6tt"
      ],
      "include_colab_link": true
    },
    "kernelspec": {
      "name": "python3",
      "display_name": "Python 3"
    },
    "accelerator": "GPU",
    "widgets": {
      "application/vnd.jupyter.widget-state+json": {
        "2ae94817e19e460c905dfaa568d0fd5a": {
          "model_module": "@jupyter-widgets/controls",
          "model_name": "HBoxModel",
          "state": {
            "_view_name": "HBoxView",
            "_dom_classes": [],
            "_model_name": "HBoxModel",
            "_view_module": "@jupyter-widgets/controls",
            "_model_module_version": "1.5.0",
            "_view_count": null,
            "_view_module_version": "1.5.0",
            "box_style": "",
            "layout": "IPY_MODEL_2f504f7d1eac428aa07d80d843749d08",
            "_model_module": "@jupyter-widgets/controls",
            "children": [
              "IPY_MODEL_ee3a74a6f2814695b649a57d7560a723",
              "IPY_MODEL_c355164eb9e342ac98808decd6c1f51b"
            ]
          }
        },
        "2f504f7d1eac428aa07d80d843749d08": {
          "model_module": "@jupyter-widgets/base",
          "model_name": "LayoutModel",
          "state": {
            "_view_name": "LayoutView",
            "grid_template_rows": null,
            "right": null,
            "justify_content": null,
            "_view_module": "@jupyter-widgets/base",
            "overflow": null,
            "_model_module_version": "1.2.0",
            "_view_count": null,
            "flex_flow": null,
            "width": null,
            "min_width": null,
            "border": null,
            "align_items": null,
            "bottom": null,
            "_model_module": "@jupyter-widgets/base",
            "top": null,
            "grid_column": null,
            "overflow_y": null,
            "overflow_x": null,
            "grid_auto_flow": null,
            "grid_area": null,
            "grid_template_columns": null,
            "flex": null,
            "_model_name": "LayoutModel",
            "justify_items": null,
            "grid_row": null,
            "max_height": null,
            "align_content": null,
            "visibility": null,
            "align_self": null,
            "height": null,
            "min_height": null,
            "padding": null,
            "grid_auto_rows": null,
            "grid_gap": null,
            "max_width": null,
            "order": null,
            "_view_module_version": "1.2.0",
            "grid_template_areas": null,
            "object_position": null,
            "object_fit": null,
            "grid_auto_columns": null,
            "margin": null,
            "display": null,
            "left": null
          }
        },
        "ee3a74a6f2814695b649a57d7560a723": {
          "model_module": "@jupyter-widgets/controls",
          "model_name": "IntProgressModel",
          "state": {
            "_view_name": "ProgressView",
            "style": "IPY_MODEL_367e74ff4d2b498b815b2261cb197ed9",
            "_dom_classes": [],
            "description": "100%",
            "_model_name": "IntProgressModel",
            "bar_style": "success",
            "max": 14212972,
            "_view_module": "@jupyter-widgets/controls",
            "_model_module_version": "1.5.0",
            "value": 14212972,
            "_view_count": null,
            "_view_module_version": "1.5.0",
            "orientation": "horizontal",
            "min": 0,
            "description_tooltip": null,
            "_model_module": "@jupyter-widgets/controls",
            "layout": "IPY_MODEL_42b188a49617458f9138c21172bd6b33"
          }
        },
        "c355164eb9e342ac98808decd6c1f51b": {
          "model_module": "@jupyter-widgets/controls",
          "model_name": "HTMLModel",
          "state": {
            "_view_name": "HTMLView",
            "style": "IPY_MODEL_c57a4edbba8549349013e4d9ec4b8cf5",
            "_dom_classes": [],
            "description": "",
            "_model_name": "HTMLModel",
            "placeholder": "​",
            "_view_module": "@jupyter-widgets/controls",
            "_model_module_version": "1.5.0",
            "value": " 13.6M/13.6M [02:10&lt;00:00, 109kB/s]",
            "_view_count": null,
            "_view_module_version": "1.5.0",
            "description_tooltip": null,
            "_model_module": "@jupyter-widgets/controls",
            "layout": "IPY_MODEL_8738f465fec24f588f018d52e8f1f928"
          }
        },
        "367e74ff4d2b498b815b2261cb197ed9": {
          "model_module": "@jupyter-widgets/controls",
          "model_name": "ProgressStyleModel",
          "state": {
            "_view_name": "StyleView",
            "_model_name": "ProgressStyleModel",
            "description_width": "initial",
            "_view_module": "@jupyter-widgets/base",
            "_model_module_version": "1.5.0",
            "_view_count": null,
            "_view_module_version": "1.2.0",
            "bar_color": null,
            "_model_module": "@jupyter-widgets/controls"
          }
        },
        "42b188a49617458f9138c21172bd6b33": {
          "model_module": "@jupyter-widgets/base",
          "model_name": "LayoutModel",
          "state": {
            "_view_name": "LayoutView",
            "grid_template_rows": null,
            "right": null,
            "justify_content": null,
            "_view_module": "@jupyter-widgets/base",
            "overflow": null,
            "_model_module_version": "1.2.0",
            "_view_count": null,
            "flex_flow": null,
            "width": null,
            "min_width": null,
            "border": null,
            "align_items": null,
            "bottom": null,
            "_model_module": "@jupyter-widgets/base",
            "top": null,
            "grid_column": null,
            "overflow_y": null,
            "overflow_x": null,
            "grid_auto_flow": null,
            "grid_area": null,
            "grid_template_columns": null,
            "flex": null,
            "_model_name": "LayoutModel",
            "justify_items": null,
            "grid_row": null,
            "max_height": null,
            "align_content": null,
            "visibility": null,
            "align_self": null,
            "height": null,
            "min_height": null,
            "padding": null,
            "grid_auto_rows": null,
            "grid_gap": null,
            "max_width": null,
            "order": null,
            "_view_module_version": "1.2.0",
            "grid_template_areas": null,
            "object_position": null,
            "object_fit": null,
            "grid_auto_columns": null,
            "margin": null,
            "display": null,
            "left": null
          }
        },
        "c57a4edbba8549349013e4d9ec4b8cf5": {
          "model_module": "@jupyter-widgets/controls",
          "model_name": "DescriptionStyleModel",
          "state": {
            "_view_name": "StyleView",
            "_model_name": "DescriptionStyleModel",
            "description_width": "",
            "_view_module": "@jupyter-widgets/base",
            "_model_module_version": "1.5.0",
            "_view_count": null,
            "_view_module_version": "1.2.0",
            "_model_module": "@jupyter-widgets/controls"
          }
        },
        "8738f465fec24f588f018d52e8f1f928": {
          "model_module": "@jupyter-widgets/base",
          "model_name": "LayoutModel",
          "state": {
            "_view_name": "LayoutView",
            "grid_template_rows": null,
            "right": null,
            "justify_content": null,
            "_view_module": "@jupyter-widgets/base",
            "overflow": null,
            "_model_module_version": "1.2.0",
            "_view_count": null,
            "flex_flow": null,
            "width": null,
            "min_width": null,
            "border": null,
            "align_items": null,
            "bottom": null,
            "_model_module": "@jupyter-widgets/base",
            "top": null,
            "grid_column": null,
            "overflow_y": null,
            "overflow_x": null,
            "grid_auto_flow": null,
            "grid_area": null,
            "grid_template_columns": null,
            "flex": null,
            "_model_name": "LayoutModel",
            "justify_items": null,
            "grid_row": null,
            "max_height": null,
            "align_content": null,
            "visibility": null,
            "align_self": null,
            "height": null,
            "min_height": null,
            "padding": null,
            "grid_auto_rows": null,
            "grid_gap": null,
            "max_width": null,
            "order": null,
            "_view_module_version": "1.2.0",
            "grid_template_areas": null,
            "object_position": null,
            "object_fit": null,
            "grid_auto_columns": null,
            "margin": null,
            "display": null,
            "left": null
          }
        },
        "acc1b30570574a65942f21f962784c55": {
          "model_module": "@jupyter-widgets/controls",
          "model_name": "HBoxModel",
          "state": {
            "_view_name": "HBoxView",
            "_dom_classes": [],
            "_model_name": "HBoxModel",
            "_view_module": "@jupyter-widgets/controls",
            "_model_module_version": "1.5.0",
            "_view_count": null,
            "_view_module_version": "1.5.0",
            "box_style": "",
            "layout": "IPY_MODEL_5f8fe41eabcf429c95accb76b1d8f621",
            "_model_module": "@jupyter-widgets/controls",
            "children": [
              "IPY_MODEL_c1200646264741569b3bd05d3e5949a1",
              "IPY_MODEL_32a47577ee9641c18974747092c2471d"
            ]
          }
        },
        "5f8fe41eabcf429c95accb76b1d8f621": {
          "model_module": "@jupyter-widgets/base",
          "model_name": "LayoutModel",
          "state": {
            "_view_name": "LayoutView",
            "grid_template_rows": null,
            "right": null,
            "justify_content": null,
            "_view_module": "@jupyter-widgets/base",
            "overflow": null,
            "_model_module_version": "1.2.0",
            "_view_count": null,
            "flex_flow": null,
            "width": null,
            "min_width": null,
            "border": null,
            "align_items": null,
            "bottom": null,
            "_model_module": "@jupyter-widgets/base",
            "top": null,
            "grid_column": null,
            "overflow_y": null,
            "overflow_x": null,
            "grid_auto_flow": null,
            "grid_area": null,
            "grid_template_columns": null,
            "flex": null,
            "_model_name": "LayoutModel",
            "justify_items": null,
            "grid_row": null,
            "max_height": null,
            "align_content": null,
            "visibility": null,
            "align_self": null,
            "height": null,
            "min_height": null,
            "padding": null,
            "grid_auto_rows": null,
            "grid_gap": null,
            "max_width": null,
            "order": null,
            "_view_module_version": "1.2.0",
            "grid_template_areas": null,
            "object_position": null,
            "object_fit": null,
            "grid_auto_columns": null,
            "margin": null,
            "display": null,
            "left": null
          }
        },
        "c1200646264741569b3bd05d3e5949a1": {
          "model_module": "@jupyter-widgets/controls",
          "model_name": "IntProgressModel",
          "state": {
            "_view_name": "ProgressView",
            "style": "IPY_MODEL_52cef13467db4e1699b5fa2a56ea4ec3",
            "_dom_classes": [],
            "description": "100%",
            "_model_name": "IntProgressModel",
            "bar_style": "success",
            "max": 115730790,
            "_view_module": "@jupyter-widgets/controls",
            "_model_module_version": "1.5.0",
            "value": 115730790,
            "_view_count": null,
            "_view_module_version": "1.5.0",
            "orientation": "horizontal",
            "min": 0,
            "description_tooltip": null,
            "_model_module": "@jupyter-widgets/controls",
            "layout": "IPY_MODEL_1210c4e03957467f8255772694f42855"
          }
        },
        "32a47577ee9641c18974747092c2471d": {
          "model_module": "@jupyter-widgets/controls",
          "model_name": "HTMLModel",
          "state": {
            "_view_name": "HTMLView",
            "style": "IPY_MODEL_492a3f3cc199428e92620e1d4c5741de",
            "_dom_classes": [],
            "description": "",
            "_model_name": "HTMLModel",
            "placeholder": "​",
            "_view_module": "@jupyter-widgets/controls",
            "_model_module_version": "1.5.0",
            "value": " 110M/110M [00:01&lt;00:00, 63.4MB/s]",
            "_view_count": null,
            "_view_module_version": "1.5.0",
            "description_tooltip": null,
            "_model_module": "@jupyter-widgets/controls",
            "layout": "IPY_MODEL_341f9a6cabee4e55afce06f702e5042b"
          }
        },
        "52cef13467db4e1699b5fa2a56ea4ec3": {
          "model_module": "@jupyter-widgets/controls",
          "model_name": "ProgressStyleModel",
          "state": {
            "_view_name": "StyleView",
            "_model_name": "ProgressStyleModel",
            "description_width": "initial",
            "_view_module": "@jupyter-widgets/base",
            "_model_module_version": "1.5.0",
            "_view_count": null,
            "_view_module_version": "1.2.0",
            "bar_color": null,
            "_model_module": "@jupyter-widgets/controls"
          }
        },
        "1210c4e03957467f8255772694f42855": {
          "model_module": "@jupyter-widgets/base",
          "model_name": "LayoutModel",
          "state": {
            "_view_name": "LayoutView",
            "grid_template_rows": null,
            "right": null,
            "justify_content": null,
            "_view_module": "@jupyter-widgets/base",
            "overflow": null,
            "_model_module_version": "1.2.0",
            "_view_count": null,
            "flex_flow": null,
            "width": null,
            "min_width": null,
            "border": null,
            "align_items": null,
            "bottom": null,
            "_model_module": "@jupyter-widgets/base",
            "top": null,
            "grid_column": null,
            "overflow_y": null,
            "overflow_x": null,
            "grid_auto_flow": null,
            "grid_area": null,
            "grid_template_columns": null,
            "flex": null,
            "_model_name": "LayoutModel",
            "justify_items": null,
            "grid_row": null,
            "max_height": null,
            "align_content": null,
            "visibility": null,
            "align_self": null,
            "height": null,
            "min_height": null,
            "padding": null,
            "grid_auto_rows": null,
            "grid_gap": null,
            "max_width": null,
            "order": null,
            "_view_module_version": "1.2.0",
            "grid_template_areas": null,
            "object_position": null,
            "object_fit": null,
            "grid_auto_columns": null,
            "margin": null,
            "display": null,
            "left": null
          }
        },
        "492a3f3cc199428e92620e1d4c5741de": {
          "model_module": "@jupyter-widgets/controls",
          "model_name": "DescriptionStyleModel",
          "state": {
            "_view_name": "StyleView",
            "_model_name": "DescriptionStyleModel",
            "description_width": "",
            "_view_module": "@jupyter-widgets/base",
            "_model_module_version": "1.5.0",
            "_view_count": null,
            "_view_module_version": "1.2.0",
            "_model_module": "@jupyter-widgets/controls"
          }
        },
        "341f9a6cabee4e55afce06f702e5042b": {
          "model_module": "@jupyter-widgets/base",
          "model_name": "LayoutModel",
          "state": {
            "_view_name": "LayoutView",
            "grid_template_rows": null,
            "right": null,
            "justify_content": null,
            "_view_module": "@jupyter-widgets/base",
            "overflow": null,
            "_model_module_version": "1.2.0",
            "_view_count": null,
            "flex_flow": null,
            "width": null,
            "min_width": null,
            "border": null,
            "align_items": null,
            "bottom": null,
            "_model_module": "@jupyter-widgets/base",
            "top": null,
            "grid_column": null,
            "overflow_y": null,
            "overflow_x": null,
            "grid_auto_flow": null,
            "grid_area": null,
            "grid_template_columns": null,
            "flex": null,
            "_model_name": "LayoutModel",
            "justify_items": null,
            "grid_row": null,
            "max_height": null,
            "align_content": null,
            "visibility": null,
            "align_self": null,
            "height": null,
            "min_height": null,
            "padding": null,
            "grid_auto_rows": null,
            "grid_gap": null,
            "max_width": null,
            "order": null,
            "_view_module_version": "1.2.0",
            "grid_template_areas": null,
            "object_position": null,
            "object_fit": null,
            "grid_auto_columns": null,
            "margin": null,
            "display": null,
            "left": null
          }
        }
      }
    }
  },
  "cells": [
    {
      "cell_type": "markdown",
      "metadata": {
        "id": "view-in-github",
        "colab_type": "text"
      },
      "source": [
        "<a href=\"https://colab.research.google.com/github/lo-uis/Team_ChoLab/blob/develop/stl_10.ipynb\" target=\"_parent\"><img src=\"https://colab.research.google.com/assets/colab-badge.svg\" alt=\"Open In Colab\"/></a>"
      ]
    },
    {
      "cell_type": "code",
      "metadata": {
        "id": "nQDSbK1bQrvl",
        "colab_type": "code",
        "outputId": "82c6f58b-c688-4220-dfa8-6b73a5ba9df8",
        "colab": {
          "base_uri": "https://localhost:8080/",
          "height": 34
        }
      },
      "source": [
        "import google.colab.drive\n",
        "google.colab.drive.mount(\"gdrive\")"
      ],
      "execution_count": 2,
      "outputs": [
        {
          "output_type": "stream",
          "text": [
            "Drive already mounted at gdrive; to attempt to forcibly remount, call drive.mount(\"gdrive\", force_remount=True).\n"
          ],
          "name": "stdout"
        }
      ]
    },
    {
      "cell_type": "code",
      "metadata": {
        "id": "4_nBMXzoUGmn",
        "colab_type": "code",
        "colab": {}
      },
      "source": [
        "#!pip install pytorch-lightning"
      ],
      "execution_count": 0,
      "outputs": []
    },
    {
      "cell_type": "code",
      "metadata": {
        "id": "afROXj-cRAgr",
        "colab_type": "code",
        "colab": {}
      },
      "source": [
        "import torch\n",
        "import torchvision\n",
        "import torch.optim as optim\n",
        "import torch.nn as nn\n",
        "import torch.nn.functional as F\n",
        "import torch.utils.data as data\n",
        "from PIL import Image\n",
        "from torchvision import models, transforms\n",
        "from tqdm import tqdm\n",
        "import matplotlib.pyplot as plt\n",
        "import numpy as np\n",
        "%matplotlib inline"
      ],
      "execution_count": 0,
      "outputs": []
    },
    {
      "cell_type": "markdown",
      "metadata": {
        "id": "ujPs9LqRDDYo",
        "colab_type": "text"
      },
      "source": [
        "# **前処理**"
      ]
    },
    {
      "cell_type": "code",
      "metadata": {
        "id": "R6Mi9CU4UvzG",
        "colab_type": "code",
        "colab": {}
      },
      "source": [
        "# tranform tensor\n",
        "#前処理できる\n",
        "#trainデータセットの前処理\n",
        "\n",
        "\n",
        "transform_train = transforms.Compose([\n",
        "    transforms.RandomResizedCrop(96), #サイズ合わせ\n",
        "    #transforms.RandomHorizontalFlip(), \n",
        "    #transforms.RandomVerticalFlip(),\n",
        "    transforms.ToTensor() ,              #型変換(?)\n",
        "    transforms.Normalize((0.485, 0.456, 0.406), (0.229, 0.224, 0.225))  #https://teratail.com/questions/234027\n",
        "    \n",
        "    ])"
      ],
      "execution_count": 0,
      "outputs": []
    },
    {
      "cell_type": "code",
      "metadata": {
        "id": "Ygqf2qJ2tjkc",
        "colab_type": "code",
        "colab": {}
      },
      "source": [
        "#validationデータセットの前処理\n",
        "transform_val = transforms.Compose([\n",
        "    transforms.RandomResizedCrop(96), #サイズ合わせ\n",
        "    transforms.ToTensor() ,              #型変換(?)\n",
        "    transforms.Normalize((0.485, 0.456, 0.406), (0.229, 0.224, 0.225) ) #多分正規化\n",
        "    ])"
      ],
      "execution_count": 0,
      "outputs": []
    },
    {
      "cell_type": "code",
      "metadata": {
        "id": "VQPeRzXgVJjv",
        "colab_type": "code",
        "colab": {}
      },
      "source": [
        "#load train\n",
        "#学習に用いて良い画像は、STL10のtrain,unlabeled画像のみとする。\n",
        "#STL10のテスト画像は、上記の運営賞に用いるので、validationとして用いること\n",
        "train = torchvision.datasets.STL10(\n",
        "    root=\".\", \n",
        "    split='train', \n",
        "    folds=None,                          #０〜９で選べるぽい\n",
        "    transform=transform_train,                     #読み込み時の処理\n",
        "    target_transform=None, \n",
        "    download=False)"
      ],
      "execution_count": 0,
      "outputs": []
    },
    {
      "cell_type": "code",
      "metadata": {
        "id": "FD6JXM3GWIHN",
        "colab_type": "code",
        "outputId": "3a3e8465-7040-49a4-9081-ff7b7a9314e0",
        "colab": {
          "base_uri": "https://localhost:8080/",
          "height": 204
        }
      },
      "source": [
        "#データセットの中身を確認\n",
        "train"
      ],
      "execution_count": 50,
      "outputs": [
        {
          "output_type": "execute_result",
          "data": {
            "text/plain": [
              "Dataset STL10\n",
              "    Number of datapoints: 5000\n",
              "    Root location: .\n",
              "    Split: train\n",
              "    StandardTransform\n",
              "Transform: Compose(\n",
              "               RandomResizedCrop(size=(224, 224), scale=(0.08, 1.0), ratio=(0.75, 1.3333), interpolation=PIL.Image.BILINEAR)\n",
              "               RandomHorizontalFlip(p=0.5)\n",
              "               ToTensor()\n",
              "               Normalize(mean=(0.485, 0.456, 0.406), std=(0.229, 0.224, 0.225))\n",
              "           )"
            ]
          },
          "metadata": {
            "tags": []
          },
          "execution_count": 50
        }
      ]
    },
    {
      "cell_type": "code",
      "metadata": {
        "id": "5B0tid7wX-na",
        "colab_type": "code",
        "colab": {}
      },
      "source": [
        "#load test for validation\n",
        "val = torchvision.datasets.STL10(\n",
        "    root=\".\", \n",
        "    split=\"test\", \n",
        "    folds=None,                          \n",
        "    transform=transform_val,                     \n",
        "    target_transform=None, \n",
        "    download=False)"
      ],
      "execution_count": 0,
      "outputs": []
    },
    {
      "cell_type": "code",
      "metadata": {
        "id": "0CgC-_sOYmCs",
        "colab_type": "code",
        "outputId": "3772f056-4530-46ac-a26f-1879071b3c8b",
        "colab": {
          "base_uri": "https://localhost:8080/",
          "height": 187
        }
      },
      "source": [
        "val"
      ],
      "execution_count": 11,
      "outputs": [
        {
          "output_type": "execute_result",
          "data": {
            "text/plain": [
              "Dataset STL10\n",
              "    Number of datapoints: 8000\n",
              "    Root location: .\n",
              "    Split: test\n",
              "    StandardTransform\n",
              "Transform: Compose(\n",
              "               RandomResizedCrop(size=(32, 32), scale=(0.08, 1.0), ratio=(0.75, 1.3333), interpolation=PIL.Image.BILINEAR)\n",
              "               ToTensor()\n",
              "               Normalize(mean=(0.485, 0.456, 0.406), std=(0.229, 0.224, 0.225))\n",
              "           )"
            ]
          },
          "metadata": {
            "tags": []
          },
          "execution_count": 11
        }
      ]
    },
    {
      "cell_type": "code",
      "metadata": {
        "id": "rJKiV5MaY_F0",
        "colab_type": "code",
        "colab": {}
      },
      "source": [
        "#train[0][0].shape"
      ],
      "execution_count": 0,
      "outputs": []
    },
    {
      "cell_type": "code",
      "metadata": {
        "id": "8OzIEmNRaJ71",
        "colab_type": "code",
        "outputId": "244dd252-803d-4c0d-9b1f-c54a95b17a6b",
        "colab": {
          "base_uri": "https://localhost:8080/",
          "height": 34
        }
      },
      "source": [
        "#可視化してみる\n",
        "import numpy as np\n",
        "import matplotlib.pyplot as plt\n",
        "img = np.transpose(train[1][0],(1,2,0))\n",
        "img.shape"
      ],
      "execution_count": 37,
      "outputs": [
        {
          "output_type": "execute_result",
          "data": {
            "text/plain": [
              "torch.Size([96, 96, 3])"
            ]
          },
          "metadata": {
            "tags": []
          },
          "execution_count": 37
        }
      ]
    },
    {
      "cell_type": "code",
      "metadata": {
        "id": "yy5ZkYwAab2k",
        "colab_type": "code",
        "outputId": "2e670991-f3db-486d-be3f-6226a2f3a21d",
        "colab": {
          "base_uri": "https://localhost:8080/",
          "height": 302
        }
      },
      "source": [
        "plt.imshow(img)"
      ],
      "execution_count": 38,
      "outputs": [
        {
          "output_type": "stream",
          "text": [
            "Clipping input data to the valid range for imshow with RGB data ([0..1] for floats or [0..255] for integers).\n"
          ],
          "name": "stderr"
        },
        {
          "output_type": "execute_result",
          "data": {
            "text/plain": [
              "<matplotlib.image.AxesImage at 0x7f2a21ceffd0>"
            ]
          },
          "metadata": {
            "tags": []
          },
          "execution_count": 38
        },
        {
          "output_type": "display_data",
          "data": {
            "image/png": "[encoded data removed]",
            "text/plain": [
              "<Figure size 432x288 with 1 Axes>"
            ]
          },
          "metadata": {
            "tags": [],
            "needs_background": "light"
          }
        }
      ]
    },
    {
      "cell_type": "code",
      "metadata": {
        "id": "KS8Y9W9bahko",
        "colab_type": "code",
        "colab": {}
      },
      "source": [
        "#type(train[0])"
      ],
      "execution_count": 0,
      "outputs": []
    },
    {
      "cell_type": "code",
      "metadata": {
        "id": "n_lmknMMbLKz",
        "colab_type": "code",
        "colab": {}
      },
      "source": [
        "#train[0][0]"
      ],
      "execution_count": 0,
      "outputs": []
    },
    {
      "cell_type": "code",
      "metadata": {
        "id": "DFF5sJODb8yJ",
        "colab_type": "code",
        "colab": {}
      },
      "source": [
        "#train[1][1]"
      ],
      "execution_count": 0,
      "outputs": []
    },
    {
      "cell_type": "code",
      "metadata": {
        "id": "yxeTN0wwcm7R",
        "colab_type": "code",
        "colab": {}
      },
      "source": [
        "batch_size = 32\n",
        "\n",
        "training_loader = torch.utils.data.DataLoader(train, batch_size=batch_size, shuffle=True)\n",
        "validation_loader = torch.utils.data.DataLoader(val, batch_size=batch_size, shuffle=False) # testはvaldationとして扱う\n",
        "\n",
        "classes = (\"airplane\",\"bird\",\"car\",\"cat\",\"deer\",\"dog\",\"horse\",\"monkey\",\"ship\",\"truck\")\n",
        "\n",
        "#dataloaders_dict = {\"train\": train_dataloader, \"val\": val_dataloader} # 辞書オブジェクトにまとめる"
      ],
      "execution_count": 0,
      "outputs": []
    },
    {
      "cell_type": "markdown",
      "metadata": {
        "id": "MX7aH6gMriD_",
        "colab_type": "text"
      },
      "source": [
        "# **ただ単にVGG16にぶっこんだ**"
      ]
    },
    {
      "cell_type": "code",
      "metadata": {
        "id": "fcKdUg0jmjKk",
        "colab_type": "code",
        "colab": {}
      },
      "source": [
        "#とりあえずVGG16に突っ込んでみる\n",
        "class VGG16(nn.Module):\n",
        "  def __init__(self):\n",
        "    super(VGG16,self).__init__()\n",
        "    self.features = nn.Sequential(\n",
        "                      nn.Conv2d(3, 64, kernel_size=3,stride=1,padding=1),\n",
        "                      nn.ReLU(inplace=True),\n",
        "                      nn.Conv2d(64, 64, kernel_size=3,stride=1,padding=1),\n",
        "                      nn.ReLU(inplace=True),\n",
        "                      nn.MaxPool2d(kernel_size=2, stride=2, padding=0, dilation=1, ceil_mode=False),\n",
        "                      nn.Conv2d(64, 128, kernel_size=3, stride=1, padding=1),\n",
        "                      nn.ReLU(inplace=True),\n",
        "                      nn.Conv2d(128, 128, kernel_size=3, stride=1, padding=1),\n",
        "                      nn.ReLU(inplace=True),\n",
        "                      nn.MaxPool2d(kernel_size=2, stride=2, padding=0, dilation=1, ceil_mode=False),\n",
        "                      nn.Conv2d(128, 256, kernel_size=3, stride=1, padding=1),\n",
        "                      nn.ReLU(inplace=True),\n",
        "                      nn.Conv2d(256, 256, kernel_size=3, stride=1, padding=1),\n",
        "                      nn.ReLU(inplace=True),\n",
        "                      nn.Conv2d(256, 256, kernel_size=3, stride=1, padding=1),\n",
        "                      nn.ReLU(inplace=True),\n",
        "                      nn.MaxPool2d(kernel_size=2, stride=2, padding=0, dilation=1, ceil_mode=False),\n",
        "                      nn.Conv2d(256, 512, kernel_size=3, stride=1, padding=1),\n",
        "                      nn.ReLU(inplace=True),\n",
        "                      nn.Conv2d(512, 512, kernel_size=3, stride=1, padding=1),\n",
        "                      nn.ReLU(inplace=True),\n",
        "                      nn.Conv2d(512, 512, kernel_size=3, stride=1, padding=1),\n",
        "                      nn.ReLU(inplace=True),\n",
        "                      nn.MaxPool2d(kernel_size=2, stride=2, padding=0, dilation=1, ceil_mode=False),\n",
        "                      nn.Conv2d(512, 512, kernel_size=3, stride=1, padding=1),\n",
        "                      nn.ReLU(inplace=True),\n",
        "                      nn.Conv2d(512, 512, kernel_size=3, stride=1, padding=1),\n",
        "                      nn.ReLU(inplace=True),\n",
        "                      nn.Conv2d(512, 512, kernel_size=3, stride=1, padding=1),\n",
        "                      nn.ReLU(inplace=True),\n",
        "                      nn.MaxPool2d(kernel_size=2, stride=2, padding=0, dilation=1, ceil_mode=False),\n",
        "                    )\n",
        "    \n",
        "    self.avgpool = nn.AdaptiveAvgPool2d(output_size=(7, 7))\n",
        "    \n",
        "    self.classifier = nn.Sequential(\n",
        "                      nn.Linear(in_features=25088, out_features=4096, bias=True),\n",
        "                      nn.ReLU(inplace=True),\n",
        "                      nn.Dropout(p=0.5, inplace=False),\n",
        "                      nn.Linear(in_features=4096, out_features=4096, bias=True),\n",
        "                      nn.ReLU(inplace=True),\n",
        "                      nn.Dropout(p=0.5, inplace=False),\n",
        "                      nn.Linear(in_features=4096, out_features=1000, bias=True),\n",
        "    )\n",
        "\n",
        "  def forward(self, x):\n",
        "    x = self.features(x)\n",
        "    x = self.avgpool(x)\n",
        "    x = torch.flatten(x, 1)\n",
        "    x = self.classifier(x)\n",
        "\n",
        "    return x"
      ],
      "execution_count": 0,
      "outputs": []
    },
    {
      "cell_type": "code",
      "metadata": {
        "id": "uH8zD2MEz611",
        "colab_type": "code",
        "colab": {}
      },
      "source": [
        "#GPU使う\n",
        "device = torch.device(\"cuda:0\" if torch.cuda.is_available() else \"cpu\")"
      ],
      "execution_count": 0,
      "outputs": []
    },
    {
      "cell_type": "code",
      "metadata": {
        "id": "bNtpmPx0z7RH",
        "colab_type": "code",
        "colab": {}
      },
      "source": [
        "#vgg16_ver1 = VGG16()\n",
        "#print(vgg16_ver1)\n",
        "model = VGG16().to(device)"
      ],
      "execution_count": 0,
      "outputs": []
    },
    {
      "cell_type": "code",
      "metadata": {
        "id": "pTYSayP0yXIB",
        "colab_type": "code",
        "colab": {}
      },
      "source": [
        "##パラメーターの設定\n",
        "model.classifier[6] = nn.Linear(in_features=4096, out_features=10).cuda() # クラス数を10にする\n",
        "criterion = nn.CrossEntropyLoss() #  損失関数の設定\n",
        "#optimizer = optim.Adam(model.parameters(),lr=0.001)  # 最適化関数の設定\n",
        "optimizer = optim.SGD(model.parameters(),lr=0.001, momentum=0.9)  # 最適化関数の設定"
      ],
      "execution_count": 0,
      "outputs": []
    },
    {
      "cell_type": "code",
      "metadata": {
        "id": "Vg7zWH8lggZO",
        "colab_type": "code",
        "colab": {}
      },
      "source": [
        "import matplotlib.pyplot as plt\n",
        "import numpy as np\n",
        "%matplotlib inline"
      ],
      "execution_count": 0,
      "outputs": []
    },
    {
      "cell_type": "code",
      "metadata": {
        "id": "lBzaypU9lwkZ",
        "colab_type": "code",
        "outputId": "b22e8e4a-8d93-4cc3-af78-f2a7e58151e9",
        "colab": {
          "base_uri": "https://localhost:8080/",
          "height": 644
        }
      },
      "source": [
        "epochs = 15\n",
        "running_loss_history = []\n",
        "running_corrects_history = []\n",
        "val_running_loss_history = []\n",
        "val_running_corrects_history = []\n",
        "\n",
        "for e in range(epochs):\n",
        "  \n",
        "  running_loss = 0.0\n",
        "  running_corrects = 0.0\n",
        "  val_running_loss = 0.0\n",
        "  val_running_corrects = 0.0\n",
        "\n",
        "  model.train() #学習モード\n",
        "  \n",
        "  for inputs, labels in training_loader:\n",
        "#     DataLoaderのバッチサイズごとにforで取り出して計算\n",
        "#     ここのforの処理が終わると1エポック\n",
        "    inputs = inputs.to(device)\n",
        "    labels = labels.to(device)\n",
        "    outputs = model(inputs)\n",
        "    loss = criterion(outputs, labels)\n",
        "    \n",
        "#     一旦パラメーターの勾配をゼロにして\n",
        "    optimizer.zero_grad()\n",
        "#     勾配の計算\n",
        "    loss.backward()\n",
        "#     学習\n",
        "    optimizer.step()\n",
        "    \n",
        "#     分類わけなので、もっとも数字が大きいものをpredictとする\n",
        "#     バッチ処理しているので2次元目で比較\n",
        "    _, preds = torch.max(outputs, 1)\n",
        "    running_loss += loss.item()\n",
        "#     ラベルと合っているものを足し合わせてaccuracy計算\n",
        "    running_corrects += torch.sum(preds == labels.data)\n",
        "  \n",
        "  model.eval() #検証モード\n",
        "#     pytorchでは勾配の計算の高速化のため、パラメーターを保持しているがテスト時はいらないので止める\n",
        "  with torch.no_grad():\n",
        "    for val_inputs, val_labels in validation_loader:\n",
        "      val_inputs = val_inputs.to(device)\n",
        "      val_labels = val_labels.to(device)\n",
        "      val_outputs = model(val_inputs)\n",
        "      val_loss = criterion(val_outputs, val_labels)\n",
        "      \n",
        "      _, val_preds = torch.max(val_outputs, 1)\n",
        "      val_running_loss += val_loss.item()\n",
        "      val_running_corrects += torch.sum(val_preds == val_labels.data)\n",
        "      \n",
        "#   学習過程を記録\n",
        "  epoch_loss = running_loss/len(training_loader.dataset)\n",
        "  epoch_acc = running_corrects.float()/ len(training_loader.dataset)\n",
        "  running_loss_history.append(epoch_loss)\n",
        "  running_corrects_history.append(epoch_acc)\n",
        "  \n",
        "  val_epoch_loss = val_running_loss/len(validation_loader.dataset)\n",
        "#     print('len-validation_loader :'+str(len(validation_loader)))\n",
        "#     print('len-validation_loader :'+str(len(validation_loader.dataset)))\n",
        "  val_epoch_acc = val_running_corrects.float()/len(validation_loader.dataset)\n",
        "  val_running_loss_history.append(val_epoch_loss)\n",
        "  val_running_corrects_history.append(val_epoch_acc)\n",
        "  \n",
        "  print('epoch *', (e+1))\n",
        "  print('training loss: {:.4f}, training acc {:.4f}'.format(epoch_loss, epoch_acc.item()))\n",
        "  print('validation loss: {:.4f}, validation acc{:.4f}'.format(val_epoch_loss,val_epoch_acc.item()))"
      ],
      "execution_count": 0,
      "outputs": [
        {
          "output_type": "stream",
          "text": [
            "epoch * 1\n",
            "training loss: 0.2879, training acc 0.0948\n",
            "validation loss: 0.2878, validation acc0.1000\n",
            "epoch * 2\n",
            "training loss: 0.2879, training acc 0.0952\n",
            "validation loss: 0.2878, validation acc0.1000\n",
            "epoch * 3\n",
            "training loss: 0.2879, training acc 0.0916\n",
            "validation loss: 0.2878, validation acc0.1000\n",
            "epoch * 4\n",
            "training loss: 0.2879, training acc 0.0888\n",
            "validation loss: 0.2878, validation acc0.1000\n",
            "epoch * 5\n",
            "training loss: 0.2879, training acc 0.0838\n",
            "validation loss: 0.2878, validation acc0.1000\n",
            "epoch * 6\n",
            "training loss: 0.2879, training acc 0.0990\n",
            "validation loss: 0.2878, validation acc0.1000\n",
            "epoch * 7\n",
            "training loss: 0.2879, training acc 0.0974\n",
            "validation loss: 0.2878, validation acc0.1000\n",
            "epoch * 8\n",
            "training loss: 0.2879, training acc 0.0888\n",
            "validation loss: 0.2878, validation acc0.1000\n"
          ],
          "name": "stdout"
        },
        {
          "output_type": "error",
          "ename": "KeyboardInterrupt",
          "evalue": "ignored",
          "traceback": [
            "\u001b[0;31m---------------------------------------------------------------------------\u001b[0m",
            "\u001b[0;31mKeyboardInterrupt\u001b[0m                         Traceback (most recent call last)",
            "\u001b[0;32m<ipython-input-91-9d32bc931a6b>\u001b[0m in \u001b[0;36m<module>\u001b[0;34m()\u001b[0m\n\u001b[1;32m     32\u001b[0m \u001b[0;31m#     バッチ処理しているので2次元目で比較\u001b[0m\u001b[0;34m\u001b[0m\u001b[0;34m\u001b[0m\u001b[0;34m\u001b[0m\u001b[0m\n\u001b[1;32m     33\u001b[0m     \u001b[0m_\u001b[0m\u001b[0;34m,\u001b[0m \u001b[0mpreds\u001b[0m \u001b[0;34m=\u001b[0m \u001b[0mtorch\u001b[0m\u001b[0;34m.\u001b[0m\u001b[0mmax\u001b[0m\u001b[0;34m(\u001b[0m\u001b[0moutputs\u001b[0m\u001b[0;34m,\u001b[0m \u001b[0;36m1\u001b[0m\u001b[0;34m)\u001b[0m\u001b[0;34m\u001b[0m\u001b[0;34m\u001b[0m\u001b[0m\n\u001b[0;32m---> 34\u001b[0;31m     \u001b[0mrunning_loss\u001b[0m \u001b[0;34m+=\u001b[0m \u001b[0mloss\u001b[0m\u001b[0;34m.\u001b[0m\u001b[0mitem\u001b[0m\u001b[0;34m(\u001b[0m\u001b[0;34m)\u001b[0m\u001b[0;34m\u001b[0m\u001b[0;34m\u001b[0m\u001b[0m\n\u001b[0m\u001b[1;32m     35\u001b[0m \u001b[0;31m#     ラベルと合っているものを足し合わせてaccuracy計算\u001b[0m\u001b[0;34m\u001b[0m\u001b[0;34m\u001b[0m\u001b[0;34m\u001b[0m\u001b[0m\n\u001b[1;32m     36\u001b[0m     \u001b[0mrunning_corrects\u001b[0m \u001b[0;34m+=\u001b[0m \u001b[0mtorch\u001b[0m\u001b[0;34m.\u001b[0m\u001b[0msum\u001b[0m\u001b[0;34m(\u001b[0m\u001b[0mpreds\u001b[0m \u001b[0;34m==\u001b[0m \u001b[0mlabels\u001b[0m\u001b[0;34m.\u001b[0m\u001b[0mdata\u001b[0m\u001b[0;34m)\u001b[0m\u001b[0;34m\u001b[0m\u001b[0;34m\u001b[0m\u001b[0m\n",
            "\u001b[0;31mKeyboardInterrupt\u001b[0m: "
          ]
        }
      ]
    },
    {
      "cell_type": "code",
      "metadata": {
        "id": "G0DvraWRlhj2",
        "colab_type": "code",
        "outputId": "e73e0bb9-c9c0-4aa5-c5e4-c7c71cba1d38",
        "colab": {
          "base_uri": "https://localhost:8080/",
          "height": 282
        }
      },
      "source": [
        "plt.plot(running_loss_history, label='training loss')\n",
        "plt.plot(val_running_loss_history, label='validation loss')\n",
        "plt.legend()"
      ],
      "execution_count": 0,
      "outputs": [
        {
          "output_type": "execute_result",
          "data": {
            "text/plain": [
              "<matplotlib.legend.Legend at 0x7f7e20b80550>"
            ]
          },
          "metadata": {
            "tags": []
          },
          "execution_count": 50
        },
        {
          "output_type": "display_data",
          "data": {
            "image/png": "[encoded data removed]",
            "text/plain": [
              "<Figure size 432x288 with 1 Axes>"
            ]
          },
          "metadata": {
            "tags": [],
            "needs_background": "light"
          }
        }
      ]
    },
    {
      "cell_type": "code",
      "metadata": {
        "id": "e8VE_-9RltIZ",
        "colab_type": "code",
        "outputId": "e1360fd3-c4db-4b2e-9103-e2a44a821a23",
        "colab": {
          "base_uri": "https://localhost:8080/",
          "height": 286
        }
      },
      "source": [
        "plt.plot(running_corrects_history, label='training accuracy')\n",
        "plt.plot(val_running_corrects_history, label='validation accuracy')\n",
        "plt.legend()"
      ],
      "execution_count": 0,
      "outputs": [
        {
          "output_type": "execute_result",
          "data": {
            "text/plain": [
              "<matplotlib.legend.Legend at 0x7f7e20af5668>"
            ]
          },
          "metadata": {
            "tags": []
          },
          "execution_count": 51
        },
        {
          "output_type": "display_data",
          "data": {
            "image/png": "[encoded data removed]",
            "text/plain": [
              "<Figure size 432x288 with 1 Axes>"
            ]
          },
          "metadata": {
            "tags": [],
            "needs_background": "light"
          }
        }
      ]
    },
    {
      "cell_type": "markdown",
      "metadata": {
        "id": "yLw5hJTN-6tt",
        "colab_type": "text"
      },
      "source": [
        "# **VGG16転移学習**\n",
        "参考：https://github.com/YutaroOgawa/pytorch_advanced.git\n"
      ]
    },
    {
      "cell_type": "code",
      "metadata": {
        "id": "KfYLH00lrqsc",
        "colab_type": "code",
        "outputId": "66824764-cb8e-4cc8-9413-50ad8fbdf307",
        "colab": {
          "base_uri": "https://localhost:8080/",
          "height": 782
        }
      },
      "source": [
        "# 学習済みのVGG-16モデルをロード\n",
        "# VGG-16モデルのインスタンスを生成\n",
        "#GPU使う\n",
        "device = torch.device(\"cuda:0\" if torch.cuda.is_available() else \"cpu\")\n",
        "use_pretrained = True  # 学習済みのパラメータを使用\n",
        "model = models.vgg16(pretrained=use_pretrained).to(device)\n",
        "\n",
        "\n",
        "model.classifier[6] = nn.Linear(in_features=4096, out_features=10).to(device)\n",
        "print(models.vgg16())"
      ],
      "execution_count": 0,
      "outputs": [
        {
          "output_type": "stream",
          "text": [
            "VGG(\n",
            "  (features): Sequential(\n",
            "    (0): Conv2d(3, 64, kernel_size=(3, 3), stride=(1, 1), padding=(1, 1))\n",
            "    (1): ReLU(inplace=True)\n",
            "    (2): Conv2d(64, 64, kernel_size=(3, 3), stride=(1, 1), padding=(1, 1))\n",
            "    (3): ReLU(inplace=True)\n",
            "    (4): MaxPool2d(kernel_size=2, stride=2, padding=0, dilation=1, ceil_mode=False)\n",
            "    (5): Conv2d(64, 128, kernel_size=(3, 3), stride=(1, 1), padding=(1, 1))\n",
            "    (6): ReLU(inplace=True)\n",
            "    (7): Conv2d(128, 128, kernel_size=(3, 3), stride=(1, 1), padding=(1, 1))\n",
            "    (8): ReLU(inplace=True)\n",
            "    (9): MaxPool2d(kernel_size=2, stride=2, padding=0, dilation=1, ceil_mode=False)\n",
            "    (10): Conv2d(128, 256, kernel_size=(3, 3), stride=(1, 1), padding=(1, 1))\n",
            "    (11): ReLU(inplace=True)\n",
            "    (12): Conv2d(256, 256, kernel_size=(3, 3), stride=(1, 1), padding=(1, 1))\n",
            "    (13): ReLU(inplace=True)\n",
            "    (14): Conv2d(256, 256, kernel_size=(3, 3), stride=(1, 1), padding=(1, 1))\n",
            "    (15): ReLU(inplace=True)\n",
            "    (16): MaxPool2d(kernel_size=2, stride=2, padding=0, dilation=1, ceil_mode=False)\n",
            "    (17): Conv2d(256, 512, kernel_size=(3, 3), stride=(1, 1), padding=(1, 1))\n",
            "    (18): ReLU(inplace=True)\n",
            "    (19): Conv2d(512, 512, kernel_size=(3, 3), stride=(1, 1), padding=(1, 1))\n",
            "    (20): ReLU(inplace=True)\n",
            "    (21): Conv2d(512, 512, kernel_size=(3, 3), stride=(1, 1), padding=(1, 1))\n",
            "    (22): ReLU(inplace=True)\n",
            "    (23): MaxPool2d(kernel_size=2, stride=2, padding=0, dilation=1, ceil_mode=False)\n",
            "    (24): Conv2d(512, 512, kernel_size=(3, 3), stride=(1, 1), padding=(1, 1))\n",
            "    (25): ReLU(inplace=True)\n",
            "    (26): Conv2d(512, 512, kernel_size=(3, 3), stride=(1, 1), padding=(1, 1))\n",
            "    (27): ReLU(inplace=True)\n",
            "    (28): Conv2d(512, 512, kernel_size=(3, 3), stride=(1, 1), padding=(1, 1))\n",
            "    (29): ReLU(inplace=True)\n",
            "    (30): MaxPool2d(kernel_size=2, stride=2, padding=0, dilation=1, ceil_mode=False)\n",
            "  )\n",
            "  (avgpool): AdaptiveAvgPool2d(output_size=(7, 7))\n",
            "  (classifier): Sequential(\n",
            "    (0): Linear(in_features=25088, out_features=4096, bias=True)\n",
            "    (1): ReLU(inplace=True)\n",
            "    (2): Dropout(p=0.5, inplace=False)\n",
            "    (3): Linear(in_features=4096, out_features=4096, bias=True)\n",
            "    (4): ReLU(inplace=True)\n",
            "    (5): Dropout(p=0.5, inplace=False)\n",
            "    (6): Linear(in_features=4096, out_features=1000, bias=True)\n",
            "  )\n",
            ")\n"
          ],
          "name": "stdout"
        }
      ]
    },
    {
      "cell_type": "code",
      "metadata": {
        "id": "7ucS-kgl_8e6",
        "colab_type": "code",
        "colab": {}
      },
      "source": [
        "# 損失関数の設定\n",
        "criterion = nn.CrossEntropyLoss()"
      ],
      "execution_count": 0,
      "outputs": []
    },
    {
      "cell_type": "code",
      "metadata": {
        "id": "K6M81xo5ABtA",
        "colab_type": "code",
        "outputId": "7aabbced-30fd-40a4-b346-01cebbf4133e",
        "colab": {
          "base_uri": "https://localhost:8080/",
          "height": 255
        }
      },
      "source": [
        "# 転移学習で学習させるパラメータを、変数params_to_updateに格納する\n",
        "params_to_update = []\n",
        "\n",
        "# 学習させるパラメータ名\n",
        "update_param_names = [\"classifier.6.weight\", \"classifier.6.bias\"]\n",
        "\n",
        "# 学習させるパラメータ以外は勾配計算をなくし、変化しないように設定\n",
        "for name, param in model.named_parameters():\n",
        "    if name in update_param_names:\n",
        "        param.requires_grad = True\n",
        "        params_to_update.append(param)\n",
        "        print(name)\n",
        "    else:\n",
        "        param.requires_grad = False\n",
        "\n",
        "# params_to_updateの中身を確認\n",
        "print(\"-----------\")\n",
        "print(params_to_update)"
      ],
      "execution_count": 0,
      "outputs": [
        {
          "output_type": "stream",
          "text": [
            "classifier.6.weight\n",
            "classifier.6.bias\n",
            "-----------\n",
            "[Parameter containing:\n",
            "tensor([[-0.0014, -0.0081,  0.0098,  ...,  0.0129,  0.0145, -0.0141],\n",
            "        [-0.0028,  0.0140, -0.0086,  ..., -0.0146, -0.0046,  0.0091],\n",
            "        [ 0.0140, -0.0031,  0.0012,  ..., -0.0070,  0.0045,  0.0063],\n",
            "        ...,\n",
            "        [ 0.0112, -0.0013, -0.0017,  ...,  0.0053,  0.0151,  0.0154],\n",
            "        [-0.0039, -0.0013, -0.0004,  ..., -0.0102, -0.0012, -0.0020],\n",
            "        [-0.0096, -0.0073, -0.0127,  ...,  0.0061, -0.0066, -0.0063]],\n",
            "       device='cuda:0', requires_grad=True), Parameter containing:\n",
            "tensor([-0.0090, -0.0148,  0.0003, -0.0005, -0.0026,  0.0070,  0.0129, -0.0063,\n",
            "         0.0155,  0.0136], device='cuda:0', requires_grad=True)]\n"
          ],
          "name": "stdout"
        }
      ]
    },
    {
      "cell_type": "code",
      "metadata": {
        "id": "3THTHkWZAJuv",
        "colab_type": "code",
        "colab": {}
      },
      "source": [
        "# 最適化手法の設定\n",
        "optimizer = optim.SGD(params=params_to_update, lr=0.001, momentum=0.9)\n"
      ],
      "execution_count": 0,
      "outputs": []
    },
    {
      "cell_type": "code",
      "metadata": {
        "id": "laJBmckLOLhZ",
        "colab_type": "code",
        "colab": {}
      },
      "source": [
        "#EarlyStopipingを導入するために、pytorchtools.pyをアップする\n",
        "from pytorchtools import EarlyStopping"
      ],
      "execution_count": 0,
      "outputs": []
    },
    {
      "cell_type": "code",
      "metadata": {
        "id": "oRiJFkdjAAf3",
        "colab_type": "code",
        "outputId": "5f783680-baeb-4a4f-f9eb-6782a3c13622",
        "colab": {
          "base_uri": "https://localhost:8080/",
          "height": 617
        }
      },
      "source": [
        "epochs = 150\n",
        "running_loss_history = []\n",
        "running_corrects_history = []\n",
        "val_running_loss_history = []\n",
        "val_running_corrects_history = []\n",
        "early_stopping = EarlyStopping(patience=20, verbose=True)  # early stopping patience; how long to wait after last time validation loss improved.\n",
        "\n",
        "for e in range(epochs):\n",
        "  \n",
        "  running_loss = 0.0\n",
        "  running_corrects = 0.0\n",
        "  val_running_loss = 0.0\n",
        "  val_running_corrects = 0.0\n",
        "\n",
        "  model.train() #学習モード\n",
        "  \n",
        "  for inputs, labels in tqdm(training_loader):\n",
        "#     DataLoaderのバッチサイズごとにforで取り出して計算\n",
        "#     ここのforの処理が終わると1エポック\n",
        "    inputs = inputs.to(device)\n",
        "    labels = labels.to(device)\n",
        "    outputs = model(inputs)\n",
        "    loss = criterion(outputs, labels)\n",
        "    \n",
        "#     一旦パラメーターの勾配をゼロにして\n",
        "    optimizer.zero_grad()\n",
        "#     勾配の計算\n",
        "    loss.backward()\n",
        "#     学習\n",
        "    optimizer.step()\n",
        "    \n",
        "#     分類わけなので、もっとも数字が大きいものをpredictとする\n",
        "#     バッチ処理しているので2次元目で比較\n",
        "    _, preds = torch.max(outputs, 1)\n",
        "    running_loss += loss.item()\n",
        "#     ラベルと合っているものを足し合わせてaccuracy計算\n",
        "    running_corrects += torch.sum(preds == labels.data)\n",
        "  \n",
        "  model.eval() #検証モード\n",
        "#     pytorchでは勾配の計算の高速化のため、パラメーターを保持しているがテスト時はいらないので止める\n",
        "  with torch.no_grad():\n",
        "    for val_inputs, val_labels in tqdm(validation_loader):\n",
        "      val_inputs = val_inputs.to(device)\n",
        "      val_labels = val_labels.to(device)\n",
        "      val_outputs = model(val_inputs)\n",
        "      val_loss = criterion(val_outputs, val_labels)\n",
        "      \n",
        "      _, val_preds = torch.max(val_outputs, 1)\n",
        "      val_running_loss += val_loss.item()\n",
        "      val_running_corrects += torch.sum(val_preds == val_labels.data)\n",
        "      \n",
        "#   学習過程を記録\n",
        "  epoch_loss = running_loss/len(training_loader.dataset)\n",
        "  epoch_acc = running_corrects.float()/ len(training_loader.dataset)\n",
        "  running_loss_history.append(epoch_loss)\n",
        "  running_corrects_history.append(epoch_acc)\n",
        "  \n",
        "  val_epoch_loss = val_running_loss/len(validation_loader.dataset)\n",
        "#     print('len-validation_loader :'+str(len(validation_loader)))\n",
        "#     print('len-validation_loader :'+str(len(validation_loader.dataset)))\n",
        "  val_epoch_acc = val_running_corrects.float()/len(validation_loader.dataset)\n",
        "  val_running_loss_history.append(val_epoch_loss)\n",
        "  val_running_corrects_history.append(val_epoch_acc)\n",
        "  \n",
        "  print('epoch *', (e+1))\n",
        "  print('training loss: {:.4f}, training acc {:.4f}'.format(epoch_loss, epoch_acc.item()))\n",
        "  print('validation loss: {:.4f}, validation acc{:.4f}'.format(val_epoch_loss,val_epoch_acc.item()))\n",
        "\n",
        "  early_stopping(val_epoch_loss, model)\n",
        "        \n",
        "  if early_stopping.early_stop:\n",
        "      print(\"Early stopping\")\n",
        "      break\n",
        "#学習済みモデルの保存\n",
        "save_path = './weights.pth'\n",
        "torch.save(model.state_dict(), save_path)"
      ],
      "execution_count": 0,
      "outputs": [
        {
          "output_type": "stream",
          "text": [
            "\n",
            "  0%|          | 0/79 [00:00<?, ?it/s]\u001b[A\n",
            "  1%|▏         | 1/79 [00:00<00:39,  1.96it/s]\u001b[A\n",
            "  3%|▎         | 2/79 [00:00<00:37,  2.06it/s]\u001b[A\n",
            "  4%|▍         | 3/79 [00:01<00:35,  2.14it/s]\u001b[A\n",
            "  5%|▌         | 4/79 [00:01<00:34,  2.20it/s]\u001b[A\n",
            "  6%|▋         | 5/79 [00:02<00:33,  2.24it/s]\u001b[A\n",
            "  8%|▊         | 6/79 [00:02<00:32,  2.27it/s]\u001b[A\n",
            "  9%|▉         | 7/79 [00:03<00:31,  2.30it/s]\u001b[A\n",
            " 10%|█         | 8/79 [00:03<00:30,  2.31it/s]\u001b[A\n",
            " 11%|█▏        | 9/79 [00:03<00:30,  2.32it/s]\u001b[A\n",
            " 13%|█▎        | 10/79 [00:04<00:29,  2.34it/s]\u001b[A\n",
            " 14%|█▍        | 11/79 [00:04<00:29,  2.34it/s]\u001b[A\n",
            " 15%|█▌        | 12/79 [00:05<00:28,  2.35it/s]\u001b[A"
          ],
          "name": "stderr"
        },
        {
          "output_type": "error",
          "ename": "KeyboardInterrupt",
          "evalue": "ignored",
          "traceback": [
            "\u001b[0;31m---------------------------------------------------------------------------\u001b[0m",
            "\u001b[0;31mKeyboardInterrupt\u001b[0m                         Traceback (most recent call last)",
            "\u001b[0;32m<ipython-input-23-63f3da75a26d>\u001b[0m in \u001b[0;36m<module>\u001b[0;34m()\u001b[0m\n\u001b[1;32m     15\u001b[0m   \u001b[0mmodel\u001b[0m\u001b[0;34m.\u001b[0m\u001b[0mtrain\u001b[0m\u001b[0;34m(\u001b[0m\u001b[0;34m)\u001b[0m \u001b[0;31m#学習モード\u001b[0m\u001b[0;34m\u001b[0m\u001b[0;34m\u001b[0m\u001b[0m\n\u001b[1;32m     16\u001b[0m \u001b[0;34m\u001b[0m\u001b[0m\n\u001b[0;32m---> 17\u001b[0;31m   \u001b[0;32mfor\u001b[0m \u001b[0minputs\u001b[0m\u001b[0;34m,\u001b[0m \u001b[0mlabels\u001b[0m \u001b[0;32min\u001b[0m \u001b[0mtqdm\u001b[0m\u001b[0;34m(\u001b[0m\u001b[0mtraining_loader\u001b[0m\u001b[0;34m)\u001b[0m\u001b[0;34m:\u001b[0m\u001b[0;34m\u001b[0m\u001b[0;34m\u001b[0m\u001b[0m\n\u001b[0m\u001b[1;32m     18\u001b[0m \u001b[0;31m#     DataLoaderのバッチサイズごとにforで取り出して計算\u001b[0m\u001b[0;34m\u001b[0m\u001b[0;34m\u001b[0m\u001b[0;34m\u001b[0m\u001b[0m\n\u001b[1;32m     19\u001b[0m \u001b[0;31m#     ここのforの処理が終わると1エポック\u001b[0m\u001b[0;34m\u001b[0m\u001b[0;34m\u001b[0m\u001b[0;34m\u001b[0m\u001b[0m\n",
            "\u001b[0;32m/usr/local/lib/python3.6/dist-packages/tqdm/std.py\u001b[0m in \u001b[0;36m__iter__\u001b[0;34m(self)\u001b[0m\n\u001b[1;32m   1089\u001b[0m             \"\"\"), fp_write=getattr(self.fp, 'write', sys.stderr.write))\n\u001b[1;32m   1090\u001b[0m \u001b[0;34m\u001b[0m\u001b[0m\n\u001b[0;32m-> 1091\u001b[0;31m         \u001b[0;32mfor\u001b[0m \u001b[0mobj\u001b[0m \u001b[0;32min\u001b[0m \u001b[0miterable\u001b[0m\u001b[0;34m:\u001b[0m\u001b[0;34m\u001b[0m\u001b[0;34m\u001b[0m\u001b[0m\n\u001b[0m\u001b[1;32m   1092\u001b[0m             \u001b[0;32myield\u001b[0m \u001b[0mobj\u001b[0m\u001b[0;34m\u001b[0m\u001b[0;34m\u001b[0m\u001b[0m\n\u001b[1;32m   1093\u001b[0m             \u001b[0;31m# Update and possibly print the progressbar.\u001b[0m\u001b[0;34m\u001b[0m\u001b[0;34m\u001b[0m\u001b[0;34m\u001b[0m\u001b[0m\n",
            "\u001b[0;32m/usr/local/lib/python3.6/dist-packages/torch/utils/data/dataloader.py\u001b[0m in \u001b[0;36m__next__\u001b[0;34m(self)\u001b[0m\n\u001b[1;32m    343\u001b[0m \u001b[0;34m\u001b[0m\u001b[0m\n\u001b[1;32m    344\u001b[0m     \u001b[0;32mdef\u001b[0m \u001b[0m__next__\u001b[0m\u001b[0;34m(\u001b[0m\u001b[0mself\u001b[0m\u001b[0;34m)\u001b[0m\u001b[0;34m:\u001b[0m\u001b[0;34m\u001b[0m\u001b[0;34m\u001b[0m\u001b[0m\n\u001b[0;32m--> 345\u001b[0;31m         \u001b[0mdata\u001b[0m \u001b[0;34m=\u001b[0m \u001b[0mself\u001b[0m\u001b[0;34m.\u001b[0m\u001b[0m_next_data\u001b[0m\u001b[0;34m(\u001b[0m\u001b[0;34m)\u001b[0m\u001b[0;34m\u001b[0m\u001b[0;34m\u001b[0m\u001b[0m\n\u001b[0m\u001b[1;32m    346\u001b[0m         \u001b[0mself\u001b[0m\u001b[0;34m.\u001b[0m\u001b[0m_num_yielded\u001b[0m \u001b[0;34m+=\u001b[0m \u001b[0;36m1\u001b[0m\u001b[0;34m\u001b[0m\u001b[0;34m\u001b[0m\u001b[0m\n\u001b[1;32m    347\u001b[0m         \u001b[0;32mif\u001b[0m \u001b[0mself\u001b[0m\u001b[0;34m.\u001b[0m\u001b[0m_dataset_kind\u001b[0m \u001b[0;34m==\u001b[0m \u001b[0m_DatasetKind\u001b[0m\u001b[0;34m.\u001b[0m\u001b[0mIterable\u001b[0m \u001b[0;32mand\u001b[0m\u001b[0;31m \u001b[0m\u001b[0;31m\\\u001b[0m\u001b[0;34m\u001b[0m\u001b[0;34m\u001b[0m\u001b[0m\n",
            "\u001b[0;32m/usr/local/lib/python3.6/dist-packages/torch/utils/data/dataloader.py\u001b[0m in \u001b[0;36m_next_data\u001b[0;34m(self)\u001b[0m\n\u001b[1;32m    383\u001b[0m     \u001b[0;32mdef\u001b[0m \u001b[0m_next_data\u001b[0m\u001b[0;34m(\u001b[0m\u001b[0mself\u001b[0m\u001b[0;34m)\u001b[0m\u001b[0;34m:\u001b[0m\u001b[0;34m\u001b[0m\u001b[0;34m\u001b[0m\u001b[0m\n\u001b[1;32m    384\u001b[0m         \u001b[0mindex\u001b[0m \u001b[0;34m=\u001b[0m \u001b[0mself\u001b[0m\u001b[0;34m.\u001b[0m\u001b[0m_next_index\u001b[0m\u001b[0;34m(\u001b[0m\u001b[0;34m)\u001b[0m  \u001b[0;31m# may raise StopIteration\u001b[0m\u001b[0;34m\u001b[0m\u001b[0;34m\u001b[0m\u001b[0m\n\u001b[0;32m--> 385\u001b[0;31m         \u001b[0mdata\u001b[0m \u001b[0;34m=\u001b[0m \u001b[0mself\u001b[0m\u001b[0;34m.\u001b[0m\u001b[0m_dataset_fetcher\u001b[0m\u001b[0;34m.\u001b[0m\u001b[0mfetch\u001b[0m\u001b[0;34m(\u001b[0m\u001b[0mindex\u001b[0m\u001b[0;34m)\u001b[0m  \u001b[0;31m# may raise StopIteration\u001b[0m\u001b[0;34m\u001b[0m\u001b[0;34m\u001b[0m\u001b[0m\n\u001b[0m\u001b[1;32m    386\u001b[0m         \u001b[0;32mif\u001b[0m \u001b[0mself\u001b[0m\u001b[0;34m.\u001b[0m\u001b[0m_pin_memory\u001b[0m\u001b[0;34m:\u001b[0m\u001b[0;34m\u001b[0m\u001b[0;34m\u001b[0m\u001b[0m\n\u001b[1;32m    387\u001b[0m             \u001b[0mdata\u001b[0m \u001b[0;34m=\u001b[0m \u001b[0m_utils\u001b[0m\u001b[0;34m.\u001b[0m\u001b[0mpin_memory\u001b[0m\u001b[0;34m.\u001b[0m\u001b[0mpin_memory\u001b[0m\u001b[0;34m(\u001b[0m\u001b[0mdata\u001b[0m\u001b[0;34m)\u001b[0m\u001b[0;34m\u001b[0m\u001b[0;34m\u001b[0m\u001b[0m\n",
            "\u001b[0;32m/usr/local/lib/python3.6/dist-packages/torch/utils/data/_utils/fetch.py\u001b[0m in \u001b[0;36mfetch\u001b[0;34m(self, possibly_batched_index)\u001b[0m\n\u001b[1;32m     42\u001b[0m     \u001b[0;32mdef\u001b[0m \u001b[0mfetch\u001b[0m\u001b[0;34m(\u001b[0m\u001b[0mself\u001b[0m\u001b[0;34m,\u001b[0m \u001b[0mpossibly_batched_index\u001b[0m\u001b[0;34m)\u001b[0m\u001b[0;34m:\u001b[0m\u001b[0;34m\u001b[0m\u001b[0;34m\u001b[0m\u001b[0m\n\u001b[1;32m     43\u001b[0m         \u001b[0;32mif\u001b[0m \u001b[0mself\u001b[0m\u001b[0;34m.\u001b[0m\u001b[0mauto_collation\u001b[0m\u001b[0;34m:\u001b[0m\u001b[0;34m\u001b[0m\u001b[0;34m\u001b[0m\u001b[0m\n\u001b[0;32m---> 44\u001b[0;31m             \u001b[0mdata\u001b[0m \u001b[0;34m=\u001b[0m \u001b[0;34m[\u001b[0m\u001b[0mself\u001b[0m\u001b[0;34m.\u001b[0m\u001b[0mdataset\u001b[0m\u001b[0;34m[\u001b[0m\u001b[0midx\u001b[0m\u001b[0;34m]\u001b[0m \u001b[0;32mfor\u001b[0m \u001b[0midx\u001b[0m \u001b[0;32min\u001b[0m \u001b[0mpossibly_batched_index\u001b[0m\u001b[0;34m]\u001b[0m\u001b[0;34m\u001b[0m\u001b[0;34m\u001b[0m\u001b[0m\n\u001b[0m\u001b[1;32m     45\u001b[0m         \u001b[0;32melse\u001b[0m\u001b[0;34m:\u001b[0m\u001b[0;34m\u001b[0m\u001b[0;34m\u001b[0m\u001b[0m\n\u001b[1;32m     46\u001b[0m             \u001b[0mdata\u001b[0m \u001b[0;34m=\u001b[0m \u001b[0mself\u001b[0m\u001b[0;34m.\u001b[0m\u001b[0mdataset\u001b[0m\u001b[0;34m[\u001b[0m\u001b[0mpossibly_batched_index\u001b[0m\u001b[0;34m]\u001b[0m\u001b[0;34m\u001b[0m\u001b[0;34m\u001b[0m\u001b[0m\n",
            "\u001b[0;32m/usr/local/lib/python3.6/dist-packages/torch/utils/data/_utils/fetch.py\u001b[0m in \u001b[0;36m<listcomp>\u001b[0;34m(.0)\u001b[0m\n\u001b[1;32m     42\u001b[0m     \u001b[0;32mdef\u001b[0m \u001b[0mfetch\u001b[0m\u001b[0;34m(\u001b[0m\u001b[0mself\u001b[0m\u001b[0;34m,\u001b[0m \u001b[0mpossibly_batched_index\u001b[0m\u001b[0;34m)\u001b[0m\u001b[0;34m:\u001b[0m\u001b[0;34m\u001b[0m\u001b[0;34m\u001b[0m\u001b[0m\n\u001b[1;32m     43\u001b[0m         \u001b[0;32mif\u001b[0m \u001b[0mself\u001b[0m\u001b[0;34m.\u001b[0m\u001b[0mauto_collation\u001b[0m\u001b[0;34m:\u001b[0m\u001b[0;34m\u001b[0m\u001b[0;34m\u001b[0m\u001b[0m\n\u001b[0;32m---> 44\u001b[0;31m             \u001b[0mdata\u001b[0m \u001b[0;34m=\u001b[0m \u001b[0;34m[\u001b[0m\u001b[0mself\u001b[0m\u001b[0;34m.\u001b[0m\u001b[0mdataset\u001b[0m\u001b[0;34m[\u001b[0m\u001b[0midx\u001b[0m\u001b[0;34m]\u001b[0m \u001b[0;32mfor\u001b[0m \u001b[0midx\u001b[0m \u001b[0;32min\u001b[0m \u001b[0mpossibly_batched_index\u001b[0m\u001b[0;34m]\u001b[0m\u001b[0;34m\u001b[0m\u001b[0;34m\u001b[0m\u001b[0m\n\u001b[0m\u001b[1;32m     45\u001b[0m         \u001b[0;32melse\u001b[0m\u001b[0;34m:\u001b[0m\u001b[0;34m\u001b[0m\u001b[0;34m\u001b[0m\u001b[0m\n\u001b[1;32m     46\u001b[0m             \u001b[0mdata\u001b[0m \u001b[0;34m=\u001b[0m \u001b[0mself\u001b[0m\u001b[0;34m.\u001b[0m\u001b[0mdataset\u001b[0m\u001b[0;34m[\u001b[0m\u001b[0mpossibly_batched_index\u001b[0m\u001b[0;34m]\u001b[0m\u001b[0;34m\u001b[0m\u001b[0;34m\u001b[0m\u001b[0m\n",
            "\u001b[0;32m/usr/local/lib/python3.6/dist-packages/torchvision/datasets/stl10.py\u001b[0m in \u001b[0;36m__getitem__\u001b[0;34m(self, index)\u001b[0m\n\u001b[1;32m    121\u001b[0m \u001b[0;34m\u001b[0m\u001b[0m\n\u001b[1;32m    122\u001b[0m         \u001b[0;32mif\u001b[0m \u001b[0mself\u001b[0m\u001b[0;34m.\u001b[0m\u001b[0mtransform\u001b[0m \u001b[0;32mis\u001b[0m \u001b[0;32mnot\u001b[0m \u001b[0;32mNone\u001b[0m\u001b[0;34m:\u001b[0m\u001b[0;34m\u001b[0m\u001b[0;34m\u001b[0m\u001b[0m\n\u001b[0;32m--> 123\u001b[0;31m             \u001b[0mimg\u001b[0m \u001b[0;34m=\u001b[0m \u001b[0mself\u001b[0m\u001b[0;34m.\u001b[0m\u001b[0mtransform\u001b[0m\u001b[0;34m(\u001b[0m\u001b[0mimg\u001b[0m\u001b[0;34m)\u001b[0m\u001b[0;34m\u001b[0m\u001b[0;34m\u001b[0m\u001b[0m\n\u001b[0m\u001b[1;32m    124\u001b[0m \u001b[0;34m\u001b[0m\u001b[0m\n\u001b[1;32m    125\u001b[0m         \u001b[0;32mif\u001b[0m \u001b[0mself\u001b[0m\u001b[0;34m.\u001b[0m\u001b[0mtarget_transform\u001b[0m \u001b[0;32mis\u001b[0m \u001b[0;32mnot\u001b[0m \u001b[0;32mNone\u001b[0m\u001b[0;34m:\u001b[0m\u001b[0;34m\u001b[0m\u001b[0;34m\u001b[0m\u001b[0m\n",
            "\u001b[0;32m/usr/local/lib/python3.6/dist-packages/torchvision/transforms/transforms.py\u001b[0m in \u001b[0;36m__call__\u001b[0;34m(self, img)\u001b[0m\n\u001b[1;32m     68\u001b[0m     \u001b[0;32mdef\u001b[0m \u001b[0m__call__\u001b[0m\u001b[0;34m(\u001b[0m\u001b[0mself\u001b[0m\u001b[0;34m,\u001b[0m \u001b[0mimg\u001b[0m\u001b[0;34m)\u001b[0m\u001b[0;34m:\u001b[0m\u001b[0;34m\u001b[0m\u001b[0;34m\u001b[0m\u001b[0m\n\u001b[1;32m     69\u001b[0m         \u001b[0;32mfor\u001b[0m \u001b[0mt\u001b[0m \u001b[0;32min\u001b[0m \u001b[0mself\u001b[0m\u001b[0;34m.\u001b[0m\u001b[0mtransforms\u001b[0m\u001b[0;34m:\u001b[0m\u001b[0;34m\u001b[0m\u001b[0;34m\u001b[0m\u001b[0m\n\u001b[0;32m---> 70\u001b[0;31m             \u001b[0mimg\u001b[0m \u001b[0;34m=\u001b[0m \u001b[0mt\u001b[0m\u001b[0;34m(\u001b[0m\u001b[0mimg\u001b[0m\u001b[0;34m)\u001b[0m\u001b[0;34m\u001b[0m\u001b[0;34m\u001b[0m\u001b[0m\n\u001b[0m\u001b[1;32m     71\u001b[0m         \u001b[0;32mreturn\u001b[0m \u001b[0mimg\u001b[0m\u001b[0;34m\u001b[0m\u001b[0;34m\u001b[0m\u001b[0m\n\u001b[1;32m     72\u001b[0m \u001b[0;34m\u001b[0m\u001b[0m\n",
            "\u001b[0;32m/usr/local/lib/python3.6/dist-packages/torchvision/transforms/transforms.py\u001b[0m in \u001b[0;36m__call__\u001b[0;34m(self, pic)\u001b[0m\n\u001b[1;32m     99\u001b[0m             \u001b[0mTensor\u001b[0m\u001b[0;34m:\u001b[0m \u001b[0mConverted\u001b[0m \u001b[0mimage\u001b[0m\u001b[0;34m.\u001b[0m\u001b[0;34m\u001b[0m\u001b[0;34m\u001b[0m\u001b[0m\n\u001b[1;32m    100\u001b[0m         \"\"\"\n\u001b[0;32m--> 101\u001b[0;31m         \u001b[0;32mreturn\u001b[0m \u001b[0mF\u001b[0m\u001b[0;34m.\u001b[0m\u001b[0mto_tensor\u001b[0m\u001b[0;34m(\u001b[0m\u001b[0mpic\u001b[0m\u001b[0;34m)\u001b[0m\u001b[0;34m\u001b[0m\u001b[0;34m\u001b[0m\u001b[0m\n\u001b[0m\u001b[1;32m    102\u001b[0m \u001b[0;34m\u001b[0m\u001b[0m\n\u001b[1;32m    103\u001b[0m     \u001b[0;32mdef\u001b[0m \u001b[0m__repr__\u001b[0m\u001b[0;34m(\u001b[0m\u001b[0mself\u001b[0m\u001b[0;34m)\u001b[0m\u001b[0;34m:\u001b[0m\u001b[0;34m\u001b[0m\u001b[0;34m\u001b[0m\u001b[0m\n",
            "\u001b[0;32m/usr/local/lib/python3.6/dist-packages/torchvision/transforms/functional.py\u001b[0m in \u001b[0;36mto_tensor\u001b[0;34m(pic)\u001b[0m\n\u001b[1;32m     96\u001b[0m     \u001b[0;31m# put it from HWC to CHW format\u001b[0m\u001b[0;34m\u001b[0m\u001b[0;34m\u001b[0m\u001b[0;34m\u001b[0m\u001b[0m\n\u001b[1;32m     97\u001b[0m     \u001b[0;31m# yikes, this transpose takes 80% of the loading time/CPU\u001b[0m\u001b[0;34m\u001b[0m\u001b[0;34m\u001b[0m\u001b[0;34m\u001b[0m\u001b[0m\n\u001b[0;32m---> 98\u001b[0;31m     \u001b[0mimg\u001b[0m \u001b[0;34m=\u001b[0m \u001b[0mimg\u001b[0m\u001b[0;34m.\u001b[0m\u001b[0mtranspose\u001b[0m\u001b[0;34m(\u001b[0m\u001b[0;36m0\u001b[0m\u001b[0;34m,\u001b[0m \u001b[0;36m1\u001b[0m\u001b[0;34m)\u001b[0m\u001b[0;34m.\u001b[0m\u001b[0mtranspose\u001b[0m\u001b[0;34m(\u001b[0m\u001b[0;36m0\u001b[0m\u001b[0;34m,\u001b[0m \u001b[0;36m2\u001b[0m\u001b[0;34m)\u001b[0m\u001b[0;34m.\u001b[0m\u001b[0mcontiguous\u001b[0m\u001b[0;34m(\u001b[0m\u001b[0;34m)\u001b[0m\u001b[0;34m\u001b[0m\u001b[0;34m\u001b[0m\u001b[0m\n\u001b[0m\u001b[1;32m     99\u001b[0m     \u001b[0;32mif\u001b[0m \u001b[0misinstance\u001b[0m\u001b[0;34m(\u001b[0m\u001b[0mimg\u001b[0m\u001b[0;34m,\u001b[0m \u001b[0mtorch\u001b[0m\u001b[0;34m.\u001b[0m\u001b[0mByteTensor\u001b[0m\u001b[0;34m)\u001b[0m\u001b[0;34m:\u001b[0m\u001b[0;34m\u001b[0m\u001b[0;34m\u001b[0m\u001b[0m\n\u001b[1;32m    100\u001b[0m         \u001b[0;32mreturn\u001b[0m \u001b[0mimg\u001b[0m\u001b[0;34m.\u001b[0m\u001b[0mfloat\u001b[0m\u001b[0;34m(\u001b[0m\u001b[0;34m)\u001b[0m\u001b[0;34m.\u001b[0m\u001b[0mdiv\u001b[0m\u001b[0;34m(\u001b[0m\u001b[0;36m255\u001b[0m\u001b[0;34m)\u001b[0m\u001b[0;34m\u001b[0m\u001b[0;34m\u001b[0m\u001b[0m\n",
            "\u001b[0;31mKeyboardInterrupt\u001b[0m: "
          ]
        }
      ]
    },
    {
      "cell_type": "code",
      "metadata": {
        "id": "NRqjvfpzBeOm",
        "colab_type": "code",
        "outputId": "c6112de9-e262-4f1f-a39c-cedfb2ad98d4",
        "colab": {
          "base_uri": "https://localhost:8080/",
          "height": 282
        }
      },
      "source": [
        "plt.plot(running_loss_history, label='training loss')\n",
        "plt.plot(val_running_loss_history, label='validation loss')\n",
        "plt.legend()"
      ],
      "execution_count": 0,
      "outputs": [
        {
          "output_type": "execute_result",
          "data": {
            "text/plain": [
              "<matplotlib.legend.Legend at 0x7f9be71d79b0>"
            ]
          },
          "metadata": {
            "tags": []
          },
          "execution_count": 24
        },
        {
          "output_type": "display_data",
          "data": {
            "image/png": "[encoded data removed]",
            "text/plain": [
              "<Figure size 432x288 with 1 Axes>"
            ]
          },
          "metadata": {
            "tags": [],
            "needs_background": "light"
          }
        }
      ]
    },
    {
      "cell_type": "code",
      "metadata": {
        "id": "gfzejZLABiTR",
        "colab_type": "code",
        "outputId": "0f0029be-bf4a-401d-a78c-2b9e69f48eb9",
        "colab": {
          "base_uri": "https://localhost:8080/",
          "height": 282
        }
      },
      "source": [
        "plt.plot(running_corrects_history, label='training accuracy')\n",
        "plt.plot(val_running_corrects_history, label='validation accuracy')\n",
        "plt.legend()"
      ],
      "execution_count": 0,
      "outputs": [
        {
          "output_type": "execute_result",
          "data": {
            "text/plain": [
              "<matplotlib.legend.Legend at 0x7f7d68dbb6a0>"
            ]
          },
          "metadata": {
            "tags": []
          },
          "execution_count": 120
        },
        {
          "output_type": "display_data",
          "data": {
            "image/png": "[encoded data removed]",
            "text/plain": [
              "<Figure size 432x288 with 1 Axes>"
            ]
          },
          "metadata": {
            "tags": [],
            "needs_background": "light"
          }
        }
      ]
    },
    {
      "cell_type": "code",
      "metadata": {
        "id": "rbobKSc-zwPS",
        "colab_type": "code",
        "colab": {}
      },
      "source": [
        "#学習済みモデルの保存\n",
        "save_path = './weights.pth'\n",
        "torch.save(model.state_dict(), save_path)"
      ],
      "execution_count": 0,
      "outputs": []
    },
    {
      "cell_type": "markdown",
      "metadata": {
        "id": "DElEKFy0rJEP",
        "colab_type": "text"
      },
      "source": [
        ""
      ]
    },
    {
      "cell_type": "markdown",
      "metadata": {
        "id": "7X3Nwxj9rNLR",
        "colab_type": "text"
      },
      "source": [
        "# **VGG16ファインチューニング**\n",
        "参考：https://github.com/YutaroOgawa/pytorch_advanced"
      ]
    },
    {
      "cell_type": "code",
      "metadata": {
        "id": "1qVOdn8wrQ1f",
        "colab_type": "code",
        "outputId": "620b5a76-53c0-4be2-e317-1021bb61c3de",
        "colab": {
          "base_uri": "https://localhost:8080/",
          "height": 782
        }
      },
      "source": [
        "# 学習済みのVGG-16モデルをロード\n",
        "# VGG-16モデルのインスタンスを生成\n",
        "#GPU使う\n",
        "device = torch.device(\"cuda:0\" if torch.cuda.is_available() else \"cpu\")\n",
        "use_pretrained = True  # 学習済みのパラメータを使用\n",
        "model = models.vgg16(pretrained=use_pretrained).to(device)\n",
        "print(model)\n",
        "\n",
        "\n",
        "model.classifier[6] = nn.Linear(in_features=4096, out_features=10).to(device)"
      ],
      "execution_count": 60,
      "outputs": [
        {
          "output_type": "stream",
          "text": [
            "VGG(\n",
            "  (features): Sequential(\n",
            "    (0): Conv2d(3, 64, kernel_size=(3, 3), stride=(1, 1), padding=(1, 1))\n",
            "    (1): ReLU(inplace=True)\n",
            "    (2): Conv2d(64, 64, kernel_size=(3, 3), stride=(1, 1), padding=(1, 1))\n",
            "    (3): ReLU(inplace=True)\n",
            "    (4): MaxPool2d(kernel_size=2, stride=2, padding=0, dilation=1, ceil_mode=False)\n",
            "    (5): Conv2d(64, 128, kernel_size=(3, 3), stride=(1, 1), padding=(1, 1))\n",
            "    (6): ReLU(inplace=True)\n",
            "    (7): Conv2d(128, 128, kernel_size=(3, 3), stride=(1, 1), padding=(1, 1))\n",
            "    (8): ReLU(inplace=True)\n",
            "    (9): MaxPool2d(kernel_size=2, stride=2, padding=0, dilation=1, ceil_mode=False)\n",
            "    (10): Conv2d(128, 256, kernel_size=(3, 3), stride=(1, 1), padding=(1, 1))\n",
            "    (11): ReLU(inplace=True)\n",
            "    (12): Conv2d(256, 256, kernel_size=(3, 3), stride=(1, 1), padding=(1, 1))\n",
            "    (13): ReLU(inplace=True)\n",
            "    (14): Conv2d(256, 256, kernel_size=(3, 3), stride=(1, 1), padding=(1, 1))\n",
            "    (15): ReLU(inplace=True)\n",
            "    (16): MaxPool2d(kernel_size=2, stride=2, padding=0, dilation=1, ceil_mode=False)\n",
            "    (17): Conv2d(256, 512, kernel_size=(3, 3), stride=(1, 1), padding=(1, 1))\n",
            "    (18): ReLU(inplace=True)\n",
            "    (19): Conv2d(512, 512, kernel_size=(3, 3), stride=(1, 1), padding=(1, 1))\n",
            "    (20): ReLU(inplace=True)\n",
            "    (21): Conv2d(512, 512, kernel_size=(3, 3), stride=(1, 1), padding=(1, 1))\n",
            "    (22): ReLU(inplace=True)\n",
            "    (23): MaxPool2d(kernel_size=2, stride=2, padding=0, dilation=1, ceil_mode=False)\n",
            "    (24): Conv2d(512, 512, kernel_size=(3, 3), stride=(1, 1), padding=(1, 1))\n",
            "    (25): ReLU(inplace=True)\n",
            "    (26): Conv2d(512, 512, kernel_size=(3, 3), stride=(1, 1), padding=(1, 1))\n",
            "    (27): ReLU(inplace=True)\n",
            "    (28): Conv2d(512, 512, kernel_size=(3, 3), stride=(1, 1), padding=(1, 1))\n",
            "    (29): ReLU(inplace=True)\n",
            "    (30): MaxPool2d(kernel_size=2, stride=2, padding=0, dilation=1, ceil_mode=False)\n",
            "  )\n",
            "  (avgpool): AdaptiveAvgPool2d(output_size=(7, 7))\n",
            "  (classifier): Sequential(\n",
            "    (0): Linear(in_features=25088, out_features=4096, bias=True)\n",
            "    (1): ReLU(inplace=True)\n",
            "    (2): Dropout(p=0.5, inplace=False)\n",
            "    (3): Linear(in_features=4096, out_features=4096, bias=True)\n",
            "    (4): ReLU(inplace=True)\n",
            "    (5): Dropout(p=0.5, inplace=False)\n",
            "    (6): Linear(in_features=4096, out_features=1000, bias=True)\n",
            "  )\n",
            ")\n"
          ],
          "name": "stdout"
        }
      ]
    },
    {
      "cell_type": "code",
      "metadata": {
        "id": "_pK-cn-erquZ",
        "colab_type": "code",
        "colab": {}
      },
      "source": [
        "# 損失関数の設定\n",
        "criterion = nn.CrossEntropyLoss()"
      ],
      "execution_count": 0,
      "outputs": []
    },
    {
      "cell_type": "code",
      "metadata": {
        "id": "iGOeHYBlrvGh",
        "colab_type": "code",
        "outputId": "3978f92c-07d9-4763-a187-ac3306194a36",
        "colab": {
          "base_uri": "https://localhost:8080/",
          "height": 561
        }
      },
      "source": [
        "# ファインチューニングで学習させるパラメータを、変数params_to_updateの1～3に格納する\n",
        "\n",
        "params_to_update_1 = []\n",
        "params_to_update_2 = []\n",
        "params_to_update_3 = []\n",
        "\n",
        "# 再学習するパラメーターを指定する\n",
        "update_param_names_1 = [\"features\"]\n",
        "update_param_names_2 = [\"classifier.0.weight\",\n",
        "                        \"classifier.0.bias\", \"classifier.3.weight\", \"classifier.3.bias\"]\n",
        "update_param_names_3 = [\"classifier.6.weight\", \"classifier.6.bias\"]\n",
        "\n",
        "# パラメータごとに各リストに格納する\n",
        "for name, param in model.named_parameters():\n",
        "    if update_param_names_1[0] in name:\n",
        "    \n",
        "        param.requires_grad = True\n",
        "        params_to_update_1.append(param)\n",
        "        print(\"params_to_update_1に格納：\", name)\n",
        "\n",
        "    elif name in update_param_names_2:\n",
        "        param.requires_grad = True\n",
        "        params_to_update_2.append(param)\n",
        "        print(\"params_to_update_2に格納：\", name)\n",
        "\n",
        "    elif name in update_param_names_3:\n",
        "        param.requires_grad = True\n",
        "        params_to_update_3.append(param)\n",
        "        print(\"params_to_update_3に格納：\", name)\n",
        "\n",
        "    else:\n",
        "        param.requires_grad = False\n",
        "        print(\"勾配計算なし。学習しない：\", name)\n",
        "  "
      ],
      "execution_count": 62,
      "outputs": [
        {
          "output_type": "stream",
          "text": [
            "params_to_update_1に格納： features.0.weight\n",
            "params_to_update_1に格納： features.0.bias\n",
            "params_to_update_1に格納： features.2.weight\n",
            "params_to_update_1に格納： features.2.bias\n",
            "params_to_update_1に格納： features.5.weight\n",
            "params_to_update_1に格納： features.5.bias\n",
            "params_to_update_1に格納： features.7.weight\n",
            "params_to_update_1に格納： features.7.bias\n",
            "params_to_update_1に格納： features.10.weight\n",
            "params_to_update_1に格納： features.10.bias\n",
            "params_to_update_1に格納： features.12.weight\n",
            "params_to_update_1に格納： features.12.bias\n",
            "params_to_update_1に格納： features.14.weight\n",
            "params_to_update_1に格納： features.14.bias\n",
            "params_to_update_1に格納： features.17.weight\n",
            "params_to_update_1に格納： features.17.bias\n",
            "params_to_update_1に格納： features.19.weight\n",
            "params_to_update_1に格納： features.19.bias\n",
            "params_to_update_1に格納： features.21.weight\n",
            "params_to_update_1に格納： features.21.bias\n",
            "params_to_update_1に格納： features.24.weight\n",
            "params_to_update_1に格納： features.24.bias\n",
            "params_to_update_1に格納： features.26.weight\n",
            "params_to_update_1に格納： features.26.bias\n",
            "params_to_update_1に格納： features.28.weight\n",
            "params_to_update_1に格納： features.28.bias\n",
            "params_to_update_2に格納： classifier.0.weight\n",
            "params_to_update_2に格納： classifier.0.bias\n",
            "params_to_update_2に格納： classifier.3.weight\n",
            "params_to_update_2に格納： classifier.3.bias\n",
            "params_to_update_3に格納： classifier.6.weight\n",
            "params_to_update_3に格納： classifier.6.bias\n"
          ],
          "name": "stdout"
        }
      ]
    },
    {
      "cell_type": "code",
      "metadata": {
        "id": "D6YJbz_9__lB",
        "colab_type": "code",
        "colab": {}
      },
      "source": [
        "#EarlyStopipingを導入するために、pytorchtools.pyをアップする\n",
        "from pytorchtools import EarlyStopping"
      ],
      "execution_count": 0,
      "outputs": []
    },
    {
      "cell_type": "code",
      "metadata": {
        "id": "PJXgtFdZr0J0",
        "colab_type": "code",
        "colab": {}
      },
      "source": [
        "# 最適化手法の設定\n",
        "optimizer = optim.SGD([\n",
        "    {'params': params_to_update_1, 'lr': 1e-4},\n",
        "    {'params': params_to_update_2, 'lr': 5e-4},\n",
        "    {'params': params_to_update_3, 'lr': 1e-3}\n",
        "], momentum=0.9)"
      ],
      "execution_count": 0,
      "outputs": []
    },
    {
      "cell_type": "code",
      "metadata": {
        "id": "J6ci35vHsMxV",
        "colab_type": "code",
        "outputId": "c9f15f79-4730-49a6-93cc-18a7f9150ce3",
        "colab": {
          "base_uri": "https://localhost:8080/",
          "height": 646
        }
      },
      "source": [
        "epochs = 60\n",
        "running_loss_history = []\n",
        "running_corrects_history = []\n",
        "val_running_loss_history = []\n",
        "val_running_corrects_history = []\n",
        "early_stopping = EarlyStopping(patience=3, verbose=True)  # early stopping patience; how long to wait after last time validation loss improved.\n",
        "\n",
        "for e in range(epochs):\n",
        "  \n",
        "  running_loss = 0.0\n",
        "  running_corrects = 0.0\n",
        "  val_running_loss = 0.0\n",
        "  val_running_corrects = 0.0\n",
        "\n",
        "  model.train() #学習モード\n",
        "  \n",
        "  for inputs, labels in training_loader:\n",
        "#     DataLoaderのバッチサイズごとにforで取り出して計算\n",
        "#     ここのforの処理が終わると1エポック\n",
        "    inputs = inputs.to(device)\n",
        "    labels = labels.to(device)\n",
        "    outputs = model(inputs)\n",
        "    loss = criterion(outputs, labels)\n",
        "    \n",
        "#     一旦パラメーターの勾配をゼロにして\n",
        "    optimizer.zero_grad()\n",
        "#     勾配の計算\n",
        "    loss.backward()\n",
        "#     学習\n",
        "    optimizer.step()\n",
        "    \n",
        "#     分類わけなので、もっとも数字が大きいものをpredictとする\n",
        "#     バッチ処理しているので2次元目で比較\n",
        "    _, preds = torch.max(outputs, 1)\n",
        "    running_loss += loss.item()\n",
        "#     ラベルと合っているものを足し合わせてaccuracy計算\n",
        "    running_corrects += torch.sum(preds == labels.data)\n",
        "  \n",
        "  model.eval() #検証モード\n",
        "#     pytorchでは勾配の計算の高速化のため、パラメーターを保持しているがテスト時はいらないので止める\n",
        "  with torch.no_grad():\n",
        "    for val_inputs, val_labels in validation_loader:\n",
        "      val_inputs = val_inputs.to(device)\n",
        "      val_labels = val_labels.to(device)\n",
        "      val_outputs = model(val_inputs)\n",
        "      val_loss = criterion(val_outputs, val_labels)\n",
        "      \n",
        "      _, val_preds = torch.max(val_outputs, 1)\n",
        "      val_running_loss += val_loss.item()\n",
        "      val_running_corrects += torch.sum(val_preds == val_labels.data)\n",
        "      \n",
        "#   学習過程を記録\n",
        "  epoch_loss = running_loss/len(training_loader.dataset)\n",
        "  epoch_acc = running_corrects.float()/ len(training_loader.dataset)\n",
        "  running_loss_history.append(epoch_loss)\n",
        "  running_corrects_history.append(epoch_acc)\n",
        "  \n",
        "  val_epoch_loss = val_running_loss/len(validation_loader.dataset)\n",
        "#     print('len-validation_loader :'+str(len(validation_loader)))\n",
        "#     print('len-validation_loader :'+str(len(validation_loader.dataset)))\n",
        "  val_epoch_acc = val_running_corrects.float()/len(validation_loader.dataset)\n",
        "  val_running_loss_history.append(val_epoch_loss)\n",
        "  val_running_corrects_history.append(val_epoch_acc)\n",
        "  \n",
        "  print('epoch *', (e+1))\n",
        "  print('training loss: {:.4f}, training acc {:.4f}'.format(epoch_loss, epoch_acc.item()))\n",
        "  print('validation loss: {:.4f}, validation acc{:.4f}'.format(val_epoch_loss,val_epoch_acc.item()))\n",
        "\n",
        "  early_stopping(val_epoch_loss, model)\n",
        "        \n",
        "  if early_stopping.early_stop:\n",
        "      print(\"Early stopping\")\n",
        "      break\n",
        "#学習済みモデルの保存\n",
        "save_path = './weights.pth'\n",
        "torch.save(model.state_dict(), save_path)"
      ],
      "execution_count": 65,
      "outputs": [
        {
          "output_type": "stream",
          "text": [
            "epoch * 1\n",
            "training loss: 0.0216, training acc 0.7702\n",
            "validation loss: 0.0116, validation acc0.8750\n",
            "Validation loss decreased (inf --> 0.011639).  Saving model ...\n",
            "epoch * 2\n",
            "training loss: 0.0126, training acc 0.8562\n",
            "validation loss: 0.0115, validation acc0.8704\n",
            "Validation loss decreased (0.011639 --> 0.011511).  Saving model ...\n",
            "epoch * 3\n",
            "training loss: 0.0120, training acc 0.8614\n",
            "validation loss: 0.0111, validation acc0.8734\n",
            "Validation loss decreased (0.011511 --> 0.011147).  Saving model ...\n",
            "epoch * 4\n",
            "training loss: 0.0112, training acc 0.8754\n",
            "validation loss: 0.0104, validation acc0.8819\n",
            "Validation loss decreased (0.011147 --> 0.010386).  Saving model ...\n",
            "epoch * 5\n",
            "training loss: 0.0104, training acc 0.8824\n",
            "validation loss: 0.0105, validation acc0.8780\n",
            "EarlyStopping counter: 1 out of 3\n",
            "epoch * 6\n",
            "training loss: 0.0104, training acc 0.8838\n",
            "validation loss: 0.0098, validation acc0.8886\n",
            "Validation loss decreased (0.010386 --> 0.009821).  Saving model ...\n",
            "epoch * 7\n",
            "training loss: 0.0095, training acc 0.8950\n",
            "validation loss: 0.0099, validation acc0.8886\n",
            "EarlyStopping counter: 1 out of 3\n",
            "epoch * 8\n",
            "training loss: 0.0093, training acc 0.8972\n",
            "validation loss: 0.0098, validation acc0.8911\n",
            "EarlyStopping counter: 2 out of 3\n",
            "epoch * 9\n",
            "training loss: 0.0091, training acc 0.8992\n",
            "validation loss: 0.0102, validation acc0.8839\n",
            "EarlyStopping counter: 3 out of 3\n",
            "Early stopping\n"
          ],
          "name": "stdout"
        }
      ]
    },
    {
      "cell_type": "code",
      "metadata": {
        "id": "EBb2VKIjsT7v",
        "colab_type": "code",
        "outputId": "1e42097f-2fed-4f15-f0fb-624debae891b",
        "colab": {
          "base_uri": "https://localhost:8080/",
          "height": 285
        }
      },
      "source": [
        "plt.plot(running_loss_history, label='training loss')\n",
        "plt.plot(val_running_loss_history, label='validation loss')\n",
        "plt.legend()"
      ],
      "execution_count": 66,
      "outputs": [
        {
          "output_type": "execute_result",
          "data": {
            "text/plain": [
              "<matplotlib.legend.Legend at 0x7f09ad7f7550>"
            ]
          },
          "metadata": {
            "tags": []
          },
          "execution_count": 66
        },
        {
          "output_type": "display_data",
          "data": {
            "image/png": "[encoded data removed]",
            "text/plain": [
              "<Figure size 432x288 with 1 Axes>"
            ]
          },
          "metadata": {
            "tags": []
          }
        }
      ]
    },
    {
      "cell_type": "code",
      "metadata": {
        "id": "4P2sl6F45Fxu",
        "colab_type": "code",
        "outputId": "fb5d32bb-3980-4f78-8716-257be3ed7ef5",
        "colab": {
          "base_uri": "https://localhost:8080/",
          "height": 285
        }
      },
      "source": [
        "plt.plot(running_corrects_history, label='training accuracy')\n",
        "plt.plot(val_running_corrects_history, label='validation accuracy')\n",
        "plt.legend()"
      ],
      "execution_count": 67,
      "outputs": [
        {
          "output_type": "execute_result",
          "data": {
            "text/plain": [
              "<matplotlib.legend.Legend at 0x7f09ad7835f8>"
            ]
          },
          "metadata": {
            "tags": []
          },
          "execution_count": 67
        },
        {
          "output_type": "display_data",
          "data": {
            "image/png": "[encoded data removed]",
            "text/plain": [
              "<Figure size 432x288 with 1 Axes>"
            ]
          },
          "metadata": {
            "tags": []
          }
        }
      ]
    },
    {
      "cell_type": "markdown",
      "metadata": {
        "id": "P0twpgfmaX5a",
        "colab_type": "text"
      },
      "source": [
        "**混同行列**\n",
        "参考：https://github.com/takoroy/mypytorch-memo"
      ]
    },
    {
      "cell_type": "code",
      "metadata": {
        "id": "0BIPBhMm5L08",
        "colab_type": "code",
        "colab": {}
      },
      "source": [
        "from sklearn.metrics import confusion_matrix\n",
        "\n",
        "def plot_confusion_matrix(cm, labels):\n",
        "    import seaborn as sns\n",
        "    import pandas as pd\n",
        "    sns.set()\n",
        "    \n",
        "    df = pd.DataFrame(cm)\n",
        "    df.index = labels\n",
        "    df.columns = labels\n",
        "\n",
        "    # Draw a heatmap with the numeric values in each cell\n",
        "    f, ax = plt.subplots(figsize=(15, 10))\n",
        "    sns.heatmap(df, annot=True, fmt=\"d\", linewidths=.5, ax=ax)\n",
        "\n",
        "def validation_confusion_matrix(model):\n",
        "    images_so_far = 0\n",
        "    fig = plt.figure()\n",
        "\n",
        "    all_labels = np.array([])\n",
        "    all_preds = np.array([])\n",
        "    for i, data in enumerate(validation_loader):\n",
        "        inputs, labels = data\n",
        "        inputs, labels = inputs.to(device), labels.to(device)\n",
        "        \n",
        "        outputs = model(inputs)\n",
        "        _, preds = torch.max(outputs.data, 1)\n",
        "        \n",
        "        all_labels = np.append(all_labels, labels.cpu().data.numpy())\n",
        "        all_preds = np.append(all_preds, preds.cpu().numpy())\n",
        "    \n",
        "    cm = confusion_matrix(all_labels, all_preds)\n",
        "    plot_confusion_matrix(cm, classes)"
      ],
      "execution_count": 0,
      "outputs": []
    },
    {
      "cell_type": "code",
      "metadata": {
        "id": "auvFLls_-jmZ",
        "colab_type": "code",
        "colab": {
          "base_uri": "https://localhost:8080/",
          "height": 611
        },
        "outputId": "dcec138f-3f2a-41fd-a9b7-4ea4b42d71be"
      },
      "source": [
        "validation_confusion_matrix(model)"
      ],
      "execution_count": 70,
      "outputs": [
        {
          "output_type": "display_data",
          "data": {
            "text/plain": [
              "<Figure size 432x288 with 0 Axes>"
            ]
          },
          "metadata": {
            "tags": []
          }
        },
        {
          "output_type": "display_data",
          "data": {
            "image/png": "[encoded data removed]",
            "text/plain": [
              "<Figure size 1080x720 with 2 Axes>"
            ]
          },
          "metadata": {
            "tags": []
          }
        }
      ]
    },
    {
      "cell_type": "markdown",
      "metadata": {
        "id": "KFvrp5DEwFiv",
        "colab_type": "text"
      },
      "source": [
        "# **MobileNet**\n",
        "（精度めっちゃ低い)"
      ]
    },
    {
      "cell_type": "code",
      "metadata": {
        "id": "GmI7pOMbwGPe",
        "colab_type": "code",
        "colab": {
          "base_uri": "https://localhost:8080/",
          "height": 103,
          "referenced_widgets": [
            "2ae94817e19e460c905dfaa568d0fd5a",
            "2f504f7d1eac428aa07d80d843749d08",
            "ee3a74a6f2814695b649a57d7560a723",
            "c355164eb9e342ac98808decd6c1f51b",
            "367e74ff4d2b498b815b2261cb197ed9",
            "42b188a49617458f9138c21172bd6b33",
            "c57a4edbba8549349013e4d9ec4b8cf5",
            "8738f465fec24f588f018d52e8f1f928"
          ]
        },
        "outputId": "168ef594-1690-4a1a-c19b-07d2e04105e1"
      },
      "source": [
        "device = torch.device(\"cuda:0\" if torch.cuda.is_available() else \"cpu\")\n",
        "use_pretrained = True  # 学習済みのパラメータを使用\n",
        "model = models.mobilenet_v2(pretrained=use_pretrained).to(device)\n"
      ],
      "execution_count": 3,
      "outputs": [
        {
          "output_type": "stream",
          "text": [
            "Downloading: \"https://download.pytorch.org/models/mobilenet_v2-b0353104.pth\" to /root/.cache/torch/checkpoints/mobilenet_v2-b0353104.pth\n"
          ],
          "name": "stderr"
        },
        {
          "output_type": "display_data",
          "data": {
            "application/vnd.jupyter.widget-view+json": {
              "model_id": "2ae94817e19e460c905dfaa568d0fd5a",
              "version_minor": 0,
              "version_major": 2
            },
            "text/plain": [
              "HBox(children=(IntProgress(value=0, max=14212972), HTML(value='')))"
            ]
          },
          "metadata": {
            "tags": []
          }
        },
        {
          "output_type": "stream",
          "text": [
            "\n"
          ],
          "name": "stdout"
        }
      ]
    },
    {
      "cell_type": "code",
      "metadata": {
        "id": "Rd2wG0sOXzG2",
        "colab_type": "code",
        "colab": {}
      },
      "source": [
        "print(model)"
      ],
      "execution_count": 0,
      "outputs": []
    },
    {
      "cell_type": "code",
      "metadata": {
        "id": "AiXERPe3wD6r",
        "colab_type": "code",
        "colab": {}
      },
      "source": [
        "model.classifier[1] = nn.Linear(in_features=1280, out_features=10).to(device)\n",
        "print(model)"
      ],
      "execution_count": 0,
      "outputs": []
    },
    {
      "cell_type": "code",
      "metadata": {
        "id": "WWMPyXkSw8Gy",
        "colab_type": "code",
        "colab": {}
      },
      "source": [
        "# 損失関数の設定\n",
        "criterion = nn.CrossEntropyLoss()"
      ],
      "execution_count": 0,
      "outputs": []
    },
    {
      "cell_type": "code",
      "metadata": {
        "id": "ZSXRMbeZydQX",
        "colab_type": "code",
        "colab": {
          "base_uri": "https://localhost:8080/",
          "height": 340
        },
        "outputId": "daaf3b4c-7584-45df-b6b6-89d477b404bf"
      },
      "source": [
        "# 転移学習で学習させるパラメータを、変数params_to_updateに格納する\n",
        "params_to_update = []\n",
        "\n",
        "# 学習させるパラメータ名\n",
        "update_param_names = [\"classifier.1.weight\", \"classifier.1.bias\"]\n",
        "\n",
        "# 学習させるパラメータ以外は勾配計算をなくし、変化しないように設定\n",
        "for name, param in model.named_parameters():\n",
        "    if name in update_param_names:\n",
        "        param.requires_grad = True\n",
        "        params_to_update.append(param)\n",
        "        print(name)\n",
        "    else:\n",
        "        param.requires_grad = False\n",
        "\n",
        "# params_to_updateの中身を確認\n",
        "print(\"-----------\")\n",
        "print(params_to_update)"
      ],
      "execution_count": 18,
      "outputs": [
        {
          "output_type": "stream",
          "text": [
            "classifier.1.weight\n",
            "classifier.1.bias\n",
            "-----------\n",
            "[Parameter containing:\n",
            "tensor([[-2.2497e-03,  2.2229e-02, -2.7649e-02,  ...,  1.5216e-02,\n",
            "         -4.8866e-03,  2.7289e-02],\n",
            "        [-1.1160e-02, -1.0208e-02, -2.5367e-02,  ...,  1.4590e-02,\n",
            "         -2.5211e-02, -2.1567e-02],\n",
            "        [-7.3483e-04,  2.7705e-02,  7.8432e-03,  ...,  1.8074e-03,\n",
            "         -9.8257e-03, -2.0891e-02],\n",
            "        ...,\n",
            "        [-1.1987e-02,  2.1438e-02, -1.7968e-02,  ..., -2.6422e-02,\n",
            "          1.6859e-02,  2.7601e-02],\n",
            "        [-3.6512e-03,  5.8913e-03, -2.8255e-03,  ..., -1.5850e-02,\n",
            "         -5.3521e-05, -6.1470e-03],\n",
            "        [ 1.3076e-03, -1.8492e-02,  4.9345e-03,  ...,  2.1213e-02,\n",
            "         -4.7793e-03, -8.1486e-03]], device='cuda:0', requires_grad=True), Parameter containing:\n",
            "tensor([ 0.0062, -0.0256, -0.0179, -0.0077, -0.0205,  0.0066,  0.0088,  0.0013,\n",
            "        -0.0223, -0.0120], device='cuda:0', requires_grad=True)]\n"
          ],
          "name": "stdout"
        }
      ]
    },
    {
      "cell_type": "code",
      "metadata": {
        "id": "e6akM2GZyjeB",
        "colab_type": "code",
        "colab": {}
      },
      "source": [
        "# 最適化手法の設定\n",
        "optimizer = optim.SGD(params=params_to_update, lr=0.001, momentum=0.9)"
      ],
      "execution_count": 0,
      "outputs": []
    },
    {
      "cell_type": "code",
      "metadata": {
        "id": "HjDEH3qtyp7Z",
        "colab_type": "code",
        "colab": {}
      },
      "source": [
        "#EarlyStopipingを導入するために、pytorchtools.pyをアップする\n",
        "from pytorchtools import EarlyStopping"
      ],
      "execution_count": 0,
      "outputs": []
    },
    {
      "cell_type": "code",
      "metadata": {
        "id": "0-ZT5dn8yyKD",
        "colab_type": "code",
        "colab": {}
      },
      "source": [
        "epochs = 150\n",
        "running_loss_history = []\n",
        "running_corrects_history = []\n",
        "val_running_loss_history = []\n",
        "val_running_corrects_history = []\n",
        "early_stopping = EarlyStopping(patience=3, verbose=True)  # early stopping patience; how long to wait after last time validation loss improved.\n",
        "\n",
        "for e in range(epochs):\n",
        "  \n",
        "  running_loss = 0.0\n",
        "  running_corrects = 0.0\n",
        "  val_running_loss = 0.0\n",
        "  val_running_corrects = 0.0\n",
        "\n",
        "  model.train() #学習モード\n",
        "  \n",
        "  for inputs, labels in tqdm(training_loader):\n",
        "#     DataLoaderのバッチサイズごとにforで取り出して計算\n",
        "#     ここのforの処理が終わると1エポック\n",
        "    inputs = inputs.to(device)\n",
        "    labels = labels.to(device)\n",
        "    outputs = model(inputs)\n",
        "    loss = criterion(outputs, labels)\n",
        "    \n",
        "#     一旦パラメーターの勾配をゼロにして\n",
        "    optimizer.zero_grad()\n",
        "#     勾配の計算\n",
        "    loss.backward()\n",
        "#     学習\n",
        "    optimizer.step()\n",
        "    \n",
        "#     分類わけなので、もっとも数字が大きいものをpredictとする\n",
        "#     バッチ処理しているので2次元目で比較\n",
        "    _, preds = torch.max(outputs, 1)\n",
        "    running_loss += loss.item()\n",
        "#     ラベルと合っているものを足し合わせてaccuracy計算\n",
        "    running_corrects += torch.sum(preds == labels.data)\n",
        "  \n",
        "  model.eval() #検証モード\n",
        "#     pytorchでは勾配の計算の高速化のため、パラメーターを保持しているがテスト時はいらないので止める\n",
        "  with torch.no_grad():\n",
        "    for val_inputs, val_labels in tqdm(validation_loader):\n",
        "      val_inputs = val_inputs.to(device)\n",
        "      val_labels = val_labels.to(device)\n",
        "      val_outputs = model(val_inputs)\n",
        "      val_loss = criterion(val_outputs, val_labels)\n",
        "      \n",
        "      _, val_preds = torch.max(val_outputs, 1)\n",
        "      val_running_loss += val_loss.item()\n",
        "      val_running_corrects += torch.sum(val_preds == val_labels.data)\n",
        "      \n",
        "#   学習過程を記録\n",
        "  epoch_loss = running_loss/len(training_loader.dataset)\n",
        "  epoch_acc = running_corrects.float()/ len(training_loader.dataset)\n",
        "  running_loss_history.append(epoch_loss)\n",
        "  running_corrects_history.append(epoch_acc)\n",
        "  \n",
        "  val_epoch_loss = val_running_loss/len(validation_loader.dataset)\n",
        "#     print('len-validation_loader :'+str(len(validation_loader)))\n",
        "#     print('len-validation_loader :'+str(len(validation_loader.dataset)))\n",
        "  val_epoch_acc = val_running_corrects.float()/len(validation_loader.dataset)\n",
        "  val_running_loss_history.append(val_epoch_loss)\n",
        "  val_running_corrects_history.append(val_epoch_acc)\n",
        "  \n",
        "  print('epoch *', (e+1))\n",
        "  print('training loss: {:.4f}, training acc {:.4f}'.format(epoch_loss, epoch_acc.item()))\n",
        "  print('validation loss: {:.4f}, validation acc{:.4f}'.format(val_epoch_loss,val_epoch_acc.item()))\n",
        "\n",
        "  early_stopping(val_epoch_loss, model)\n",
        "        \n",
        "  if early_stopping.early_stop:\n",
        "      print(\"Early stopping\")\n",
        "      break\n",
        "#学習済みモデルの保存\n",
        "save_path = './weights.pth'\n",
        "torch.save(model.state_dict(), save_path)"
      ],
      "execution_count": 0,
      "outputs": []
    },
    {
      "cell_type": "markdown",
      "metadata": {
        "id": "TjGotdFozuKq",
        "colab_type": "text"
      },
      "source": [
        "# **DenseNet**"
      ]
    },
    {
      "cell_type": "code",
      "metadata": {
        "id": "HbmDB-dgz0HS",
        "colab_type": "code",
        "colab": {
          "base_uri": "https://localhost:8080/",
          "height": 103,
          "referenced_widgets": [
            "acc1b30570574a65942f21f962784c55",
            "5f8fe41eabcf429c95accb76b1d8f621",
            "c1200646264741569b3bd05d3e5949a1",
            "32a47577ee9641c18974747092c2471d",
            "52cef13467db4e1699b5fa2a56ea4ec3",
            "1210c4e03957467f8255772694f42855",
            "492a3f3cc199428e92620e1d4c5741de",
            "341f9a6cabee4e55afce06f702e5042b"
          ]
        },
        "outputId": "5779bee8-718f-4ef2-9f1e-f08bf1a4242d"
      },
      "source": [
        "device = torch.device(\"cuda:0\" if torch.cuda.is_available() else \"cpu\")\n",
        "use_pretrained = True  # 学習済みのパラメータを使用\n",
        "model = models.densenet161(pretrained=use_pretrained).to(device)"
      ],
      "execution_count": 22,
      "outputs": [
        {
          "output_type": "stream",
          "text": [
            "Downloading: \"https://download.pytorch.org/models/densenet161-8d451a50.pth\" to /root/.cache/torch/checkpoints/densenet161-8d451a50.pth\n"
          ],
          "name": "stderr"
        },
        {
          "output_type": "display_data",
          "data": {
            "application/vnd.jupyter.widget-view+json": {
              "model_id": "acc1b30570574a65942f21f962784c55",
              "version_minor": 0,
              "version_major": 2
            },
            "text/plain": [
              "HBox(children=(IntProgress(value=0, max=115730790), HTML(value='')))"
            ]
          },
          "metadata": {
            "tags": []
          }
        },
        {
          "output_type": "stream",
          "text": [
            "\n"
          ],
          "name": "stdout"
        }
      ]
    },
    {
      "cell_type": "code",
      "metadata": {
        "id": "IdrkwDtN0A3s",
        "colab_type": "code",
        "colab": {}
      },
      "source": [
        "model.classifier = nn.Linear(in_features=2208, out_features=10, bias=True).to(device)\n",
        "print(model)"
      ],
      "execution_count": 0,
      "outputs": []
    },
    {
      "cell_type": "code",
      "metadata": {
        "id": "8Yh7TldU0F_R",
        "colab_type": "code",
        "colab": {
          "base_uri": "https://localhost:8080/",
          "height": 255
        },
        "outputId": "58402f23-1ad2-481c-bc0f-996d3815d3d3"
      },
      "source": [
        "# 損失関数の設定\n",
        "criterion = nn.CrossEntropyLoss()\n",
        "# 転移学習で学習させるパラメータを、変数params_to_updateに格納する\n",
        "params_to_update = []\n",
        "\n",
        "# 学習させるパラメータ名\n",
        "update_param_names = [\"classifier.weight\", \"classifier.bias\"]\n",
        "\n",
        "# 学習させるパラメータ以外は勾配計算をなくし、変化しないように設定\n",
        "for name, param in model.named_parameters():\n",
        "    if name in update_param_names:\n",
        "        param.requires_grad = True\n",
        "        params_to_update.append(param)\n",
        "        print(name)\n",
        "    else:\n",
        "        param.requires_grad = False\n",
        "\n",
        "# params_to_updateの中身を確認\n",
        "print(\"-----------\")\n",
        "print(params_to_update)"
      ],
      "execution_count": 43,
      "outputs": [
        {
          "output_type": "stream",
          "text": [
            "classifier.weight\n",
            "classifier.bias\n",
            "-----------\n",
            "[Parameter containing:\n",
            "tensor([[-0.0032,  0.0052, -0.0079,  ...,  0.0104, -0.0038,  0.0205],\n",
            "        [-0.0058, -0.0123,  0.0168,  ...,  0.0068,  0.0008,  0.0201],\n",
            "        [ 0.0080,  0.0136, -0.0152,  ...,  0.0175,  0.0010, -0.0057],\n",
            "        ...,\n",
            "        [-0.0103,  0.0012,  0.0184,  ...,  0.0040, -0.0184,  0.0038],\n",
            "        [-0.0017,  0.0180,  0.0193,  ...,  0.0151,  0.0133, -0.0100],\n",
            "        [-0.0046, -0.0182, -0.0031,  ...,  0.0171, -0.0069, -0.0131]],\n",
            "       device='cuda:0', requires_grad=True), Parameter containing:\n",
            "tensor([-0.0165, -0.0184,  0.0181, -0.0088,  0.0016,  0.0146,  0.0116,  0.0096,\n",
            "        -0.0170,  0.0190], device='cuda:0', requires_grad=True)]\n"
          ],
          "name": "stdout"
        }
      ]
    },
    {
      "cell_type": "code",
      "metadata": {
        "id": "4WKn4B7A09n3",
        "colab_type": "code",
        "colab": {}
      },
      "source": [
        "# 最適化手法の設定\n",
        "optimizer = optim.SGD(params=params_to_update, lr=0.001, momentum=0.9)\n",
        "#EarlyStopipingを導入するために、pytorchtools.pyをアップする\n",
        "from pytorchtools import EarlyStopping\n"
      ],
      "execution_count": 0,
      "outputs": []
    },
    {
      "cell_type": "code",
      "metadata": {
        "id": "XPyJK7Eu1jFS",
        "colab_type": "code",
        "colab": {
          "base_uri": "https://localhost:8080/",
          "height": 1000
        },
        "outputId": "de4477e2-290f-4650-c271-4ab3e9f05718"
      },
      "source": [
        "epochs = 150\n",
        "running_loss_history = []\n",
        "running_corrects_history = []\n",
        "val_running_loss_history = []\n",
        "val_running_corrects_history = []\n",
        "early_stopping = EarlyStopping(patience=3, verbose=True)  # early stopping patience; how long to wait after last time validation loss improved.\n",
        "\n",
        "for e in range(epochs):\n",
        "  \n",
        "  running_loss = 0.0\n",
        "  running_corrects = 0.0\n",
        "  val_running_loss = 0.0\n",
        "  val_running_corrects = 0.0\n",
        "\n",
        "  model.train() #学習モード\n",
        "  \n",
        "  for inputs, labels in tqdm(training_loader):\n",
        "#     DataLoaderのバッチサイズごとにforで取り出して計算\n",
        "#     ここのforの処理が終わると1エポック\n",
        "    inputs = inputs.to(device)\n",
        "    labels = labels.to(device)\n",
        "    outputs = model(inputs)\n",
        "    loss = criterion(outputs, labels)\n",
        "    \n",
        "#     一旦パラメーターの勾配をゼロにして\n",
        "    optimizer.zero_grad()\n",
        "#     勾配の計算\n",
        "    loss.backward()\n",
        "#     学習\n",
        "    optimizer.step()\n",
        "    \n",
        "#     分類わけなので、もっとも数字が大きいものをpredictとする\n",
        "#     バッチ処理しているので2次元目で比較\n",
        "    _, preds = torch.max(outputs, 1)\n",
        "    running_loss += loss.item()\n",
        "#     ラベルと合っているものを足し合わせてaccuracy計算\n",
        "    running_corrects += torch.sum(preds == labels.data)\n",
        "  \n",
        "  model.eval() #検証モード\n",
        "#     pytorchでは勾配の計算の高速化のため、パラメーターを保持しているがテスト時はいらないので止める\n",
        "  with torch.no_grad():\n",
        "    for val_inputs, val_labels in tqdm(validation_loader):\n",
        "      val_inputs = val_inputs.to(device)\n",
        "      val_labels = val_labels.to(device)\n",
        "      val_outputs = model(val_inputs)\n",
        "      val_loss = criterion(val_outputs, val_labels)\n",
        "      \n",
        "      _, val_preds = torch.max(val_outputs, 1)\n",
        "      val_running_loss += val_loss.item()\n",
        "      val_running_corrects += torch.sum(val_preds == val_labels.data)\n",
        "      \n",
        "#   学習過程を記録\n",
        "  epoch_loss = running_loss/len(training_loader.dataset)\n",
        "  epoch_acc = running_corrects.float()/ len(training_loader.dataset)\n",
        "  running_loss_history.append(epoch_loss)\n",
        "  running_corrects_history.append(epoch_acc)\n",
        "  \n",
        "  val_epoch_loss = val_running_loss/len(validation_loader.dataset)\n",
        "#     print('len-validation_loader :'+str(len(validation_loader)))\n",
        "#     print('len-validation_loader :'+str(len(validation_loader.dataset)))\n",
        "  val_epoch_acc = val_running_corrects.float()/len(validation_loader.dataset)\n",
        "  val_running_loss_history.append(val_epoch_loss)\n",
        "  val_running_corrects_history.append(val_epoch_acc)\n",
        "  \n",
        "  print('epoch *', (e+1))\n",
        "  print('training loss: {:.4f}, training acc {:.4f}'.format(epoch_loss, epoch_acc.item()))\n",
        "  print('validation loss: {:.4f}, validation acc{:.4f}'.format(val_epoch_loss,val_epoch_acc.item()))\n",
        "\n",
        "  early_stopping(val_epoch_loss, model)\n",
        "        \n",
        "  if early_stopping.early_stop:\n",
        "      print(\"Early stopping\")\n",
        "      break\n",
        "#学習済みモデルの保存\n",
        "save_path = './weights.pth'\n",
        "torch.save(model.state_dict(), save_path)"
      ],
      "execution_count": 45,
      "outputs": [
        {
          "output_type": "stream",
          "text": [
            "100%|██████████| 157/157 [00:11<00:00, 13.78it/s]\n",
            "100%|██████████| 250/250 [00:17<00:00, 13.98it/s]\n"
          ],
          "name": "stderr"
        },
        {
          "output_type": "stream",
          "text": [
            "epoch * 1\n",
            "training loss: 0.0326, training acc 0.6954\n",
            "validation loss: 0.0190, validation acc0.8208\n",
            "Validation loss decreased (inf --> 0.019014).  Saving model ...\n"
          ],
          "name": "stdout"
        },
        {
          "output_type": "stream",
          "text": [
            "100%|██████████| 157/157 [00:11<00:00, 13.66it/s]\n",
            "100%|██████████| 250/250 [00:18<00:00, 13.87it/s]\n"
          ],
          "name": "stderr"
        },
        {
          "output_type": "stream",
          "text": [
            "epoch * 2\n",
            "training loss: 0.0187, training acc 0.8162\n",
            "validation loss: 0.0160, validation acc0.8419\n",
            "Validation loss decreased (0.019014 --> 0.015993).  Saving model ...\n"
          ],
          "name": "stdout"
        },
        {
          "output_type": "stream",
          "text": [
            "100%|██████████| 157/157 [00:11<00:00, 13.76it/s]\n",
            "100%|██████████| 250/250 [00:17<00:00, 14.09it/s]\n"
          ],
          "name": "stderr"
        },
        {
          "output_type": "stream",
          "text": [
            "epoch * 3\n",
            "training loss: 0.0165, training acc 0.8336\n",
            "validation loss: 0.0156, validation acc0.8429\n",
            "Validation loss decreased (0.015993 --> 0.015618).  Saving model ...\n"
          ],
          "name": "stdout"
        },
        {
          "output_type": "stream",
          "text": [
            "100%|██████████| 157/157 [00:11<00:00, 13.84it/s]\n",
            "100%|██████████| 250/250 [00:17<00:00, 14.08it/s]\n"
          ],
          "name": "stderr"
        },
        {
          "output_type": "stream",
          "text": [
            "epoch * 4\n",
            "training loss: 0.0151, training acc 0.8464\n",
            "validation loss: 0.0148, validation acc0.8464\n",
            "Validation loss decreased (0.015618 --> 0.014845).  Saving model ...\n"
          ],
          "name": "stdout"
        },
        {
          "output_type": "stream",
          "text": [
            "100%|██████████| 157/157 [00:11<00:00, 13.75it/s]\n",
            "100%|██████████| 250/250 [00:17<00:00, 14.05it/s]\n"
          ],
          "name": "stderr"
        },
        {
          "output_type": "stream",
          "text": [
            "epoch * 5\n",
            "training loss: 0.0144, training acc 0.8468\n",
            "validation loss: 0.0144, validation acc0.8504\n",
            "Validation loss decreased (0.014845 --> 0.014437).  Saving model ...\n"
          ],
          "name": "stdout"
        },
        {
          "output_type": "stream",
          "text": [
            "100%|██████████| 157/157 [00:11<00:00, 13.84it/s]\n",
            "100%|██████████| 250/250 [00:17<00:00, 14.14it/s]\n",
            "  0%|          | 0/157 [00:00<?, ?it/s]"
          ],
          "name": "stderr"
        },
        {
          "output_type": "stream",
          "text": [
            "epoch * 6\n",
            "training loss: 0.0144, training acc 0.8498\n",
            "validation loss: 0.0138, validation acc0.8495\n",
            "Validation loss decreased (0.014437 --> 0.013847).  Saving model ...\n"
          ],
          "name": "stdout"
        },
        {
          "output_type": "stream",
          "text": [
            "100%|██████████| 157/157 [00:11<00:00, 13.84it/s]\n",
            "100%|██████████| 250/250 [00:17<00:00, 14.18it/s]\n",
            "  1%|▏         | 2/157 [00:00<00:11, 13.66it/s]"
          ],
          "name": "stderr"
        },
        {
          "output_type": "stream",
          "text": [
            "epoch * 7\n",
            "training loss: 0.0138, training acc 0.8534\n",
            "validation loss: 0.0139, validation acc0.8500\n",
            "EarlyStopping counter: 1 out of 3\n"
          ],
          "name": "stdout"
        },
        {
          "output_type": "stream",
          "text": [
            "100%|██████████| 157/157 [00:11<00:00, 14.01it/s]\n",
            "100%|██████████| 250/250 [00:17<00:00, 14.17it/s]\n"
          ],
          "name": "stderr"
        },
        {
          "output_type": "stream",
          "text": [
            "epoch * 8\n",
            "training loss: 0.0139, training acc 0.8510\n",
            "validation loss: 0.0137, validation acc0.8525\n",
            "Validation loss decreased (0.013847 --> 0.013746).  Saving model ...\n"
          ],
          "name": "stdout"
        },
        {
          "output_type": "stream",
          "text": [
            "100%|██████████| 157/157 [00:11<00:00, 13.91it/s]\n",
            "100%|██████████| 250/250 [00:17<00:00, 14.22it/s]\n",
            "  0%|          | 0/157 [00:00<?, ?it/s]"
          ],
          "name": "stderr"
        },
        {
          "output_type": "stream",
          "text": [
            "epoch * 9\n",
            "training loss: 0.0134, training acc 0.8592\n",
            "validation loss: 0.0137, validation acc0.8504\n",
            "Validation loss decreased (0.013746 --> 0.013727).  Saving model ...\n"
          ],
          "name": "stdout"
        },
        {
          "output_type": "stream",
          "text": [
            "100%|██████████| 157/157 [00:11<00:00, 13.96it/s]\n",
            "100%|██████████| 250/250 [00:17<00:00, 14.24it/s]\n"
          ],
          "name": "stderr"
        },
        {
          "output_type": "stream",
          "text": [
            "epoch * 10\n",
            "training loss: 0.0135, training acc 0.8570\n",
            "validation loss: 0.0130, validation acc0.8566\n",
            "Validation loss decreased (0.013727 --> 0.012960).  Saving model ...\n"
          ],
          "name": "stdout"
        },
        {
          "output_type": "stream",
          "text": [
            "100%|██████████| 157/157 [00:11<00:00, 13.99it/s]\n",
            "100%|██████████| 250/250 [00:17<00:00, 14.27it/s]\n",
            "  1%|▏         | 2/157 [00:00<00:10, 14.31it/s]"
          ],
          "name": "stderr"
        },
        {
          "output_type": "stream",
          "text": [
            "epoch * 11\n",
            "training loss: 0.0129, training acc 0.8584\n",
            "validation loss: 0.0135, validation acc0.8580\n",
            "EarlyStopping counter: 1 out of 3\n"
          ],
          "name": "stdout"
        },
        {
          "output_type": "stream",
          "text": [
            "100%|██████████| 157/157 [00:11<00:00, 14.03it/s]\n",
            "100%|██████████| 250/250 [00:17<00:00, 14.24it/s]\n"
          ],
          "name": "stderr"
        },
        {
          "output_type": "stream",
          "text": [
            "epoch * 12\n",
            "training loss: 0.0127, training acc 0.8656\n",
            "validation loss: 0.0126, validation acc0.8598\n",
            "Validation loss decreased (0.012960 --> 0.012607).  Saving model ...\n"
          ],
          "name": "stdout"
        },
        {
          "output_type": "stream",
          "text": [
            "100%|██████████| 157/157 [00:11<00:00, 14.00it/s]\n",
            "100%|██████████| 250/250 [00:17<00:00, 14.29it/s]\n",
            "  1%|▏         | 2/157 [00:00<00:11, 13.61it/s]"
          ],
          "name": "stderr"
        },
        {
          "output_type": "stream",
          "text": [
            "epoch * 13\n",
            "training loss: 0.0128, training acc 0.8630\n",
            "validation loss: 0.0134, validation acc0.8569\n",
            "EarlyStopping counter: 1 out of 3\n"
          ],
          "name": "stdout"
        },
        {
          "output_type": "stream",
          "text": [
            "100%|██████████| 157/157 [00:11<00:00, 14.08it/s]\n",
            "100%|██████████| 250/250 [00:17<00:00, 14.32it/s]\n",
            "  1%|▏         | 2/157 [00:00<00:11, 13.66it/s]"
          ],
          "name": "stderr"
        },
        {
          "output_type": "stream",
          "text": [
            "epoch * 14\n",
            "training loss: 0.0129, training acc 0.8624\n",
            "validation loss: 0.0129, validation acc0.8584\n",
            "EarlyStopping counter: 2 out of 3\n"
          ],
          "name": "stdout"
        },
        {
          "output_type": "stream",
          "text": [
            "100%|██████████| 157/157 [00:11<00:00, 14.08it/s]\n",
            "100%|██████████| 250/250 [00:17<00:00, 14.30it/s]\n"
          ],
          "name": "stderr"
        },
        {
          "output_type": "stream",
          "text": [
            "epoch * 15\n",
            "training loss: 0.0124, training acc 0.8676\n",
            "validation loss: 0.0134, validation acc0.8559\n",
            "EarlyStopping counter: 3 out of 3\n",
            "Early stopping\n"
          ],
          "name": "stdout"
        }
      ]
    },
    {
      "cell_type": "code",
      "metadata": {
        "id": "DBt0xVdI1m1i",
        "colab_type": "code",
        "colab": {
          "base_uri": "https://localhost:8080/",
          "height": 282
        },
        "outputId": "9ef68779-e70d-4c96-fbae-32b3efb5c10e"
      },
      "source": [
        "plt.plot(running_loss_history, label='training loss')\n",
        "plt.plot(val_running_loss_history, label='validation loss')\n",
        "plt.legend()"
      ],
      "execution_count": 46,
      "outputs": [
        {
          "output_type": "execute_result",
          "data": {
            "text/plain": [
              "<matplotlib.legend.Legend at 0x7f29d6723748>"
            ]
          },
          "metadata": {
            "tags": []
          },
          "execution_count": 46
        },
        {
          "output_type": "display_data",
          "data": {
            "image/png": "[encoded data removed]",
            "text/plain": [
              "<Figure size 432x288 with 1 Axes>"
            ]
          },
          "metadata": {
            "tags": [],
            "needs_background": "light"
          }
        }
      ]
    },
    {
      "cell_type": "code",
      "metadata": {
        "id": "16Avt4Xe3eZE",
        "colab_type": "code",
        "colab": {
          "base_uri": "https://localhost:8080/",
          "height": 285
        },
        "outputId": "12ce8953-6a62-41ac-cc9f-5eb72eba644f"
      },
      "source": [
        "plt.plot(running_corrects_history, label='training accuracy')\n",
        "plt.plot(val_running_corrects_history, label='validation accuracy')\n",
        "plt.legend()"
      ],
      "execution_count": 47,
      "outputs": [
        {
          "output_type": "execute_result",
          "data": {
            "text/plain": [
              "<matplotlib.legend.Legend at 0x7f29d6671f60>"
            ]
          },
          "metadata": {
            "tags": []
          },
          "execution_count": 47
        },
        {
          "output_type": "display_data",
          "data": {
            "image/png": "[encoded data removed]",
            "text/plain": [
              "<Figure size 432x288 with 1 Axes>"
            ]
          },
          "metadata": {
            "tags": [],
            "needs_background": "light"
          }
        }
      ]
    },
    {
      "cell_type": "code",
      "metadata": {
        "id": "V92JAIdS3lh4",
        "colab_type": "code",
        "colab": {}
      },
      "source": [
        ""
      ],
      "execution_count": 0,
      "outputs": []
    }
  ]
}