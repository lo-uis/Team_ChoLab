{
  "nbformat": 4,
  "nbformat_minor": 0,
  "metadata": {
    "colab": {
      "name": "stl_10.ipynb",
      "provenance": [],
      "collapsed_sections": [
        "MX7aH6gMriD_",
        "yLw5hJTN-6tt",
        "7X3Nwxj9rNLR",
        "KFvrp5DEwFiv"
      ],
      "include_colab_link": true
    },
    "kernelspec": {
      "name": "python3",
      "display_name": "Python 3"
    },
    "accelerator": "GPU",
    "widgets": {
      "application/vnd.jupyter.widget-state+json": {
        "de0957ac487a40118ea5561aeb7b494f": {
          "model_module": "@jupyter-widgets/controls",
          "model_name": "HBoxModel",
          "state": {
            "_view_name": "HBoxView",
            "_dom_classes": [],
            "_model_name": "HBoxModel",
            "_view_module": "@jupyter-widgets/controls",
            "_model_module_version": "1.5.0",
            "_view_count": null,
            "_view_module_version": "1.5.0",
            "box_style": "",
            "layout": "IPY_MODEL_9b5bc8c777e44fcb9a651bbc30e99e42",
            "_model_module": "@jupyter-widgets/controls",
            "children": [
              "IPY_MODEL_00fd1a24bc884bed986edfa7d900be44",
              "IPY_MODEL_1bf90b4804344e3a8a7132d227f50198"
            ]
          }
        },
        "9b5bc8c777e44fcb9a651bbc30e99e42": {
          "model_module": "@jupyter-widgets/base",
          "model_name": "LayoutModel",
          "state": {
            "_view_name": "LayoutView",
            "grid_template_rows": null,
            "right": null,
            "justify_content": null,
            "_view_module": "@jupyter-widgets/base",
            "overflow": null,
            "_model_module_version": "1.2.0",
            "_view_count": null,
            "flex_flow": null,
            "width": null,
            "min_width": null,
            "border": null,
            "align_items": null,
            "bottom": null,
            "_model_module": "@jupyter-widgets/base",
            "top": null,
            "grid_column": null,
            "overflow_y": null,
            "overflow_x": null,
            "grid_auto_flow": null,
            "grid_area": null,
            "grid_template_columns": null,
            "flex": null,
            "_model_name": "LayoutModel",
            "justify_items": null,
            "grid_row": null,
            "max_height": null,
            "align_content": null,
            "visibility": null,
            "align_self": null,
            "height": null,
            "min_height": null,
            "padding": null,
            "grid_auto_rows": null,
            "grid_gap": null,
            "max_width": null,
            "order": null,
            "_view_module_version": "1.2.0",
            "grid_template_areas": null,
            "object_position": null,
            "object_fit": null,
            "grid_auto_columns": null,
            "margin": null,
            "display": null,
            "left": null
          }
        },
        "00fd1a24bc884bed986edfa7d900be44": {
          "model_module": "@jupyter-widgets/controls",
          "model_name": "IntProgressModel",
          "state": {
            "_view_name": "ProgressView",
            "style": "IPY_MODEL_ffa75d2678d243f285ab463beb1cdddf",
            "_dom_classes": [],
            "description": "",
            "_model_name": "IntProgressModel",
            "bar_style": "info",
            "max": 1,
            "_view_module": "@jupyter-widgets/controls",
            "_model_module_version": "1.5.0",
            "value": 1,
            "_view_count": null,
            "_view_module_version": "1.5.0",
            "orientation": "horizontal",
            "min": 0,
            "description_tooltip": null,
            "_model_module": "@jupyter-widgets/controls",
            "layout": "IPY_MODEL_fffecc185b7647739a38dee185beab52"
          }
        },
        "1bf90b4804344e3a8a7132d227f50198": {
          "model_module": "@jupyter-widgets/controls",
          "model_name": "HTMLModel",
          "state": {
            "_view_name": "HTMLView",
            "style": "IPY_MODEL_30b333b76ff7459ebbbb5e1cef51ba89",
            "_dom_classes": [],
            "description": "",
            "_model_name": "HTMLModel",
            "placeholder": "​",
            "_view_module": "@jupyter-widgets/controls",
            "_model_module_version": "1.5.0",
            "value": " 2640404480/? [02:00&lt;00:00, 87991287.47it/s]",
            "_view_count": null,
            "_view_module_version": "1.5.0",
            "description_tooltip": null,
            "_model_module": "@jupyter-widgets/controls",
            "layout": "IPY_MODEL_170d7918a06b43e4b174e003b4aa08c0"
          }
        },
        "ffa75d2678d243f285ab463beb1cdddf": {
          "model_module": "@jupyter-widgets/controls",
          "model_name": "ProgressStyleModel",
          "state": {
            "_view_name": "StyleView",
            "_model_name": "ProgressStyleModel",
            "description_width": "initial",
            "_view_module": "@jupyter-widgets/base",
            "_model_module_version": "1.5.0",
            "_view_count": null,
            "_view_module_version": "1.2.0",
            "bar_color": null,
            "_model_module": "@jupyter-widgets/controls"
          }
        },
        "fffecc185b7647739a38dee185beab52": {
          "model_module": "@jupyter-widgets/base",
          "model_name": "LayoutModel",
          "state": {
            "_view_name": "LayoutView",
            "grid_template_rows": null,
            "right": null,
            "justify_content": null,
            "_view_module": "@jupyter-widgets/base",
            "overflow": null,
            "_model_module_version": "1.2.0",
            "_view_count": null,
            "flex_flow": null,
            "width": null,
            "min_width": null,
            "border": null,
            "align_items": null,
            "bottom": null,
            "_model_module": "@jupyter-widgets/base",
            "top": null,
            "grid_column": null,
            "overflow_y": null,
            "overflow_x": null,
            "grid_auto_flow": null,
            "grid_area": null,
            "grid_template_columns": null,
            "flex": null,
            "_model_name": "LayoutModel",
            "justify_items": null,
            "grid_row": null,
            "max_height": null,
            "align_content": null,
            "visibility": null,
            "align_self": null,
            "height": null,
            "min_height": null,
            "padding": null,
            "grid_auto_rows": null,
            "grid_gap": null,
            "max_width": null,
            "order": null,
            "_view_module_version": "1.2.0",
            "grid_template_areas": null,
            "object_position": null,
            "object_fit": null,
            "grid_auto_columns": null,
            "margin": null,
            "display": null,
            "left": null
          }
        },
        "30b333b76ff7459ebbbb5e1cef51ba89": {
          "model_module": "@jupyter-widgets/controls",
          "model_name": "DescriptionStyleModel",
          "state": {
            "_view_name": "StyleView",
            "_model_name": "DescriptionStyleModel",
            "description_width": "",
            "_view_module": "@jupyter-widgets/base",
            "_model_module_version": "1.5.0",
            "_view_count": null,
            "_view_module_version": "1.2.0",
            "_model_module": "@jupyter-widgets/controls"
          }
        },
        "170d7918a06b43e4b174e003b4aa08c0": {
          "model_module": "@jupyter-widgets/base",
          "model_name": "LayoutModel",
          "state": {
            "_view_name": "LayoutView",
            "grid_template_rows": null,
            "right": null,
            "justify_content": null,
            "_view_module": "@jupyter-widgets/base",
            "overflow": null,
            "_model_module_version": "1.2.0",
            "_view_count": null,
            "flex_flow": null,
            "width": null,
            "min_width": null,
            "border": null,
            "align_items": null,
            "bottom": null,
            "_model_module": "@jupyter-widgets/base",
            "top": null,
            "grid_column": null,
            "overflow_y": null,
            "overflow_x": null,
            "grid_auto_flow": null,
            "grid_area": null,
            "grid_template_columns": null,
            "flex": null,
            "_model_name": "LayoutModel",
            "justify_items": null,
            "grid_row": null,
            "max_height": null,
            "align_content": null,
            "visibility": null,
            "align_self": null,
            "height": null,
            "min_height": null,
            "padding": null,
            "grid_auto_rows": null,
            "grid_gap": null,
            "max_width": null,
            "order": null,
            "_view_module_version": "1.2.0",
            "grid_template_areas": null,
            "object_position": null,
            "object_fit": null,
            "grid_auto_columns": null,
            "margin": null,
            "display": null,
            "left": null
          }
        },
        "9c80875d8d1f46cfb1627a90d217b01d": {
          "model_module": "@jupyter-widgets/controls",
          "model_name": "HBoxModel",
          "state": {
            "_view_name": "HBoxView",
            "_dom_classes": [],
            "_model_name": "HBoxModel",
            "_view_module": "@jupyter-widgets/controls",
            "_model_module_version": "1.5.0",
            "_view_count": null,
            "_view_module_version": "1.5.0",
            "box_style": "",
            "layout": "IPY_MODEL_4d7b3e9f246a415db66559444a19f330",
            "_model_module": "@jupyter-widgets/controls",
            "children": [
              "IPY_MODEL_f028e54604d94bdca1baa2fa4f81108f",
              "IPY_MODEL_7edd55b1eb1e4f0a9e34e77d4bc48700"
            ]
          }
        },
        "4d7b3e9f246a415db66559444a19f330": {
          "model_module": "@jupyter-widgets/base",
          "model_name": "LayoutModel",
          "state": {
            "_view_name": "LayoutView",
            "grid_template_rows": null,
            "right": null,
            "justify_content": null,
            "_view_module": "@jupyter-widgets/base",
            "overflow": null,
            "_model_module_version": "1.2.0",
            "_view_count": null,
            "flex_flow": null,
            "width": null,
            "min_width": null,
            "border": null,
            "align_items": null,
            "bottom": null,
            "_model_module": "@jupyter-widgets/base",
            "top": null,
            "grid_column": null,
            "overflow_y": null,
            "overflow_x": null,
            "grid_auto_flow": null,
            "grid_area": null,
            "grid_template_columns": null,
            "flex": null,
            "_model_name": "LayoutModel",
            "justify_items": null,
            "grid_row": null,
            "max_height": null,
            "align_content": null,
            "visibility": null,
            "align_self": null,
            "height": null,
            "min_height": null,
            "padding": null,
            "grid_auto_rows": null,
            "grid_gap": null,
            "max_width": null,
            "order": null,
            "_view_module_version": "1.2.0",
            "grid_template_areas": null,
            "object_position": null,
            "object_fit": null,
            "grid_auto_columns": null,
            "margin": null,
            "display": null,
            "left": null
          }
        },
        "f028e54604d94bdca1baa2fa4f81108f": {
          "model_module": "@jupyter-widgets/controls",
          "model_name": "IntProgressModel",
          "state": {
            "_view_name": "ProgressView",
            "style": "IPY_MODEL_7db14352a6e24e72a0ac6ca3011aeb0d",
            "_dom_classes": [],
            "description": "100%",
            "_model_name": "IntProgressModel",
            "bar_style": "success",
            "max": 553433881,
            "_view_module": "@jupyter-widgets/controls",
            "_model_module_version": "1.5.0",
            "value": 553433881,
            "_view_count": null,
            "_view_module_version": "1.5.0",
            "orientation": "horizontal",
            "min": 0,
            "description_tooltip": null,
            "_model_module": "@jupyter-widgets/controls",
            "layout": "IPY_MODEL_b4af78b1607445849b4dcddf7a3afc8d"
          }
        },
        "7edd55b1eb1e4f0a9e34e77d4bc48700": {
          "model_module": "@jupyter-widgets/controls",
          "model_name": "HTMLModel",
          "state": {
            "_view_name": "HTMLView",
            "style": "IPY_MODEL_66e30ce8500444f6a1d07734749e3e74",
            "_dom_classes": [],
            "description": "",
            "_model_name": "HTMLModel",
            "placeholder": "​",
            "_view_module": "@jupyter-widgets/controls",
            "_model_module_version": "1.5.0",
            "value": " 528M/528M [00:16&lt;00:00, 33.8MB/s]",
            "_view_count": null,
            "_view_module_version": "1.5.0",
            "description_tooltip": null,
            "_model_module": "@jupyter-widgets/controls",
            "layout": "IPY_MODEL_af4d074432324b0e8e0e42f7c3ed0afb"
          }
        },
        "7db14352a6e24e72a0ac6ca3011aeb0d": {
          "model_module": "@jupyter-widgets/controls",
          "model_name": "ProgressStyleModel",
          "state": {
            "_view_name": "StyleView",
            "_model_name": "ProgressStyleModel",
            "description_width": "initial",
            "_view_module": "@jupyter-widgets/base",
            "_model_module_version": "1.5.0",
            "_view_count": null,
            "_view_module_version": "1.2.0",
            "bar_color": null,
            "_model_module": "@jupyter-widgets/controls"
          }
        },
        "b4af78b1607445849b4dcddf7a3afc8d": {
          "model_module": "@jupyter-widgets/base",
          "model_name": "LayoutModel",
          "state": {
            "_view_name": "LayoutView",
            "grid_template_rows": null,
            "right": null,
            "justify_content": null,
            "_view_module": "@jupyter-widgets/base",
            "overflow": null,
            "_model_module_version": "1.2.0",
            "_view_count": null,
            "flex_flow": null,
            "width": null,
            "min_width": null,
            "border": null,
            "align_items": null,
            "bottom": null,
            "_model_module": "@jupyter-widgets/base",
            "top": null,
            "grid_column": null,
            "overflow_y": null,
            "overflow_x": null,
            "grid_auto_flow": null,
            "grid_area": null,
            "grid_template_columns": null,
            "flex": null,
            "_model_name": "LayoutModel",
            "justify_items": null,
            "grid_row": null,
            "max_height": null,
            "align_content": null,
            "visibility": null,
            "align_self": null,
            "height": null,
            "min_height": null,
            "padding": null,
            "grid_auto_rows": null,
            "grid_gap": null,
            "max_width": null,
            "order": null,
            "_view_module_version": "1.2.0",
            "grid_template_areas": null,
            "object_position": null,
            "object_fit": null,
            "grid_auto_columns": null,
            "margin": null,
            "display": null,
            "left": null
          }
        },
        "66e30ce8500444f6a1d07734749e3e74": {
          "model_module": "@jupyter-widgets/controls",
          "model_name": "DescriptionStyleModel",
          "state": {
            "_view_name": "StyleView",
            "_model_name": "DescriptionStyleModel",
            "description_width": "",
            "_view_module": "@jupyter-widgets/base",
            "_model_module_version": "1.5.0",
            "_view_count": null,
            "_view_module_version": "1.2.0",
            "_model_module": "@jupyter-widgets/controls"
          }
        },
        "af4d074432324b0e8e0e42f7c3ed0afb": {
          "model_module": "@jupyter-widgets/base",
          "model_name": "LayoutModel",
          "state": {
            "_view_name": "LayoutView",
            "grid_template_rows": null,
            "right": null,
            "justify_content": null,
            "_view_module": "@jupyter-widgets/base",
            "overflow": null,
            "_model_module_version": "1.2.0",
            "_view_count": null,
            "flex_flow": null,
            "width": null,
            "min_width": null,
            "border": null,
            "align_items": null,
            "bottom": null,
            "_model_module": "@jupyter-widgets/base",
            "top": null,
            "grid_column": null,
            "overflow_y": null,
            "overflow_x": null,
            "grid_auto_flow": null,
            "grid_area": null,
            "grid_template_columns": null,
            "flex": null,
            "_model_name": "LayoutModel",
            "justify_items": null,
            "grid_row": null,
            "max_height": null,
            "align_content": null,
            "visibility": null,
            "align_self": null,
            "height": null,
            "min_height": null,
            "padding": null,
            "grid_auto_rows": null,
            "grid_gap": null,
            "max_width": null,
            "order": null,
            "_view_module_version": "1.2.0",
            "grid_template_areas": null,
            "object_position": null,
            "object_fit": null,
            "grid_auto_columns": null,
            "margin": null,
            "display": null,
            "left": null
          }
        },
        "623a32dae2ee4c56967f556392a6bb75": {
          "model_module": "@jupyter-widgets/controls",
          "model_name": "HBoxModel",
          "state": {
            "_view_name": "HBoxView",
            "_dom_classes": [],
            "_model_name": "HBoxModel",
            "_view_module": "@jupyter-widgets/controls",
            "_model_module_version": "1.5.0",
            "_view_count": null,
            "_view_module_version": "1.5.0",
            "box_style": "",
            "layout": "IPY_MODEL_d8a26f48f5d74e768f8cd68454b8ce98",
            "_model_module": "@jupyter-widgets/controls",
            "children": [
              "IPY_MODEL_e11dcd1db280442192908706e422685e",
              "IPY_MODEL_2b1f6dd1554f4a7bb9cd72fdf51715b6"
            ]
          }
        },
        "d8a26f48f5d74e768f8cd68454b8ce98": {
          "model_module": "@jupyter-widgets/base",
          "model_name": "LayoutModel",
          "state": {
            "_view_name": "LayoutView",
            "grid_template_rows": null,
            "right": null,
            "justify_content": null,
            "_view_module": "@jupyter-widgets/base",
            "overflow": null,
            "_model_module_version": "1.2.0",
            "_view_count": null,
            "flex_flow": null,
            "width": null,
            "min_width": null,
            "border": null,
            "align_items": null,
            "bottom": null,
            "_model_module": "@jupyter-widgets/base",
            "top": null,
            "grid_column": null,
            "overflow_y": null,
            "overflow_x": null,
            "grid_auto_flow": null,
            "grid_area": null,
            "grid_template_columns": null,
            "flex": null,
            "_model_name": "LayoutModel",
            "justify_items": null,
            "grid_row": null,
            "max_height": null,
            "align_content": null,
            "visibility": null,
            "align_self": null,
            "height": null,
            "min_height": null,
            "padding": null,
            "grid_auto_rows": null,
            "grid_gap": null,
            "max_width": null,
            "order": null,
            "_view_module_version": "1.2.0",
            "grid_template_areas": null,
            "object_position": null,
            "object_fit": null,
            "grid_auto_columns": null,
            "margin": null,
            "display": null,
            "left": null
          }
        },
        "e11dcd1db280442192908706e422685e": {
          "model_module": "@jupyter-widgets/controls",
          "model_name": "IntProgressModel",
          "state": {
            "_view_name": "ProgressView",
            "style": "IPY_MODEL_5b8afab5ef9546108db3ae50fd8f0946",
            "_dom_classes": [],
            "description": "100%",
            "_model_name": "IntProgressModel",
            "bar_style": "success",
            "max": 115730790,
            "_view_module": "@jupyter-widgets/controls",
            "_model_module_version": "1.5.0",
            "value": 115730790,
            "_view_count": null,
            "_view_module_version": "1.5.0",
            "orientation": "horizontal",
            "min": 0,
            "description_tooltip": null,
            "_model_module": "@jupyter-widgets/controls",
            "layout": "IPY_MODEL_8bc44805377249b19ba5a3078224f1da"
          }
        },
        "2b1f6dd1554f4a7bb9cd72fdf51715b6": {
          "model_module": "@jupyter-widgets/controls",
          "model_name": "HTMLModel",
          "state": {
            "_view_name": "HTMLView",
            "style": "IPY_MODEL_97fc41daf941496580ae410363c0bda7",
            "_dom_classes": [],
            "description": "",
            "_model_name": "HTMLModel",
            "placeholder": "​",
            "_view_module": "@jupyter-widgets/controls",
            "_model_module_version": "1.5.0",
            "value": " 110M/110M [00:12&lt;00:00, 9.45MB/s]",
            "_view_count": null,
            "_view_module_version": "1.5.0",
            "description_tooltip": null,
            "_model_module": "@jupyter-widgets/controls",
            "layout": "IPY_MODEL_31b48d0d013f47b99ef510bbed5d6fe4"
          }
        },
        "5b8afab5ef9546108db3ae50fd8f0946": {
          "model_module": "@jupyter-widgets/controls",
          "model_name": "ProgressStyleModel",
          "state": {
            "_view_name": "StyleView",
            "_model_name": "ProgressStyleModel",
            "description_width": "initial",
            "_view_module": "@jupyter-widgets/base",
            "_model_module_version": "1.5.0",
            "_view_count": null,
            "_view_module_version": "1.2.0",
            "bar_color": null,
            "_model_module": "@jupyter-widgets/controls"
          }
        },
        "8bc44805377249b19ba5a3078224f1da": {
          "model_module": "@jupyter-widgets/base",
          "model_name": "LayoutModel",
          "state": {
            "_view_name": "LayoutView",
            "grid_template_rows": null,
            "right": null,
            "justify_content": null,
            "_view_module": "@jupyter-widgets/base",
            "overflow": null,
            "_model_module_version": "1.2.0",
            "_view_count": null,
            "flex_flow": null,
            "width": null,
            "min_width": null,
            "border": null,
            "align_items": null,
            "bottom": null,
            "_model_module": "@jupyter-widgets/base",
            "top": null,
            "grid_column": null,
            "overflow_y": null,
            "overflow_x": null,
            "grid_auto_flow": null,
            "grid_area": null,
            "grid_template_columns": null,
            "flex": null,
            "_model_name": "LayoutModel",
            "justify_items": null,
            "grid_row": null,
            "max_height": null,
            "align_content": null,
            "visibility": null,
            "align_self": null,
            "height": null,
            "min_height": null,
            "padding": null,
            "grid_auto_rows": null,
            "grid_gap": null,
            "max_width": null,
            "order": null,
            "_view_module_version": "1.2.0",
            "grid_template_areas": null,
            "object_position": null,
            "object_fit": null,
            "grid_auto_columns": null,
            "margin": null,
            "display": null,
            "left": null
          }
        },
        "97fc41daf941496580ae410363c0bda7": {
          "model_module": "@jupyter-widgets/controls",
          "model_name": "DescriptionStyleModel",
          "state": {
            "_view_name": "StyleView",
            "_model_name": "DescriptionStyleModel",
            "description_width": "",
            "_view_module": "@jupyter-widgets/base",
            "_model_module_version": "1.5.0",
            "_view_count": null,
            "_view_module_version": "1.2.0",
            "_model_module": "@jupyter-widgets/controls"
          }
        },
        "31b48d0d013f47b99ef510bbed5d6fe4": {
          "model_module": "@jupyter-widgets/base",
          "model_name": "LayoutModel",
          "state": {
            "_view_name": "LayoutView",
            "grid_template_rows": null,
            "right": null,
            "justify_content": null,
            "_view_module": "@jupyter-widgets/base",
            "overflow": null,
            "_model_module_version": "1.2.0",
            "_view_count": null,
            "flex_flow": null,
            "width": null,
            "min_width": null,
            "border": null,
            "align_items": null,
            "bottom": null,
            "_model_module": "@jupyter-widgets/base",
            "top": null,
            "grid_column": null,
            "overflow_y": null,
            "overflow_x": null,
            "grid_auto_flow": null,
            "grid_area": null,
            "grid_template_columns": null,
            "flex": null,
            "_model_name": "LayoutModel",
            "justify_items": null,
            "grid_row": null,
            "max_height": null,
            "align_content": null,
            "visibility": null,
            "align_self": null,
            "height": null,
            "min_height": null,
            "padding": null,
            "grid_auto_rows": null,
            "grid_gap": null,
            "max_width": null,
            "order": null,
            "_view_module_version": "1.2.0",
            "grid_template_areas": null,
            "object_position": null,
            "object_fit": null,
            "grid_auto_columns": null,
            "margin": null,
            "display": null,
            "left": null
          }
        }
      }
    }
  },
  "cells": [
    {
      "cell_type": "markdown",
      "metadata": {
        "id": "view-in-github",
        "colab_type": "text"
      },
      "source": [
        "<a href=\"https://colab.research.google.com/github/lo-uis/Team_ChoLab/blob/develop/stl_10.ipynb\" target=\"_parent\"><img src=\"https://colab.research.google.com/assets/colab-badge.svg\" alt=\"Open In Colab\"/></a>"
      ]
    },
    {
      "cell_type": "code",
      "metadata": {
        "id": "nQDSbK1bQrvl",
        "colab_type": "code",
        "outputId": "93cbcdaa-7fb0-48ae-bf01-60e6cab62ac0",
        "colab": {
          "base_uri": "https://localhost:8080/",
          "height": 122
        }
      },
      "source": [
        "import google.colab.drive\n",
        "google.colab.drive.mount(\"gdrive\")"
      ],
      "execution_count": 0,
      "outputs": [
        {
          "output_type": "stream",
          "text": [
            "Go to this URL in a browser: https://accounts.google.com/o/oauth2/auth?client_id=947318989803-6bn6qk8qdgf4n4g3pfee6491hc0brc4i.apps.googleusercontent.com&redirect_uri=urn%3aietf%3awg%3aoauth%3a2.0%3aoob&response_type=code&scope=email%20https%3a%2f%2fwww.googleapis.com%2fauth%2fdocs.test%20https%3a%2f%2fwww.googleapis.com%2fauth%2fdrive%20https%3a%2f%2fwww.googleapis.com%2fauth%2fdrive.photos.readonly%20https%3a%2f%2fwww.googleapis.com%2fauth%2fpeopleapi.readonly\n",
            "\n",
            "Enter your authorization code:\n",
            "··········\n",
            "Mounted at gdrive\n"
          ],
          "name": "stdout"
        }
      ]
    },
    {
      "cell_type": "code",
      "metadata": {
        "id": "4_nBMXzoUGmn",
        "colab_type": "code",
        "colab": {}
      },
      "source": [
        "#!pip install pytorch-lightning"
      ],
      "execution_count": 0,
      "outputs": []
    },
    {
      "cell_type": "code",
      "metadata": {
        "id": "afROXj-cRAgr",
        "colab_type": "code",
        "colab": {}
      },
      "source": [
        "import torch\n",
        "import torchvision\n",
        "import torch.optim as optim\n",
        "import torch.nn as nn\n",
        "import torch.nn.functional as F\n",
        "import torch.utils.data as data\n",
        "from PIL import Image\n",
        "from torchvision import models, transforms\n",
        "from tqdm import tqdm\n",
        "import matplotlib.pyplot as plt\n",
        "import numpy as np\n",
        "%matplotlib inline"
      ],
      "execution_count": 0,
      "outputs": []
    },
    {
      "cell_type": "markdown",
      "metadata": {
        "id": "ujPs9LqRDDYo",
        "colab_type": "text"
      },
      "source": [
        "# **前処理**"
      ]
    },
    {
      "cell_type": "code",
      "metadata": {
        "id": "R6Mi9CU4UvzG",
        "colab_type": "code",
        "colab": {}
      },
      "source": [
        "# tranform tensor\n",
        "#前処理できる\n",
        "#trainデータセットの前処理\n",
        "\n",
        "\n",
        "transform_train = transforms.Compose([\n",
        "    transforms.RandomResizedCrop(224), #サイズ合わせ\n",
        "    transforms.RandomHorizontalFlip(), \n",
        "    #transforms.RandomVerticalFlip(),\n",
        "    transforms.ToTensor() ,              #型変換(?)\n",
        "    transforms.Normalize((0.485, 0.456, 0.406), (0.229, 0.224, 0.225))  #https://teratail.com/questions/234027\n",
        "    \n",
        "    ])"
      ],
      "execution_count": 0,
      "outputs": []
    },
    {
      "cell_type": "code",
      "metadata": {
        "id": "Ygqf2qJ2tjkc",
        "colab_type": "code",
        "colab": {}
      },
      "source": [
        "#validationデータセットの前処理\n",
        "transform_val = transforms.Compose([\n",
        "    transforms.RandomResizedCrop(224), #サイズ合わせ\n",
        "    transforms.ToTensor() ,              #型変換(?)\n",
        "    transforms.Normalize((0.485, 0.456, 0.406), (0.229, 0.224, 0.225) ) #多分正規化\n",
        "    ])"
      ],
      "execution_count": 0,
      "outputs": []
    },
    {
      "cell_type": "code",
      "metadata": {
        "id": "VQPeRzXgVJjv",
        "colab_type": "code",
        "outputId": "803e914a-c1fc-4767-87ee-7bb534d6a7e6",
        "colab": {
          "base_uri": "https://localhost:8080/",
          "height": 83,
          "referenced_widgets": [
            "de0957ac487a40118ea5561aeb7b494f",
            "9b5bc8c777e44fcb9a651bbc30e99e42",
            "00fd1a24bc884bed986edfa7d900be44",
            "1bf90b4804344e3a8a7132d227f50198",
            "ffa75d2678d243f285ab463beb1cdddf",
            "fffecc185b7647739a38dee185beab52",
            "30b333b76ff7459ebbbb5e1cef51ba89",
            "170d7918a06b43e4b174e003b4aa08c0"
          ]
        }
      },
      "source": [
        "#load train\n",
        "#学習に用いて良い画像は、STL10のtrain,unlabeled画像のみとする。\n",
        "#STL10のテスト画像は、上記の運営賞に用いるので、validationとして用いること\n",
        "train = torchvision.datasets.STL10(\n",
        "    root=\".\", \n",
        "    split='train', \n",
        "    folds=None,                          #０〜９で選べるぽい\n",
        "    transform=transform_train,                     #読み込み時の処理\n",
        "    target_transform=None, \n",
        "    download=True)"
      ],
      "execution_count": 0,
      "outputs": [
        {
          "output_type": "stream",
          "text": [
            "Downloading http://ai.stanford.edu/~acoates/stl10/stl10_binary.tar.gz to ./stl10_binary.tar.gz\n"
          ],
          "name": "stdout"
        },
        {
          "output_type": "display_data",
          "data": {
            "application/vnd.jupyter.widget-view+json": {
              "model_id": "de0957ac487a40118ea5561aeb7b494f",
              "version_minor": 0,
              "version_major": 2
            },
            "text/plain": [
              "HBox(children=(IntProgress(value=1, bar_style='info', max=1), HTML(value='')))"
            ]
          },
          "metadata": {
            "tags": []
          }
        },
        {
          "output_type": "stream",
          "text": [
            "Extracting ./stl10_binary.tar.gz to .\n"
          ],
          "name": "stdout"
        }
      ]
    },
    {
      "cell_type": "code",
      "metadata": {
        "id": "FD6JXM3GWIHN",
        "colab_type": "code",
        "outputId": "3a3e8465-7040-49a4-9081-ff7b7a9314e0",
        "colab": {
          "base_uri": "https://localhost:8080/",
          "height": 204
        }
      },
      "source": [
        "#データセットの中身を確認\n",
        "train"
      ],
      "execution_count": 0,
      "outputs": [
        {
          "output_type": "execute_result",
          "data": {
            "text/plain": [
              "Dataset STL10\n",
              "    Number of datapoints: 5000\n",
              "    Root location: .\n",
              "    Split: train\n",
              "    StandardTransform\n",
              "Transform: Compose(\n",
              "               RandomResizedCrop(size=(224, 224), scale=(0.08, 1.0), ratio=(0.75, 1.3333), interpolation=PIL.Image.BILINEAR)\n",
              "               RandomHorizontalFlip(p=0.5)\n",
              "               ToTensor()\n",
              "               Normalize(mean=(0.485, 0.456, 0.406), std=(0.229, 0.224, 0.225))\n",
              "           )"
            ]
          },
          "metadata": {
            "tags": []
          },
          "execution_count": 50
        }
      ]
    },
    {
      "cell_type": "code",
      "metadata": {
        "id": "5B0tid7wX-na",
        "colab_type": "code",
        "outputId": "66841a02-d0b1-4d31-ef72-8a75266f9b4c",
        "colab": {
          "base_uri": "https://localhost:8080/",
          "height": 34
        }
      },
      "source": [
        "#load test for validation\n",
        "val = torchvision.datasets.STL10(\n",
        "    root=\".\", \n",
        "    split=\"test\", \n",
        "    folds=None,                          \n",
        "    transform=transform_val,                     \n",
        "    target_transform=None, \n",
        "    download=True)"
      ],
      "execution_count": 0,
      "outputs": [
        {
          "output_type": "stream",
          "text": [
            "Files already downloaded and verified\n"
          ],
          "name": "stdout"
        }
      ]
    },
    {
      "cell_type": "code",
      "metadata": {
        "id": "0CgC-_sOYmCs",
        "colab_type": "code",
        "outputId": "3772f056-4530-46ac-a26f-1879071b3c8b",
        "colab": {
          "base_uri": "https://localhost:8080/",
          "height": 187
        }
      },
      "source": [
        "val"
      ],
      "execution_count": 0,
      "outputs": [
        {
          "output_type": "execute_result",
          "data": {
            "text/plain": [
              "Dataset STL10\n",
              "    Number of datapoints: 8000\n",
              "    Root location: .\n",
              "    Split: test\n",
              "    StandardTransform\n",
              "Transform: Compose(\n",
              "               RandomResizedCrop(size=(32, 32), scale=(0.08, 1.0), ratio=(0.75, 1.3333), interpolation=PIL.Image.BILINEAR)\n",
              "               ToTensor()\n",
              "               Normalize(mean=(0.485, 0.456, 0.406), std=(0.229, 0.224, 0.225))\n",
              "           )"
            ]
          },
          "metadata": {
            "tags": []
          },
          "execution_count": 11
        }
      ]
    },
    {
      "cell_type": "code",
      "metadata": {
        "id": "rJKiV5MaY_F0",
        "colab_type": "code",
        "colab": {}
      },
      "source": [
        "#train[0][0].shape"
      ],
      "execution_count": 0,
      "outputs": []
    },
    {
      "cell_type": "code",
      "metadata": {
        "id": "8OzIEmNRaJ71",
        "colab_type": "code",
        "outputId": "f089db33-308a-43f4-cc2b-9f32fba620af",
        "colab": {
          "base_uri": "https://localhost:8080/",
          "height": 34
        }
      },
      "source": [
        "#可視化してみる\n",
        "import numpy as np\n",
        "import matplotlib.pyplot as plt\n",
        "img = np.transpose(train[1][0],(1,2,0))\n",
        "img.shape"
      ],
      "execution_count": 0,
      "outputs": [
        {
          "output_type": "execute_result",
          "data": {
            "text/plain": [
              "torch.Size([224, 224, 3])"
            ]
          },
          "metadata": {
            "tags": []
          },
          "execution_count": 7
        }
      ]
    },
    {
      "cell_type": "code",
      "metadata": {
        "id": "yy5ZkYwAab2k",
        "colab_type": "code",
        "outputId": "b0551753-e7f4-4585-8e29-2b87051712a0",
        "colab": {
          "base_uri": "https://localhost:8080/",
          "height": 302
        }
      },
      "source": [
        "plt.imshow(img)"
      ],
      "execution_count": 0,
      "outputs": [
        {
          "output_type": "stream",
          "text": [
            "Clipping input data to the valid range for imshow with RGB data ([0..1] for floats or [0..255] for integers).\n"
          ],
          "name": "stderr"
        },
        {
          "output_type": "execute_result",
          "data": {
            "text/plain": [
              "<matplotlib.image.AxesImage at 0x7fb396148cf8>"
            ]
          },
          "metadata": {
            "tags": []
          },
          "execution_count": 34
        },
        {
          "output_type": "display_data",
          "data": {
            "image/png": "[encoded data removed]",
            "text/plain": [
              "<Figure size 432x288 with 1 Axes>"
            ]
          },
          "metadata": {
            "tags": [],
            "needs_background": "light"
          }
        }
      ]
    },
    {
      "cell_type": "code",
      "metadata": {
        "id": "KS8Y9W9bahko",
        "colab_type": "code",
        "colab": {}
      },
      "source": [
        "#type(train[0])"
      ],
      "execution_count": 0,
      "outputs": []
    },
    {
      "cell_type": "code",
      "metadata": {
        "id": "n_lmknMMbLKz",
        "colab_type": "code",
        "colab": {}
      },
      "source": [
        "#train[0][0]"
      ],
      "execution_count": 0,
      "outputs": []
    },
    {
      "cell_type": "code",
      "metadata": {
        "id": "DFF5sJODb8yJ",
        "colab_type": "code",
        "colab": {}
      },
      "source": [
        "#train[1][1]"
      ],
      "execution_count": 0,
      "outputs": []
    },
    {
      "cell_type": "code",
      "metadata": {
        "id": "yxeTN0wwcm7R",
        "colab_type": "code",
        "colab": {}
      },
      "source": [
        "batch_size = 32\n",
        "\n",
        "training_loader = torch.utils.data.DataLoader(train, batch_size=batch_size, shuffle=True)\n",
        "validation_loader = torch.utils.data.DataLoader(val, batch_size=batch_size, shuffle=False) # testはvaldationとして扱う\n",
        "\n",
        "classes = (\"airplane\",\"bird\",\"car\",\"cat\",\"deer\",\"dog\",\"horse\",\"monkey\",\"ship\",\"truck\")\n",
        "\n",
        "#dataloaders_dict = {\"train\": train_dataloader, \"val\": val_dataloader} # 辞書オブジェクトにまとめる"
      ],
      "execution_count": 0,
      "outputs": []
    },
    {
      "cell_type": "markdown",
      "metadata": {
        "id": "7X3Nwxj9rNLR",
        "colab_type": "text"
      },
      "source": [
        "# **VGG16ファインチューニング**\n",
        "参考：https://github.com/YutaroOgawa/pytorch_advanced"
      ]
    },
    {
      "cell_type": "code",
      "metadata": {
        "id": "1qVOdn8wrQ1f",
        "colab_type": "code",
        "outputId": "fa30b131-6b1b-4acb-c9a2-2b54b32aac38",
        "colab": {
          "base_uri": "https://localhost:8080/",
          "height": 848,
          "referenced_widgets": [
            "9c80875d8d1f46cfb1627a90d217b01d",
            "4d7b3e9f246a415db66559444a19f330",
            "f028e54604d94bdca1baa2fa4f81108f",
            "7edd55b1eb1e4f0a9e34e77d4bc48700",
            "7db14352a6e24e72a0ac6ca3011aeb0d",
            "b4af78b1607445849b4dcddf7a3afc8d",
            "66e30ce8500444f6a1d07734749e3e74",
            "af4d074432324b0e8e0e42f7c3ed0afb"
          ]
        }
      },
      "source": [
        "# 学習済みのVGG-16モデルをロード\n",
        "# VGG-16モデルのインスタンスを生成\n",
        "#GPU使う\n",
        "device = torch.device(\"cuda:0\" if torch.cuda.is_available() else \"cpu\")\n",
        "use_pretrained = True  # 学習済みのパラメータを使用\n",
        "model = models.vgg16(pretrained=use_pretrained).to(device)\n",
        "print(model)\n",
        "\n",
        "\n",
        "model.classifier[6] = nn.Linear(in_features=4096, out_features=10).to(device)"
      ],
      "execution_count": 0,
      "outputs": [
        {
          "output_type": "stream",
          "text": [
            "Downloading: \"https://download.pytorch.org/models/vgg16-397923af.pth\" to /root/.cache/torch/checkpoints/vgg16-397923af.pth\n"
          ],
          "name": "stderr"
        },
        {
          "output_type": "display_data",
          "data": {
            "application/vnd.jupyter.widget-view+json": {
              "model_id": "9c80875d8d1f46cfb1627a90d217b01d",
              "version_minor": 0,
              "version_major": 2
            },
            "text/plain": [
              "HBox(children=(IntProgress(value=0, max=553433881), HTML(value='')))"
            ]
          },
          "metadata": {
            "tags": []
          }
        },
        {
          "output_type": "stream",
          "text": [
            "\n",
            "VGG(\n",
            "  (features): Sequential(\n",
            "    (0): Conv2d(3, 64, kernel_size=(3, 3), stride=(1, 1), padding=(1, 1))\n",
            "    (1): ReLU(inplace=True)\n",
            "    (2): Conv2d(64, 64, kernel_size=(3, 3), stride=(1, 1), padding=(1, 1))\n",
            "    (3): ReLU(inplace=True)\n",
            "    (4): MaxPool2d(kernel_size=2, stride=2, padding=0, dilation=1, ceil_mode=False)\n",
            "    (5): Conv2d(64, 128, kernel_size=(3, 3), stride=(1, 1), padding=(1, 1))\n",
            "    (6): ReLU(inplace=True)\n",
            "    (7): Conv2d(128, 128, kernel_size=(3, 3), stride=(1, 1), padding=(1, 1))\n",
            "    (8): ReLU(inplace=True)\n",
            "    (9): MaxPool2d(kernel_size=2, stride=2, padding=0, dilation=1, ceil_mode=False)\n",
            "    (10): Conv2d(128, 256, kernel_size=(3, 3), stride=(1, 1), padding=(1, 1))\n",
            "    (11): ReLU(inplace=True)\n",
            "    (12): Conv2d(256, 256, kernel_size=(3, 3), stride=(1, 1), padding=(1, 1))\n",
            "    (13): ReLU(inplace=True)\n",
            "    (14): Conv2d(256, 256, kernel_size=(3, 3), stride=(1, 1), padding=(1, 1))\n",
            "    (15): ReLU(inplace=True)\n",
            "    (16): MaxPool2d(kernel_size=2, stride=2, padding=0, dilation=1, ceil_mode=False)\n",
            "    (17): Conv2d(256, 512, kernel_size=(3, 3), stride=(1, 1), padding=(1, 1))\n",
            "    (18): ReLU(inplace=True)\n",
            "    (19): Conv2d(512, 512, kernel_size=(3, 3), stride=(1, 1), padding=(1, 1))\n",
            "    (20): ReLU(inplace=True)\n",
            "    (21): Conv2d(512, 512, kernel_size=(3, 3), stride=(1, 1), padding=(1, 1))\n",
            "    (22): ReLU(inplace=True)\n",
            "    (23): MaxPool2d(kernel_size=2, stride=2, padding=0, dilation=1, ceil_mode=False)\n",
            "    (24): Conv2d(512, 512, kernel_size=(3, 3), stride=(1, 1), padding=(1, 1))\n",
            "    (25): ReLU(inplace=True)\n",
            "    (26): Conv2d(512, 512, kernel_size=(3, 3), stride=(1, 1), padding=(1, 1))\n",
            "    (27): ReLU(inplace=True)\n",
            "    (28): Conv2d(512, 512, kernel_size=(3, 3), stride=(1, 1), padding=(1, 1))\n",
            "    (29): ReLU(inplace=True)\n",
            "    (30): MaxPool2d(kernel_size=2, stride=2, padding=0, dilation=1, ceil_mode=False)\n",
            "  )\n",
            "  (avgpool): AdaptiveAvgPool2d(output_size=(7, 7))\n",
            "  (classifier): Sequential(\n",
            "    (0): Linear(in_features=25088, out_features=4096, bias=True)\n",
            "    (1): ReLU(inplace=True)\n",
            "    (2): Dropout(p=0.5, inplace=False)\n",
            "    (3): Linear(in_features=4096, out_features=4096, bias=True)\n",
            "    (4): ReLU(inplace=True)\n",
            "    (5): Dropout(p=0.5, inplace=False)\n",
            "    (6): Linear(in_features=4096, out_features=1000, bias=True)\n",
            "  )\n",
            ")\n"
          ],
          "name": "stdout"
        }
      ]
    },
    {
      "cell_type": "code",
      "metadata": {
        "id": "_pK-cn-erquZ",
        "colab_type": "code",
        "colab": {}
      },
      "source": [
        "# 損失関数の設定\n",
        "criterion = nn.CrossEntropyLoss()"
      ],
      "execution_count": 0,
      "outputs": []
    },
    {
      "cell_type": "code",
      "metadata": {
        "id": "iGOeHYBlrvGh",
        "colab_type": "code",
        "outputId": "ae1ccfd3-5a21-4414-93de-e16953b55b45",
        "colab": {
          "base_uri": "https://localhost:8080/",
          "height": 561
        }
      },
      "source": [
        "# ファインチューニングで学習させるパラメータを、変数params_to_updateの1～3に格納する\n",
        "\n",
        "params_to_update_1 = []\n",
        "params_to_update_2 = []\n",
        "params_to_update_3 = []\n",
        "\n",
        "# 再学習するパラメーターを指定する\n",
        "update_param_names_1 = [\"features\"]\n",
        "update_param_names_2 = [\"classifier.0.weight\",\n",
        "                        \"classifier.0.bias\", \"classifier.3.weight\", \"classifier.3.bias\"]\n",
        "update_param_names_3 = [\"classifier.6.weight\", \"classifier.6.bias\"]\n",
        "\n",
        "# パラメータごとに各リストに格納する\n",
        "for name, param in model.named_parameters():\n",
        "    if update_param_names_1[0] in name:\n",
        "    \n",
        "        param.requires_grad = True\n",
        "        params_to_update_1.append(param)\n",
        "        print(\"params_to_update_1に格納：\", name)\n",
        "\n",
        "    elif name in update_param_names_2:\n",
        "        param.requires_grad = True\n",
        "        params_to_update_2.append(param)\n",
        "        print(\"params_to_update_2に格納：\", name)\n",
        "\n",
        "    elif name in update_param_names_3:\n",
        "        param.requires_grad = True\n",
        "        params_to_update_3.append(param)\n",
        "        print(\"params_to_update_3に格納：\", name)\n",
        "\n",
        "    else:\n",
        "        param.requires_grad = False\n",
        "        print(\"勾配計算なし。学習しない：\", name)\n",
        "  "
      ],
      "execution_count": 0,
      "outputs": [
        {
          "output_type": "stream",
          "text": [
            "params_to_update_1に格納： features.0.weight\n",
            "params_to_update_1に格納： features.0.bias\n",
            "params_to_update_1に格納： features.2.weight\n",
            "params_to_update_1に格納： features.2.bias\n",
            "params_to_update_1に格納： features.5.weight\n",
            "params_to_update_1に格納： features.5.bias\n",
            "params_to_update_1に格納： features.7.weight\n",
            "params_to_update_1に格納： features.7.bias\n",
            "params_to_update_1に格納： features.10.weight\n",
            "params_to_update_1に格納： features.10.bias\n",
            "params_to_update_1に格納： features.12.weight\n",
            "params_to_update_1に格納： features.12.bias\n",
            "params_to_update_1に格納： features.14.weight\n",
            "params_to_update_1に格納： features.14.bias\n",
            "params_to_update_1に格納： features.17.weight\n",
            "params_to_update_1に格納： features.17.bias\n",
            "params_to_update_1に格納： features.19.weight\n",
            "params_to_update_1に格納： features.19.bias\n",
            "params_to_update_1に格納： features.21.weight\n",
            "params_to_update_1に格納： features.21.bias\n",
            "params_to_update_1に格納： features.24.weight\n",
            "params_to_update_1に格納： features.24.bias\n",
            "params_to_update_1に格納： features.26.weight\n",
            "params_to_update_1に格納： features.26.bias\n",
            "params_to_update_1に格納： features.28.weight\n",
            "params_to_update_1に格納： features.28.bias\n",
            "params_to_update_2に格納： classifier.0.weight\n",
            "params_to_update_2に格納： classifier.0.bias\n",
            "params_to_update_2に格納： classifier.3.weight\n",
            "params_to_update_2に格納： classifier.3.bias\n",
            "params_to_update_3に格納： classifier.6.weight\n",
            "params_to_update_3に格納： classifier.6.bias\n"
          ],
          "name": "stdout"
        }
      ]
    },
    {
      "cell_type": "code",
      "metadata": {
        "id": "D6YJbz_9__lB",
        "colab_type": "code",
        "colab": {}
      },
      "source": [
        "\n",
        "#EarlyStopipingを導入するために、pytorchtools.pyをアップする\n",
        "from pytorchtools import EarlyStopping"
      ],
      "execution_count": 0,
      "outputs": []
    },
    {
      "cell_type": "code",
      "metadata": {
        "id": "PJXgtFdZr0J0",
        "colab_type": "code",
        "colab": {}
      },
      "source": [
        "# 最適化手法の設定\n",
        "optimizer = optim.SGD([\n",
        "    {'params': params_to_update_1, 'lr': 1e-5},\n",
        "    {'params': params_to_update_2, 'lr': 5e-5},\n",
        "    {'params': params_to_update_3, 'lr': 1e-4}\n",
        "], momentum=0.9)"
      ],
      "execution_count": 0,
      "outputs": []
    },
    {
      "cell_type": "code",
      "metadata": {
        "id": "J6ci35vHsMxV",
        "colab_type": "code",
        "outputId": "1bed8caa-2e05-436f-9197-fda4a94f3d73",
        "colab": {
          "base_uri": "https://localhost:8080/",
          "height": 1000
        }
      },
      "source": [
        "epochs = 60\n",
        "running_loss_history = []\n",
        "running_corrects_history = []\n",
        "val_running_loss_history = []\n",
        "val_running_corrects_history = []\n",
        "early_stopping = EarlyStopping(patience=3, verbose=True)  # early stopping patience; how long to wait after last time validation loss improved.\n",
        "\n",
        "for e in range(epochs):\n",
        "  \n",
        "  running_loss = 0.0\n",
        "  running_corrects = 0.0\n",
        "  val_running_loss = 0.0\n",
        "  val_running_corrects = 0.0\n",
        "\n",
        "  model.train() #学習モード\n",
        "  \n",
        "  for inputs, labels in tqdm(training_loader):\n",
        "#     DataLoaderのバッチサイズごとにforで取り出して計算\n",
        "#     ここのforの処理が終わると1エポック\n",
        "    inputs = inputs.to(device)\n",
        "    labels = labels.to(device)\n",
        "    outputs = model(inputs)\n",
        "    loss = criterion(outputs, labels)\n",
        "    \n",
        "#     一旦パラメーターの勾配をゼロにして\n",
        "    optimizer.zero_grad()\n",
        "#     勾配の計算\n",
        "    loss.backward()\n",
        "#     学習\n",
        "    optimizer.step()\n",
        "    \n",
        "#     分類わけなので、もっとも数字が大きいものをpredictとする\n",
        "#     バッチ処理しているので2次元目で比較\n",
        "    _, preds = torch.max(outputs, 1)\n",
        "    running_loss += loss.item()\n",
        "#     ラベルと合っているものを足し合わせてaccuracy計算\n",
        "    running_corrects += torch.sum(preds == labels.data)\n",
        "  \n",
        "  model.eval() #検証モード\n",
        "#     pytorchでは勾配の計算の高速化のため、パラメーターを保持しているがテスト時はいらないので止める\n",
        "  with torch.no_grad():\n",
        "    for val_inputs, val_labels in tqdm(validation_loader):\n",
        "      val_inputs = val_inputs.to(device)\n",
        "      val_labels = val_labels.to(device)\n",
        "      val_outputs = model(val_inputs)\n",
        "      val_loss = criterion(val_outputs, val_labels)\n",
        "      \n",
        "      _, val_preds = torch.max(val_outputs, 1)\n",
        "      val_running_loss += val_loss.item()\n",
        "      val_running_corrects += torch.sum(val_preds == val_labels.data)\n",
        "      \n",
        "#   学習過程を記録\n",
        "  epoch_loss = running_loss/len(training_loader.dataset)\n",
        "  epoch_acc = running_corrects.float()/ len(training_loader.dataset)\n",
        "  running_loss_history.append(epoch_loss)\n",
        "  running_corrects_history.append(epoch_acc)\n",
        "  \n",
        "  val_epoch_loss = val_running_loss/len(validation_loader.dataset)\n",
        "#     print('len-validation_loader :'+str(len(validation_loader)))\n",
        "#     print('len-validation_loader :'+str(len(validation_loader.dataset)))\n",
        "  val_epoch_acc = val_running_corrects.float()/len(validation_loader.dataset)\n",
        "  val_running_loss_history.append(val_epoch_loss)\n",
        "  val_running_corrects_history.append(val_epoch_acc)\n",
        "  \n",
        "  print('epoch *', (e+1))\n",
        "  print('training loss: {:.4f}, training acc {:.4f}'.format(epoch_loss, epoch_acc.item()))\n",
        "  print('validation loss: {:.4f}, validation acc{:.4f}'.format(val_epoch_loss,val_epoch_acc.item()))\n",
        "\n",
        "  early_stopping(val_epoch_loss, model)\n",
        "        \n",
        "  if early_stopping.early_stop:\n",
        "      print(\"Early stopping\")\n",
        "      break\n",
        "#学習済みモデルの保存\n",
        "save_path = './weights.pth'\n",
        "torch.save(model.state_dict(), save_path)"
      ],
      "execution_count": 0,
      "outputs": [
        {
          "output_type": "stream",
          "text": [
            "100%|██████████| 157/157 [00:51<00:00,  3.03it/s]\n",
            "100%|██████████| 250/250 [00:37<00:00,  6.71it/s]\n"
          ],
          "name": "stderr"
        },
        {
          "output_type": "stream",
          "text": [
            "epoch * 1\n",
            "training loss: 0.0491, training acc 0.5444\n",
            "validation loss: 0.0283, validation acc0.8253\n",
            "Validation loss decreased (inf --> 0.028257).  Saving model ...\n"
          ],
          "name": "stdout"
        },
        {
          "output_type": "stream",
          "text": [
            "100%|██████████| 157/157 [00:51<00:00,  3.05it/s]\n",
            "100%|██████████| 250/250 [00:37<00:00,  6.69it/s]\n"
          ],
          "name": "stderr"
        },
        {
          "output_type": "stream",
          "text": [
            "epoch * 2\n",
            "training loss: 0.0233, training acc 0.8054\n",
            "validation loss: 0.0178, validation acc0.8518\n",
            "Validation loss decreased (0.028257 --> 0.017794).  Saving model ...\n"
          ],
          "name": "stdout"
        },
        {
          "output_type": "stream",
          "text": [
            "100%|██████████| 157/157 [00:51<00:00,  3.05it/s]\n",
            "100%|██████████| 250/250 [00:37<00:00,  6.68it/s]\n"
          ],
          "name": "stderr"
        },
        {
          "output_type": "stream",
          "text": [
            "epoch * 3\n",
            "training loss: 0.0175, training acc 0.8220\n",
            "validation loss: 0.0150, validation acc0.8528\n",
            "Validation loss decreased (0.017794 --> 0.014999).  Saving model ...\n"
          ],
          "name": "stdout"
        },
        {
          "output_type": "stream",
          "text": [
            "100%|██████████| 157/157 [00:51<00:00,  3.06it/s]\n",
            "100%|██████████| 250/250 [00:37<00:00,  6.70it/s]\n"
          ],
          "name": "stderr"
        },
        {
          "output_type": "stream",
          "text": [
            "epoch * 4\n",
            "training loss: 0.0150, training acc 0.8462\n",
            "validation loss: 0.0131, validation acc0.8670\n",
            "Validation loss decreased (0.014999 --> 0.013142).  Saving model ...\n"
          ],
          "name": "stdout"
        },
        {
          "output_type": "stream",
          "text": [
            "100%|██████████| 157/157 [00:51<00:00,  3.06it/s]\n",
            "100%|██████████| 250/250 [00:37<00:00,  6.71it/s]\n"
          ],
          "name": "stderr"
        },
        {
          "output_type": "stream",
          "text": [
            "epoch * 5\n",
            "training loss: 0.0142, training acc 0.8440\n",
            "validation loss: 0.0125, validation acc0.8670\n",
            "Validation loss decreased (0.013142 --> 0.012510).  Saving model ...\n"
          ],
          "name": "stdout"
        },
        {
          "output_type": "stream",
          "text": [
            "100%|██████████| 157/157 [00:51<00:00,  3.06it/s]\n",
            "100%|██████████| 250/250 [00:37<00:00,  6.68it/s]\n"
          ],
          "name": "stderr"
        },
        {
          "output_type": "stream",
          "text": [
            "epoch * 6\n",
            "training loss: 0.0138, training acc 0.8432\n",
            "validation loss: 0.0123, validation acc0.8671\n",
            "Validation loss decreased (0.012510 --> 0.012315).  Saving model ...\n"
          ],
          "name": "stdout"
        },
        {
          "output_type": "stream",
          "text": [
            "100%|██████████| 157/157 [00:51<00:00,  3.06it/s]\n",
            "100%|██████████| 250/250 [00:37<00:00,  6.69it/s]\n"
          ],
          "name": "stderr"
        },
        {
          "output_type": "stream",
          "text": [
            "epoch * 7\n",
            "training loss: 0.0134, training acc 0.8540\n",
            "validation loss: 0.0118, validation acc0.8716\n",
            "Validation loss decreased (0.012315 --> 0.011826).  Saving model ...\n"
          ],
          "name": "stdout"
        },
        {
          "output_type": "stream",
          "text": [
            "100%|██████████| 157/157 [00:51<00:00,  3.06it/s]\n",
            "100%|██████████| 250/250 [00:37<00:00,  6.70it/s]\n"
          ],
          "name": "stderr"
        },
        {
          "output_type": "stream",
          "text": [
            "epoch * 8\n",
            "training loss: 0.0129, training acc 0.8572\n",
            "validation loss: 0.0116, validation acc0.8698\n",
            "Validation loss decreased (0.011826 --> 0.011624).  Saving model ...\n"
          ],
          "name": "stdout"
        },
        {
          "output_type": "stream",
          "text": [
            "100%|██████████| 157/157 [00:51<00:00,  3.06it/s]\n",
            "100%|██████████| 250/250 [00:37<00:00,  6.69it/s]\n"
          ],
          "name": "stderr"
        },
        {
          "output_type": "stream",
          "text": [
            "epoch * 9\n",
            "training loss: 0.0126, training acc 0.8592\n",
            "validation loss: 0.0112, validation acc0.8745\n",
            "Validation loss decreased (0.011624 --> 0.011241).  Saving model ...\n"
          ],
          "name": "stdout"
        },
        {
          "output_type": "stream",
          "text": [
            "100%|██████████| 157/157 [00:51<00:00,  3.06it/s]\n",
            "100%|██████████| 250/250 [00:37<00:00,  6.72it/s]\n"
          ],
          "name": "stderr"
        },
        {
          "output_type": "stream",
          "text": [
            "epoch * 10\n",
            "training loss: 0.0124, training acc 0.8598\n",
            "validation loss: 0.0112, validation acc0.8756\n",
            "Validation loss decreased (0.011241 --> 0.011237).  Saving model ...\n"
          ],
          "name": "stdout"
        },
        {
          "output_type": "stream",
          "text": [
            "100%|██████████| 157/157 [00:51<00:00,  3.06it/s]\n",
            "100%|██████████| 250/250 [00:37<00:00,  6.70it/s]\n"
          ],
          "name": "stderr"
        },
        {
          "output_type": "stream",
          "text": [
            "epoch * 11\n",
            "training loss: 0.0121, training acc 0.8650\n",
            "validation loss: 0.0107, validation acc0.8773\n",
            "Validation loss decreased (0.011237 --> 0.010726).  Saving model ...\n"
          ],
          "name": "stdout"
        },
        {
          "output_type": "stream",
          "text": [
            "100%|██████████| 157/157 [00:51<00:00,  3.07it/s]\n",
            "100%|██████████| 250/250 [00:37<00:00,  6.76it/s]\n",
            "  0%|          | 0/157 [00:00<?, ?it/s]"
          ],
          "name": "stderr"
        },
        {
          "output_type": "stream",
          "text": [
            "epoch * 12\n",
            "training loss: 0.0124, training acc 0.8604\n",
            "validation loss: 0.0109, validation acc0.8788\n",
            "EarlyStopping counter: 1 out of 3\n"
          ],
          "name": "stdout"
        },
        {
          "output_type": "stream",
          "text": [
            "100%|██████████| 157/157 [00:51<00:00,  3.07it/s]\n",
            "100%|██████████| 250/250 [00:37<00:00,  6.72it/s]\n",
            "  0%|          | 0/157 [00:00<?, ?it/s]"
          ],
          "name": "stderr"
        },
        {
          "output_type": "stream",
          "text": [
            "epoch * 13\n",
            "training loss: 0.0119, training acc 0.8650\n",
            "validation loss: 0.0107, validation acc0.8795\n",
            "EarlyStopping counter: 2 out of 3\n"
          ],
          "name": "stdout"
        },
        {
          "output_type": "stream",
          "text": [
            "100%|██████████| 157/157 [00:51<00:00,  3.07it/s]\n",
            "100%|██████████| 250/250 [00:36<00:00,  6.77it/s]\n"
          ],
          "name": "stderr"
        },
        {
          "output_type": "stream",
          "text": [
            "epoch * 14\n",
            "training loss: 0.0116, training acc 0.8696\n",
            "validation loss: 0.0107, validation acc0.8813\n",
            "Validation loss decreased (0.010726 --> 0.010699).  Saving model ...\n"
          ],
          "name": "stdout"
        },
        {
          "output_type": "stream",
          "text": [
            "100%|██████████| 157/157 [00:51<00:00,  3.06it/s]\n",
            "100%|██████████| 250/250 [00:37<00:00,  6.72it/s]\n"
          ],
          "name": "stderr"
        },
        {
          "output_type": "stream",
          "text": [
            "epoch * 15\n",
            "training loss: 0.0118, training acc 0.8676\n",
            "validation loss: 0.0104, validation acc0.8825\n",
            "Validation loss decreased (0.010699 --> 0.010397).  Saving model ...\n"
          ],
          "name": "stdout"
        },
        {
          "output_type": "stream",
          "text": [
            "100%|██████████| 157/157 [00:51<00:00,  3.06it/s]\n",
            "100%|██████████| 250/250 [00:37<00:00,  6.75it/s]\n",
            "  0%|          | 0/157 [00:00<?, ?it/s]"
          ],
          "name": "stderr"
        },
        {
          "output_type": "stream",
          "text": [
            "epoch * 16\n",
            "training loss: 0.0111, training acc 0.8722\n",
            "validation loss: 0.0105, validation acc0.8831\n",
            "EarlyStopping counter: 1 out of 3\n"
          ],
          "name": "stdout"
        },
        {
          "output_type": "stream",
          "text": [
            "100%|██████████| 157/157 [00:51<00:00,  3.07it/s]\n",
            "100%|██████████| 250/250 [00:37<00:00,  6.73it/s]\n",
            "  0%|          | 0/157 [00:00<?, ?it/s]"
          ],
          "name": "stderr"
        },
        {
          "output_type": "stream",
          "text": [
            "epoch * 17\n",
            "training loss: 0.0111, training acc 0.8720\n",
            "validation loss: 0.0105, validation acc0.8823\n",
            "EarlyStopping counter: 2 out of 3\n"
          ],
          "name": "stdout"
        },
        {
          "output_type": "stream",
          "text": [
            "100%|██████████| 157/157 [00:51<00:00,  3.06it/s]\n",
            "100%|██████████| 250/250 [00:37<00:00,  6.74it/s]\n"
          ],
          "name": "stderr"
        },
        {
          "output_type": "stream",
          "text": [
            "epoch * 18\n",
            "training loss: 0.0113, training acc 0.8692\n",
            "validation loss: 0.0106, validation acc0.8835\n",
            "EarlyStopping counter: 3 out of 3\n",
            "Early stopping\n"
          ],
          "name": "stdout"
        }
      ]
    },
    {
      "cell_type": "code",
      "metadata": {
        "id": "EBb2VKIjsT7v",
        "colab_type": "code",
        "outputId": "812fa144-6828-4aa5-fd17-7991adcf879c",
        "colab": {
          "base_uri": "https://localhost:8080/",
          "height": 282
        }
      },
      "source": [
        "plt.plot(running_loss_history, label='training loss')\n",
        "plt.plot(val_running_loss_history, label='validation loss')\n",
        "plt.legend()"
      ],
      "execution_count": 0,
      "outputs": [
        {
          "output_type": "execute_result",
          "data": {
            "text/plain": [
              "<matplotlib.legend.Legend at 0x7f4c11711208>"
            ]
          },
          "metadata": {
            "tags": []
          },
          "execution_count": 19
        },
        {
          "output_type": "display_data",
          "data": {
            "image/png": "[encoded data removed]",
            "text/plain": [
              "<Figure size 432x288 with 1 Axes>"
            ]
          },
          "metadata": {
            "tags": [],
            "needs_background": "light"
          }
        }
      ]
    },
    {
      "cell_type": "code",
      "metadata": {
        "id": "4P2sl6F45Fxu",
        "colab_type": "code",
        "outputId": "0ebf0ce4-a71e-42fc-9905-ce53dc91d0c3",
        "colab": {
          "base_uri": "https://localhost:8080/",
          "height": 286
        }
      },
      "source": [
        "plt.plot(running_corrects_history, label='training accuracy')\n",
        "plt.plot(val_running_corrects_history, label='validation accuracy')\n",
        "plt.legend()"
      ],
      "execution_count": 0,
      "outputs": [
        {
          "output_type": "execute_result",
          "data": {
            "text/plain": [
              "<matplotlib.legend.Legend at 0x7f4c111deba8>"
            ]
          },
          "metadata": {
            "tags": []
          },
          "execution_count": 20
        },
        {
          "output_type": "display_data",
          "data": {
            "image/png": "[encoded data removed]",
            "text/plain": [
              "<Figure size 432x288 with 1 Axes>"
            ]
          },
          "metadata": {
            "tags": [],
            "needs_background": "light"
          }
        }
      ]
    },
    {
      "cell_type": "markdown",
      "metadata": {
        "id": "P0twpgfmaX5a",
        "colab_type": "text"
      },
      "source": [
        "**混同行列**\n",
        "参考：https://github.com/takoroy/mypytorch-memo"
      ]
    },
    {
      "cell_type": "code",
      "metadata": {
        "id": "0BIPBhMm5L08",
        "colab_type": "code",
        "colab": {}
      },
      "source": [
        "from sklearn.metrics import confusion_matrix\n",
        "\n",
        "def plot_confusion_matrix(cm, labels):\n",
        "    import seaborn as sns\n",
        "    import pandas as pd\n",
        "    sns.set()\n",
        "    \n",
        "    df = pd.DataFrame(cm)\n",
        "    df.index = labels\n",
        "    df.columns = labels\n",
        "\n",
        "    # Draw a heatmap with the numeric values in each cell\n",
        "    f, ax = plt.subplots(figsize=(15, 10))\n",
        "    sns.heatmap(df, annot=True, fmt=\"d\", linewidths=.5, ax=ax)\n",
        "\n",
        "def validation_confusion_matrix(model):\n",
        "    images_so_far = 0\n",
        "    fig = plt.figure()\n",
        "\n",
        "    all_labels = np.array([])\n",
        "    all_preds = np.array([])\n",
        "    for i, data in enumerate(validation_loader):\n",
        "        inputs, labels = data\n",
        "        inputs, labels = inputs.to(device), labels.to(device)\n",
        "        \n",
        "        outputs = model(inputs)\n",
        "        _, preds = torch.max(outputs.data, 1)\n",
        "        \n",
        "        all_labels = np.append(all_labels, labels.cpu().data.numpy())\n",
        "        all_preds = np.append(all_preds, preds.cpu().numpy())\n",
        "    \n",
        "    cm = confusion_matrix(all_labels, all_preds)\n",
        "    plot_confusion_matrix(cm, classes)"
      ],
      "execution_count": 0,
      "outputs": []
    },
    {
      "cell_type": "code",
      "metadata": {
        "id": "auvFLls_-jmZ",
        "colab_type": "code",
        "outputId": "73d0f679-82c6-4bef-9e9d-ba09c5d8d14e",
        "colab": {
          "base_uri": "https://localhost:8080/",
          "height": 665
        }
      },
      "source": [
        "validation_confusion_matrix(model)"
      ],
      "execution_count": 0,
      "outputs": [
        {
          "output_type": "stream",
          "text": [
            "/usr/local/lib/python3.6/dist-packages/statsmodels/tools/_testing.py:19: FutureWarning: pandas.util.testing is deprecated. Use the functions in the public API at pandas.testing instead.\n",
            "  import pandas.util.testing as tm\n"
          ],
          "name": "stderr"
        },
        {
          "output_type": "display_data",
          "data": {
            "text/plain": [
              "<Figure size 432x288 with 0 Axes>"
            ]
          },
          "metadata": {
            "tags": []
          }
        },
        {
          "output_type": "display_data",
          "data": {
            "image/png": "[encoded data removed]",
            "text/plain": [
              "<Figure size 1080x720 with 2 Axes>"
            ]
          },
          "metadata": {
            "tags": []
          }
        }
      ]
    },
    {
      "cell_type": "markdown",
      "metadata": {
        "id": "TjGotdFozuKq",
        "colab_type": "text"
      },
      "source": [
        "# **DenseNet**"
      ]
    },
    {
      "cell_type": "code",
      "metadata": {
        "id": "HbmDB-dgz0HS",
        "colab_type": "code",
        "outputId": "eb7a70d8-e327-4cda-da43-54d30d09dec3",
        "colab": {
          "base_uri": "https://localhost:8080/",
          "height": 83,
          "referenced_widgets": [
            "623a32dae2ee4c56967f556392a6bb75",
            "d8a26f48f5d74e768f8cd68454b8ce98",
            "e11dcd1db280442192908706e422685e",
            "2b1f6dd1554f4a7bb9cd72fdf51715b6",
            "5b8afab5ef9546108db3ae50fd8f0946",
            "8bc44805377249b19ba5a3078224f1da",
            "97fc41daf941496580ae410363c0bda7",
            "31b48d0d013f47b99ef510bbed5d6fe4"
          ]
        }
      },
      "source": [
        "device = torch.device(\"cuda:0\" if torch.cuda.is_available() else \"cpu\")\n",
        "use_pretrained = True  # 学習済みのパラメータを使用\n",
        "model = models.densenet161(pretrained=use_pretrained).to(device)"
      ],
      "execution_count": 0,
      "outputs": [
        {
          "output_type": "stream",
          "text": [
            "Downloading: \"https://download.pytorch.org/models/densenet161-8d451a50.pth\" to /root/.cache/torch/checkpoints/densenet161-8d451a50.pth\n"
          ],
          "name": "stderr"
        },
        {
          "output_type": "display_data",
          "data": {
            "application/vnd.jupyter.widget-view+json": {
              "model_id": "623a32dae2ee4c56967f556392a6bb75",
              "version_minor": 0,
              "version_major": 2
            },
            "text/plain": [
              "HBox(children=(IntProgress(value=0, max=115730790), HTML(value='')))"
            ]
          },
          "metadata": {
            "tags": []
          }
        },
        {
          "output_type": "stream",
          "text": [
            "\n"
          ],
          "name": "stdout"
        }
      ]
    },
    {
      "cell_type": "code",
      "metadata": {
        "id": "IdrkwDtN0A3s",
        "colab_type": "code",
        "outputId": "8dead67c-435e-449b-c404-36e5cc0eee4b",
        "colab": {
          "base_uri": "https://localhost:8080/",
          "height": 1000
        }
      },
      "source": [
        "model.classifier = nn.Linear(in_features=2208, out_features=10, bias=True).to(device)\n",
        "print(model)"
      ],
      "execution_count": 0,
      "outputs": [
        {
          "output_type": "stream",
          "text": [
            "DenseNet(\n",
            "  (features): Sequential(\n",
            "    (conv0): Conv2d(3, 96, kernel_size=(7, 7), stride=(2, 2), padding=(3, 3), bias=False)\n",
            "    (norm0): BatchNorm2d(96, eps=1e-05, momentum=0.1, affine=True, track_running_stats=True)\n",
            "    (relu0): ReLU(inplace=True)\n",
            "    (pool0): MaxPool2d(kernel_size=3, stride=2, padding=1, dilation=1, ceil_mode=False)\n",
            "    (denseblock1): _DenseBlock(\n",
            "      (denselayer1): _DenseLayer(\n",
            "        (norm1): BatchNorm2d(96, eps=1e-05, momentum=0.1, affine=True, track_running_stats=True)\n",
            "        (relu1): ReLU(inplace=True)\n",
            "        (conv1): Conv2d(96, 192, kernel_size=(1, 1), stride=(1, 1), bias=False)\n",
            "        (norm2): BatchNorm2d(192, eps=1e-05, momentum=0.1, affine=True, track_running_stats=True)\n",
            "        (relu2): ReLU(inplace=True)\n",
            "        (conv2): Conv2d(192, 48, kernel_size=(3, 3), stride=(1, 1), padding=(1, 1), bias=False)\n",
            "      )\n",
            "      (denselayer2): _DenseLayer(\n",
            "        (norm1): BatchNorm2d(144, eps=1e-05, momentum=0.1, affine=True, track_running_stats=True)\n",
            "        (relu1): ReLU(inplace=True)\n",
            "        (conv1): Conv2d(144, 192, kernel_size=(1, 1), stride=(1, 1), bias=False)\n",
            "        (norm2): BatchNorm2d(192, eps=1e-05, momentum=0.1, affine=True, track_running_stats=True)\n",
            "        (relu2): ReLU(inplace=True)\n",
            "        (conv2): Conv2d(192, 48, kernel_size=(3, 3), stride=(1, 1), padding=(1, 1), bias=False)\n",
            "      )\n",
            "      (denselayer3): _DenseLayer(\n",
            "        (norm1): BatchNorm2d(192, eps=1e-05, momentum=0.1, affine=True, track_running_stats=True)\n",
            "        (relu1): ReLU(inplace=True)\n",
            "        (conv1): Conv2d(192, 192, kernel_size=(1, 1), stride=(1, 1), bias=False)\n",
            "        (norm2): BatchNorm2d(192, eps=1e-05, momentum=0.1, affine=True, track_running_stats=True)\n",
            "        (relu2): ReLU(inplace=True)\n",
            "        (conv2): Conv2d(192, 48, kernel_size=(3, 3), stride=(1, 1), padding=(1, 1), bias=False)\n",
            "      )\n",
            "      (denselayer4): _DenseLayer(\n",
            "        (norm1): BatchNorm2d(240, eps=1e-05, momentum=0.1, affine=True, track_running_stats=True)\n",
            "        (relu1): ReLU(inplace=True)\n",
            "        (conv1): Conv2d(240, 192, kernel_size=(1, 1), stride=(1, 1), bias=False)\n",
            "        (norm2): BatchNorm2d(192, eps=1e-05, momentum=0.1, affine=True, track_running_stats=True)\n",
            "        (relu2): ReLU(inplace=True)\n",
            "        (conv2): Conv2d(192, 48, kernel_size=(3, 3), stride=(1, 1), padding=(1, 1), bias=False)\n",
            "      )\n",
            "      (denselayer5): _DenseLayer(\n",
            "        (norm1): BatchNorm2d(288, eps=1e-05, momentum=0.1, affine=True, track_running_stats=True)\n",
            "        (relu1): ReLU(inplace=True)\n",
            "        (conv1): Conv2d(288, 192, kernel_size=(1, 1), stride=(1, 1), bias=False)\n",
            "        (norm2): BatchNorm2d(192, eps=1e-05, momentum=0.1, affine=True, track_running_stats=True)\n",
            "        (relu2): ReLU(inplace=True)\n",
            "        (conv2): Conv2d(192, 48, kernel_size=(3, 3), stride=(1, 1), padding=(1, 1), bias=False)\n",
            "      )\n",
            "      (denselayer6): _DenseLayer(\n",
            "        (norm1): BatchNorm2d(336, eps=1e-05, momentum=0.1, affine=True, track_running_stats=True)\n",
            "        (relu1): ReLU(inplace=True)\n",
            "        (conv1): Conv2d(336, 192, kernel_size=(1, 1), stride=(1, 1), bias=False)\n",
            "        (norm2): BatchNorm2d(192, eps=1e-05, momentum=0.1, affine=True, track_running_stats=True)\n",
            "        (relu2): ReLU(inplace=True)\n",
            "        (conv2): Conv2d(192, 48, kernel_size=(3, 3), stride=(1, 1), padding=(1, 1), bias=False)\n",
            "      )\n",
            "    )\n",
            "    (transition1): _Transition(\n",
            "      (norm): BatchNorm2d(384, eps=1e-05, momentum=0.1, affine=True, track_running_stats=True)\n",
            "      (relu): ReLU(inplace=True)\n",
            "      (conv): Conv2d(384, 192, kernel_size=(1, 1), stride=(1, 1), bias=False)\n",
            "      (pool): AvgPool2d(kernel_size=2, stride=2, padding=0)\n",
            "    )\n",
            "    (denseblock2): _DenseBlock(\n",
            "      (denselayer1): _DenseLayer(\n",
            "        (norm1): BatchNorm2d(192, eps=1e-05, momentum=0.1, affine=True, track_running_stats=True)\n",
            "        (relu1): ReLU(inplace=True)\n",
            "        (conv1): Conv2d(192, 192, kernel_size=(1, 1), stride=(1, 1), bias=False)\n",
            "        (norm2): BatchNorm2d(192, eps=1e-05, momentum=0.1, affine=True, track_running_stats=True)\n",
            "        (relu2): ReLU(inplace=True)\n",
            "        (conv2): Conv2d(192, 48, kernel_size=(3, 3), stride=(1, 1), padding=(1, 1), bias=False)\n",
            "      )\n",
            "      (denselayer2): _DenseLayer(\n",
            "        (norm1): BatchNorm2d(240, eps=1e-05, momentum=0.1, affine=True, track_running_stats=True)\n",
            "        (relu1): ReLU(inplace=True)\n",
            "        (conv1): Conv2d(240, 192, kernel_size=(1, 1), stride=(1, 1), bias=False)\n",
            "        (norm2): BatchNorm2d(192, eps=1e-05, momentum=0.1, affine=True, track_running_stats=True)\n",
            "        (relu2): ReLU(inplace=True)\n",
            "        (conv2): Conv2d(192, 48, kernel_size=(3, 3), stride=(1, 1), padding=(1, 1), bias=False)\n",
            "      )\n",
            "      (denselayer3): _DenseLayer(\n",
            "        (norm1): BatchNorm2d(288, eps=1e-05, momentum=0.1, affine=True, track_running_stats=True)\n",
            "        (relu1): ReLU(inplace=True)\n",
            "        (conv1): Conv2d(288, 192, kernel_size=(1, 1), stride=(1, 1), bias=False)\n",
            "        (norm2): BatchNorm2d(192, eps=1e-05, momentum=0.1, affine=True, track_running_stats=True)\n",
            "        (relu2): ReLU(inplace=True)\n",
            "        (conv2): Conv2d(192, 48, kernel_size=(3, 3), stride=(1, 1), padding=(1, 1), bias=False)\n",
            "      )\n",
            "      (denselayer4): _DenseLayer(\n",
            "        (norm1): BatchNorm2d(336, eps=1e-05, momentum=0.1, affine=True, track_running_stats=True)\n",
            "        (relu1): ReLU(inplace=True)\n",
            "        (conv1): Conv2d(336, 192, kernel_size=(1, 1), stride=(1, 1), bias=False)\n",
            "        (norm2): BatchNorm2d(192, eps=1e-05, momentum=0.1, affine=True, track_running_stats=True)\n",
            "        (relu2): ReLU(inplace=True)\n",
            "        (conv2): Conv2d(192, 48, kernel_size=(3, 3), stride=(1, 1), padding=(1, 1), bias=False)\n",
            "      )\n",
            "      (denselayer5): _DenseLayer(\n",
            "        (norm1): BatchNorm2d(384, eps=1e-05, momentum=0.1, affine=True, track_running_stats=True)\n",
            "        (relu1): ReLU(inplace=True)\n",
            "        (conv1): Conv2d(384, 192, kernel_size=(1, 1), stride=(1, 1), bias=False)\n",
            "        (norm2): BatchNorm2d(192, eps=1e-05, momentum=0.1, affine=True, track_running_stats=True)\n",
            "        (relu2): ReLU(inplace=True)\n",
            "        (conv2): Conv2d(192, 48, kernel_size=(3, 3), stride=(1, 1), padding=(1, 1), bias=False)\n",
            "      )\n",
            "      (denselayer6): _DenseLayer(\n",
            "        (norm1): BatchNorm2d(432, eps=1e-05, momentum=0.1, affine=True, track_running_stats=True)\n",
            "        (relu1): ReLU(inplace=True)\n",
            "        (conv1): Conv2d(432, 192, kernel_size=(1, 1), stride=(1, 1), bias=False)\n",
            "        (norm2): BatchNorm2d(192, eps=1e-05, momentum=0.1, affine=True, track_running_stats=True)\n",
            "        (relu2): ReLU(inplace=True)\n",
            "        (conv2): Conv2d(192, 48, kernel_size=(3, 3), stride=(1, 1), padding=(1, 1), bias=False)\n",
            "      )\n",
            "      (denselayer7): _DenseLayer(\n",
            "        (norm1): BatchNorm2d(480, eps=1e-05, momentum=0.1, affine=True, track_running_stats=True)\n",
            "        (relu1): ReLU(inplace=True)\n",
            "        (conv1): Conv2d(480, 192, kernel_size=(1, 1), stride=(1, 1), bias=False)\n",
            "        (norm2): BatchNorm2d(192, eps=1e-05, momentum=0.1, affine=True, track_running_stats=True)\n",
            "        (relu2): ReLU(inplace=True)\n",
            "        (conv2): Conv2d(192, 48, kernel_size=(3, 3), stride=(1, 1), padding=(1, 1), bias=False)\n",
            "      )\n",
            "      (denselayer8): _DenseLayer(\n",
            "        (norm1): BatchNorm2d(528, eps=1e-05, momentum=0.1, affine=True, track_running_stats=True)\n",
            "        (relu1): ReLU(inplace=True)\n",
            "        (conv1): Conv2d(528, 192, kernel_size=(1, 1), stride=(1, 1), bias=False)\n",
            "        (norm2): BatchNorm2d(192, eps=1e-05, momentum=0.1, affine=True, track_running_stats=True)\n",
            "        (relu2): ReLU(inplace=True)\n",
            "        (conv2): Conv2d(192, 48, kernel_size=(3, 3), stride=(1, 1), padding=(1, 1), bias=False)\n",
            "      )\n",
            "      (denselayer9): _DenseLayer(\n",
            "        (norm1): BatchNorm2d(576, eps=1e-05, momentum=0.1, affine=True, track_running_stats=True)\n",
            "        (relu1): ReLU(inplace=True)\n",
            "        (conv1): Conv2d(576, 192, kernel_size=(1, 1), stride=(1, 1), bias=False)\n",
            "        (norm2): BatchNorm2d(192, eps=1e-05, momentum=0.1, affine=True, track_running_stats=True)\n",
            "        (relu2): ReLU(inplace=True)\n",
            "        (conv2): Conv2d(192, 48, kernel_size=(3, 3), stride=(1, 1), padding=(1, 1), bias=False)\n",
            "      )\n",
            "      (denselayer10): _DenseLayer(\n",
            "        (norm1): BatchNorm2d(624, eps=1e-05, momentum=0.1, affine=True, track_running_stats=True)\n",
            "        (relu1): ReLU(inplace=True)\n",
            "        (conv1): Conv2d(624, 192, kernel_size=(1, 1), stride=(1, 1), bias=False)\n",
            "        (norm2): BatchNorm2d(192, eps=1e-05, momentum=0.1, affine=True, track_running_stats=True)\n",
            "        (relu2): ReLU(inplace=True)\n",
            "        (conv2): Conv2d(192, 48, kernel_size=(3, 3), stride=(1, 1), padding=(1, 1), bias=False)\n",
            "      )\n",
            "      (denselayer11): _DenseLayer(\n",
            "        (norm1): BatchNorm2d(672, eps=1e-05, momentum=0.1, affine=True, track_running_stats=True)\n",
            "        (relu1): ReLU(inplace=True)\n",
            "        (conv1): Conv2d(672, 192, kernel_size=(1, 1), stride=(1, 1), bias=False)\n",
            "        (norm2): BatchNorm2d(192, eps=1e-05, momentum=0.1, affine=True, track_running_stats=True)\n",
            "        (relu2): ReLU(inplace=True)\n",
            "        (conv2): Conv2d(192, 48, kernel_size=(3, 3), stride=(1, 1), padding=(1, 1), bias=False)\n",
            "      )\n",
            "      (denselayer12): _DenseLayer(\n",
            "        (norm1): BatchNorm2d(720, eps=1e-05, momentum=0.1, affine=True, track_running_stats=True)\n",
            "        (relu1): ReLU(inplace=True)\n",
            "        (conv1): Conv2d(720, 192, kernel_size=(1, 1), stride=(1, 1), bias=False)\n",
            "        (norm2): BatchNorm2d(192, eps=1e-05, momentum=0.1, affine=True, track_running_stats=True)\n",
            "        (relu2): ReLU(inplace=True)\n",
            "        (conv2): Conv2d(192, 48, kernel_size=(3, 3), stride=(1, 1), padding=(1, 1), bias=False)\n",
            "      )\n",
            "    )\n",
            "    (transition2): _Transition(\n",
            "      (norm): BatchNorm2d(768, eps=1e-05, momentum=0.1, affine=True, track_running_stats=True)\n",
            "      (relu): ReLU(inplace=True)\n",
            "      (conv): Conv2d(768, 384, kernel_size=(1, 1), stride=(1, 1), bias=False)\n",
            "      (pool): AvgPool2d(kernel_size=2, stride=2, padding=0)\n",
            "    )\n",
            "    (denseblock3): _DenseBlock(\n",
            "      (denselayer1): _DenseLayer(\n",
            "        (norm1): BatchNorm2d(384, eps=1e-05, momentum=0.1, affine=True, track_running_stats=True)\n",
            "        (relu1): ReLU(inplace=True)\n",
            "        (conv1): Conv2d(384, 192, kernel_size=(1, 1), stride=(1, 1), bias=False)\n",
            "        (norm2): BatchNorm2d(192, eps=1e-05, momentum=0.1, affine=True, track_running_stats=True)\n",
            "        (relu2): ReLU(inplace=True)\n",
            "        (conv2): Conv2d(192, 48, kernel_size=(3, 3), stride=(1, 1), padding=(1, 1), bias=False)\n",
            "      )\n",
            "      (denselayer2): _DenseLayer(\n",
            "        (norm1): BatchNorm2d(432, eps=1e-05, momentum=0.1, affine=True, track_running_stats=True)\n",
            "        (relu1): ReLU(inplace=True)\n",
            "        (conv1): Conv2d(432, 192, kernel_size=(1, 1), stride=(1, 1), bias=False)\n",
            "        (norm2): BatchNorm2d(192, eps=1e-05, momentum=0.1, affine=True, track_running_stats=True)\n",
            "        (relu2): ReLU(inplace=True)\n",
            "        (conv2): Conv2d(192, 48, kernel_size=(3, 3), stride=(1, 1), padding=(1, 1), bias=False)\n",
            "      )\n",
            "      (denselayer3): _DenseLayer(\n",
            "        (norm1): BatchNorm2d(480, eps=1e-05, momentum=0.1, affine=True, track_running_stats=True)\n",
            "        (relu1): ReLU(inplace=True)\n",
            "        (conv1): Conv2d(480, 192, kernel_size=(1, 1), stride=(1, 1), bias=False)\n",
            "        (norm2): BatchNorm2d(192, eps=1e-05, momentum=0.1, affine=True, track_running_stats=True)\n",
            "        (relu2): ReLU(inplace=True)\n",
            "        (conv2): Conv2d(192, 48, kernel_size=(3, 3), stride=(1, 1), padding=(1, 1), bias=False)\n",
            "      )\n",
            "      (denselayer4): _DenseLayer(\n",
            "        (norm1): BatchNorm2d(528, eps=1e-05, momentum=0.1, affine=True, track_running_stats=True)\n",
            "        (relu1): ReLU(inplace=True)\n",
            "        (conv1): Conv2d(528, 192, kernel_size=(1, 1), stride=(1, 1), bias=False)\n",
            "        (norm2): BatchNorm2d(192, eps=1e-05, momentum=0.1, affine=True, track_running_stats=True)\n",
            "        (relu2): ReLU(inplace=True)\n",
            "        (conv2): Conv2d(192, 48, kernel_size=(3, 3), stride=(1, 1), padding=(1, 1), bias=False)\n",
            "      )\n",
            "      (denselayer5): _DenseLayer(\n",
            "        (norm1): BatchNorm2d(576, eps=1e-05, momentum=0.1, affine=True, track_running_stats=True)\n",
            "        (relu1): ReLU(inplace=True)\n",
            "        (conv1): Conv2d(576, 192, kernel_size=(1, 1), stride=(1, 1), bias=False)\n",
            "        (norm2): BatchNorm2d(192, eps=1e-05, momentum=0.1, affine=True, track_running_stats=True)\n",
            "        (relu2): ReLU(inplace=True)\n",
            "        (conv2): Conv2d(192, 48, kernel_size=(3, 3), stride=(1, 1), padding=(1, 1), bias=False)\n",
            "      )\n",
            "      (denselayer6): _DenseLayer(\n",
            "        (norm1): BatchNorm2d(624, eps=1e-05, momentum=0.1, affine=True, track_running_stats=True)\n",
            "        (relu1): ReLU(inplace=True)\n",
            "        (conv1): Conv2d(624, 192, kernel_size=(1, 1), stride=(1, 1), bias=False)\n",
            "        (norm2): BatchNorm2d(192, eps=1e-05, momentum=0.1, affine=True, track_running_stats=True)\n",
            "        (relu2): ReLU(inplace=True)\n",
            "        (conv2): Conv2d(192, 48, kernel_size=(3, 3), stride=(1, 1), padding=(1, 1), bias=False)\n",
            "      )\n",
            "      (denselayer7): _DenseLayer(\n",
            "        (norm1): BatchNorm2d(672, eps=1e-05, momentum=0.1, affine=True, track_running_stats=True)\n",
            "        (relu1): ReLU(inplace=True)\n",
            "        (conv1): Conv2d(672, 192, kernel_size=(1, 1), stride=(1, 1), bias=False)\n",
            "        (norm2): BatchNorm2d(192, eps=1e-05, momentum=0.1, affine=True, track_running_stats=True)\n",
            "        (relu2): ReLU(inplace=True)\n",
            "        (conv2): Conv2d(192, 48, kernel_size=(3, 3), stride=(1, 1), padding=(1, 1), bias=False)\n",
            "      )\n",
            "      (denselayer8): _DenseLayer(\n",
            "        (norm1): BatchNorm2d(720, eps=1e-05, momentum=0.1, affine=True, track_running_stats=True)\n",
            "        (relu1): ReLU(inplace=True)\n",
            "        (conv1): Conv2d(720, 192, kernel_size=(1, 1), stride=(1, 1), bias=False)\n",
            "        (norm2): BatchNorm2d(192, eps=1e-05, momentum=0.1, affine=True, track_running_stats=True)\n",
            "        (relu2): ReLU(inplace=True)\n",
            "        (conv2): Conv2d(192, 48, kernel_size=(3, 3), stride=(1, 1), padding=(1, 1), bias=False)\n",
            "      )\n",
            "      (denselayer9): _DenseLayer(\n",
            "        (norm1): BatchNorm2d(768, eps=1e-05, momentum=0.1, affine=True, track_running_stats=True)\n",
            "        (relu1): ReLU(inplace=True)\n",
            "        (conv1): Conv2d(768, 192, kernel_size=(1, 1), stride=(1, 1), bias=False)\n",
            "        (norm2): BatchNorm2d(192, eps=1e-05, momentum=0.1, affine=True, track_running_stats=True)\n",
            "        (relu2): ReLU(inplace=True)\n",
            "        (conv2): Conv2d(192, 48, kernel_size=(3, 3), stride=(1, 1), padding=(1, 1), bias=False)\n",
            "      )\n",
            "      (denselayer10): _DenseLayer(\n",
            "        (norm1): BatchNorm2d(816, eps=1e-05, momentum=0.1, affine=True, track_running_stats=True)\n",
            "        (relu1): ReLU(inplace=True)\n",
            "        (conv1): Conv2d(816, 192, kernel_size=(1, 1), stride=(1, 1), bias=False)\n",
            "        (norm2): BatchNorm2d(192, eps=1e-05, momentum=0.1, affine=True, track_running_stats=True)\n",
            "        (relu2): ReLU(inplace=True)\n",
            "        (conv2): Conv2d(192, 48, kernel_size=(3, 3), stride=(1, 1), padding=(1, 1), bias=False)\n",
            "      )\n",
            "      (denselayer11): _DenseLayer(\n",
            "        (norm1): BatchNorm2d(864, eps=1e-05, momentum=0.1, affine=True, track_running_stats=True)\n",
            "        (relu1): ReLU(inplace=True)\n",
            "        (conv1): Conv2d(864, 192, kernel_size=(1, 1), stride=(1, 1), bias=False)\n",
            "        (norm2): BatchNorm2d(192, eps=1e-05, momentum=0.1, affine=True, track_running_stats=True)\n",
            "        (relu2): ReLU(inplace=True)\n",
            "        (conv2): Conv2d(192, 48, kernel_size=(3, 3), stride=(1, 1), padding=(1, 1), bias=False)\n",
            "      )\n",
            "      (denselayer12): _DenseLayer(\n",
            "        (norm1): BatchNorm2d(912, eps=1e-05, momentum=0.1, affine=True, track_running_stats=True)\n",
            "        (relu1): ReLU(inplace=True)\n",
            "        (conv1): Conv2d(912, 192, kernel_size=(1, 1), stride=(1, 1), bias=False)\n",
            "        (norm2): BatchNorm2d(192, eps=1e-05, momentum=0.1, affine=True, track_running_stats=True)\n",
            "        (relu2): ReLU(inplace=True)\n",
            "        (conv2): Conv2d(192, 48, kernel_size=(3, 3), stride=(1, 1), padding=(1, 1), bias=False)\n",
            "      )\n",
            "      (denselayer13): _DenseLayer(\n",
            "        (norm1): BatchNorm2d(960, eps=1e-05, momentum=0.1, affine=True, track_running_stats=True)\n",
            "        (relu1): ReLU(inplace=True)\n",
            "        (conv1): Conv2d(960, 192, kernel_size=(1, 1), stride=(1, 1), bias=False)\n",
            "        (norm2): BatchNorm2d(192, eps=1e-05, momentum=0.1, affine=True, track_running_stats=True)\n",
            "        (relu2): ReLU(inplace=True)\n",
            "        (conv2): Conv2d(192, 48, kernel_size=(3, 3), stride=(1, 1), padding=(1, 1), bias=False)\n",
            "      )\n",
            "      (denselayer14): _DenseLayer(\n",
            "        (norm1): BatchNorm2d(1008, eps=1e-05, momentum=0.1, affine=True, track_running_stats=True)\n",
            "        (relu1): ReLU(inplace=True)\n",
            "        (conv1): Conv2d(1008, 192, kernel_size=(1, 1), stride=(1, 1), bias=False)\n",
            "        (norm2): BatchNorm2d(192, eps=1e-05, momentum=0.1, affine=True, track_running_stats=True)\n",
            "        (relu2): ReLU(inplace=True)\n",
            "        (conv2): Conv2d(192, 48, kernel_size=(3, 3), stride=(1, 1), padding=(1, 1), bias=False)\n",
            "      )\n",
            "      (denselayer15): _DenseLayer(\n",
            "        (norm1): BatchNorm2d(1056, eps=1e-05, momentum=0.1, affine=True, track_running_stats=True)\n",
            "        (relu1): ReLU(inplace=True)\n",
            "        (conv1): Conv2d(1056, 192, kernel_size=(1, 1), stride=(1, 1), bias=False)\n",
            "        (norm2): BatchNorm2d(192, eps=1e-05, momentum=0.1, affine=True, track_running_stats=True)\n",
            "        (relu2): ReLU(inplace=True)\n",
            "        (conv2): Conv2d(192, 48, kernel_size=(3, 3), stride=(1, 1), padding=(1, 1), bias=False)\n",
            "      )\n",
            "      (denselayer16): _DenseLayer(\n",
            "        (norm1): BatchNorm2d(1104, eps=1e-05, momentum=0.1, affine=True, track_running_stats=True)\n",
            "        (relu1): ReLU(inplace=True)\n",
            "        (conv1): Conv2d(1104, 192, kernel_size=(1, 1), stride=(1, 1), bias=False)\n",
            "        (norm2): BatchNorm2d(192, eps=1e-05, momentum=0.1, affine=True, track_running_stats=True)\n",
            "        (relu2): ReLU(inplace=True)\n",
            "        (conv2): Conv2d(192, 48, kernel_size=(3, 3), stride=(1, 1), padding=(1, 1), bias=False)\n",
            "      )\n",
            "      (denselayer17): _DenseLayer(\n",
            "        (norm1): BatchNorm2d(1152, eps=1e-05, momentum=0.1, affine=True, track_running_stats=True)\n",
            "        (relu1): ReLU(inplace=True)\n",
            "        (conv1): Conv2d(1152, 192, kernel_size=(1, 1), stride=(1, 1), bias=False)\n",
            "        (norm2): BatchNorm2d(192, eps=1e-05, momentum=0.1, affine=True, track_running_stats=True)\n",
            "        (relu2): ReLU(inplace=True)\n",
            "        (conv2): Conv2d(192, 48, kernel_size=(3, 3), stride=(1, 1), padding=(1, 1), bias=False)\n",
            "      )\n",
            "      (denselayer18): _DenseLayer(\n",
            "        (norm1): BatchNorm2d(1200, eps=1e-05, momentum=0.1, affine=True, track_running_stats=True)\n",
            "        (relu1): ReLU(inplace=True)\n",
            "        (conv1): Conv2d(1200, 192, kernel_size=(1, 1), stride=(1, 1), bias=False)\n",
            "        (norm2): BatchNorm2d(192, eps=1e-05, momentum=0.1, affine=True, track_running_stats=True)\n",
            "        (relu2): ReLU(inplace=True)\n",
            "        (conv2): Conv2d(192, 48, kernel_size=(3, 3), stride=(1, 1), padding=(1, 1), bias=False)\n",
            "      )\n",
            "      (denselayer19): _DenseLayer(\n",
            "        (norm1): BatchNorm2d(1248, eps=1e-05, momentum=0.1, affine=True, track_running_stats=True)\n",
            "        (relu1): ReLU(inplace=True)\n",
            "        (conv1): Conv2d(1248, 192, kernel_size=(1, 1), stride=(1, 1), bias=False)\n",
            "        (norm2): BatchNorm2d(192, eps=1e-05, momentum=0.1, affine=True, track_running_stats=True)\n",
            "        (relu2): ReLU(inplace=True)\n",
            "        (conv2): Conv2d(192, 48, kernel_size=(3, 3), stride=(1, 1), padding=(1, 1), bias=False)\n",
            "      )\n",
            "      (denselayer20): _DenseLayer(\n",
            "        (norm1): BatchNorm2d(1296, eps=1e-05, momentum=0.1, affine=True, track_running_stats=True)\n",
            "        (relu1): ReLU(inplace=True)\n",
            "        (conv1): Conv2d(1296, 192, kernel_size=(1, 1), stride=(1, 1), bias=False)\n",
            "        (norm2): BatchNorm2d(192, eps=1e-05, momentum=0.1, affine=True, track_running_stats=True)\n",
            "        (relu2): ReLU(inplace=True)\n",
            "        (conv2): Conv2d(192, 48, kernel_size=(3, 3), stride=(1, 1), padding=(1, 1), bias=False)\n",
            "      )\n",
            "      (denselayer21): _DenseLayer(\n",
            "        (norm1): BatchNorm2d(1344, eps=1e-05, momentum=0.1, affine=True, track_running_stats=True)\n",
            "        (relu1): ReLU(inplace=True)\n",
            "        (conv1): Conv2d(1344, 192, kernel_size=(1, 1), stride=(1, 1), bias=False)\n",
            "        (norm2): BatchNorm2d(192, eps=1e-05, momentum=0.1, affine=True, track_running_stats=True)\n",
            "        (relu2): ReLU(inplace=True)\n",
            "        (conv2): Conv2d(192, 48, kernel_size=(3, 3), stride=(1, 1), padding=(1, 1), bias=False)\n",
            "      )\n",
            "      (denselayer22): _DenseLayer(\n",
            "        (norm1): BatchNorm2d(1392, eps=1e-05, momentum=0.1, affine=True, track_running_stats=True)\n",
            "        (relu1): ReLU(inplace=True)\n",
            "        (conv1): Conv2d(1392, 192, kernel_size=(1, 1), stride=(1, 1), bias=False)\n",
            "        (norm2): BatchNorm2d(192, eps=1e-05, momentum=0.1, affine=True, track_running_stats=True)\n",
            "        (relu2): ReLU(inplace=True)\n",
            "        (conv2): Conv2d(192, 48, kernel_size=(3, 3), stride=(1, 1), padding=(1, 1), bias=False)\n",
            "      )\n",
            "      (denselayer23): _DenseLayer(\n",
            "        (norm1): BatchNorm2d(1440, eps=1e-05, momentum=0.1, affine=True, track_running_stats=True)\n",
            "        (relu1): ReLU(inplace=True)\n",
            "        (conv1): Conv2d(1440, 192, kernel_size=(1, 1), stride=(1, 1), bias=False)\n",
            "        (norm2): BatchNorm2d(192, eps=1e-05, momentum=0.1, affine=True, track_running_stats=True)\n",
            "        (relu2): ReLU(inplace=True)\n",
            "        (conv2): Conv2d(192, 48, kernel_size=(3, 3), stride=(1, 1), padding=(1, 1), bias=False)\n",
            "      )\n",
            "      (denselayer24): _DenseLayer(\n",
            "        (norm1): BatchNorm2d(1488, eps=1e-05, momentum=0.1, affine=True, track_running_stats=True)\n",
            "        (relu1): ReLU(inplace=True)\n",
            "        (conv1): Conv2d(1488, 192, kernel_size=(1, 1), stride=(1, 1), bias=False)\n",
            "        (norm2): BatchNorm2d(192, eps=1e-05, momentum=0.1, affine=True, track_running_stats=True)\n",
            "        (relu2): ReLU(inplace=True)\n",
            "        (conv2): Conv2d(192, 48, kernel_size=(3, 3), stride=(1, 1), padding=(1, 1), bias=False)\n",
            "      )\n",
            "      (denselayer25): _DenseLayer(\n",
            "        (norm1): BatchNorm2d(1536, eps=1e-05, momentum=0.1, affine=True, track_running_stats=True)\n",
            "        (relu1): ReLU(inplace=True)\n",
            "        (conv1): Conv2d(1536, 192, kernel_size=(1, 1), stride=(1, 1), bias=False)\n",
            "        (norm2): BatchNorm2d(192, eps=1e-05, momentum=0.1, affine=True, track_running_stats=True)\n",
            "        (relu2): ReLU(inplace=True)\n",
            "        (conv2): Conv2d(192, 48, kernel_size=(3, 3), stride=(1, 1), padding=(1, 1), bias=False)\n",
            "      )\n",
            "      (denselayer26): _DenseLayer(\n",
            "        (norm1): BatchNorm2d(1584, eps=1e-05, momentum=0.1, affine=True, track_running_stats=True)\n",
            "        (relu1): ReLU(inplace=True)\n",
            "        (conv1): Conv2d(1584, 192, kernel_size=(1, 1), stride=(1, 1), bias=False)\n",
            "        (norm2): BatchNorm2d(192, eps=1e-05, momentum=0.1, affine=True, track_running_stats=True)\n",
            "        (relu2): ReLU(inplace=True)\n",
            "        (conv2): Conv2d(192, 48, kernel_size=(3, 3), stride=(1, 1), padding=(1, 1), bias=False)\n",
            "      )\n",
            "      (denselayer27): _DenseLayer(\n",
            "        (norm1): BatchNorm2d(1632, eps=1e-05, momentum=0.1, affine=True, track_running_stats=True)\n",
            "        (relu1): ReLU(inplace=True)\n",
            "        (conv1): Conv2d(1632, 192, kernel_size=(1, 1), stride=(1, 1), bias=False)\n",
            "        (norm2): BatchNorm2d(192, eps=1e-05, momentum=0.1, affine=True, track_running_stats=True)\n",
            "        (relu2): ReLU(inplace=True)\n",
            "        (conv2): Conv2d(192, 48, kernel_size=(3, 3), stride=(1, 1), padding=(1, 1), bias=False)\n",
            "      )\n",
            "      (denselayer28): _DenseLayer(\n",
            "        (norm1): BatchNorm2d(1680, eps=1e-05, momentum=0.1, affine=True, track_running_stats=True)\n",
            "        (relu1): ReLU(inplace=True)\n",
            "        (conv1): Conv2d(1680, 192, kernel_size=(1, 1), stride=(1, 1), bias=False)\n",
            "        (norm2): BatchNorm2d(192, eps=1e-05, momentum=0.1, affine=True, track_running_stats=True)\n",
            "        (relu2): ReLU(inplace=True)\n",
            "        (conv2): Conv2d(192, 48, kernel_size=(3, 3), stride=(1, 1), padding=(1, 1), bias=False)\n",
            "      )\n",
            "      (denselayer29): _DenseLayer(\n",
            "        (norm1): BatchNorm2d(1728, eps=1e-05, momentum=0.1, affine=True, track_running_stats=True)\n",
            "        (relu1): ReLU(inplace=True)\n",
            "        (conv1): Conv2d(1728, 192, kernel_size=(1, 1), stride=(1, 1), bias=False)\n",
            "        (norm2): BatchNorm2d(192, eps=1e-05, momentum=0.1, affine=True, track_running_stats=True)\n",
            "        (relu2): ReLU(inplace=True)\n",
            "        (conv2): Conv2d(192, 48, kernel_size=(3, 3), stride=(1, 1), padding=(1, 1), bias=False)\n",
            "      )\n",
            "      (denselayer30): _DenseLayer(\n",
            "        (norm1): BatchNorm2d(1776, eps=1e-05, momentum=0.1, affine=True, track_running_stats=True)\n",
            "        (relu1): ReLU(inplace=True)\n",
            "        (conv1): Conv2d(1776, 192, kernel_size=(1, 1), stride=(1, 1), bias=False)\n",
            "        (norm2): BatchNorm2d(192, eps=1e-05, momentum=0.1, affine=True, track_running_stats=True)\n",
            "        (relu2): ReLU(inplace=True)\n",
            "        (conv2): Conv2d(192, 48, kernel_size=(3, 3), stride=(1, 1), padding=(1, 1), bias=False)\n",
            "      )\n",
            "      (denselayer31): _DenseLayer(\n",
            "        (norm1): BatchNorm2d(1824, eps=1e-05, momentum=0.1, affine=True, track_running_stats=True)\n",
            "        (relu1): ReLU(inplace=True)\n",
            "        (conv1): Conv2d(1824, 192, kernel_size=(1, 1), stride=(1, 1), bias=False)\n",
            "        (norm2): BatchNorm2d(192, eps=1e-05, momentum=0.1, affine=True, track_running_stats=True)\n",
            "        (relu2): ReLU(inplace=True)\n",
            "        (conv2): Conv2d(192, 48, kernel_size=(3, 3), stride=(1, 1), padding=(1, 1), bias=False)\n",
            "      )\n",
            "      (denselayer32): _DenseLayer(\n",
            "        (norm1): BatchNorm2d(1872, eps=1e-05, momentum=0.1, affine=True, track_running_stats=True)\n",
            "        (relu1): ReLU(inplace=True)\n",
            "        (conv1): Conv2d(1872, 192, kernel_size=(1, 1), stride=(1, 1), bias=False)\n",
            "        (norm2): BatchNorm2d(192, eps=1e-05, momentum=0.1, affine=True, track_running_stats=True)\n",
            "        (relu2): ReLU(inplace=True)\n",
            "        (conv2): Conv2d(192, 48, kernel_size=(3, 3), stride=(1, 1), padding=(1, 1), bias=False)\n",
            "      )\n",
            "      (denselayer33): _DenseLayer(\n",
            "        (norm1): BatchNorm2d(1920, eps=1e-05, momentum=0.1, affine=True, track_running_stats=True)\n",
            "        (relu1): ReLU(inplace=True)\n",
            "        (conv1): Conv2d(1920, 192, kernel_size=(1, 1), stride=(1, 1), bias=False)\n",
            "        (norm2): BatchNorm2d(192, eps=1e-05, momentum=0.1, affine=True, track_running_stats=True)\n",
            "        (relu2): ReLU(inplace=True)\n",
            "        (conv2): Conv2d(192, 48, kernel_size=(3, 3), stride=(1, 1), padding=(1, 1), bias=False)\n",
            "      )\n",
            "      (denselayer34): _DenseLayer(\n",
            "        (norm1): BatchNorm2d(1968, eps=1e-05, momentum=0.1, affine=True, track_running_stats=True)\n",
            "        (relu1): ReLU(inplace=True)\n",
            "        (conv1): Conv2d(1968, 192, kernel_size=(1, 1), stride=(1, 1), bias=False)\n",
            "        (norm2): BatchNorm2d(192, eps=1e-05, momentum=0.1, affine=True, track_running_stats=True)\n",
            "        (relu2): ReLU(inplace=True)\n",
            "        (conv2): Conv2d(192, 48, kernel_size=(3, 3), stride=(1, 1), padding=(1, 1), bias=False)\n",
            "      )\n",
            "      (denselayer35): _DenseLayer(\n",
            "        (norm1): BatchNorm2d(2016, eps=1e-05, momentum=0.1, affine=True, track_running_stats=True)\n",
            "        (relu1): ReLU(inplace=True)\n",
            "        (conv1): Conv2d(2016, 192, kernel_size=(1, 1), stride=(1, 1), bias=False)\n",
            "        (norm2): BatchNorm2d(192, eps=1e-05, momentum=0.1, affine=True, track_running_stats=True)\n",
            "        (relu2): ReLU(inplace=True)\n",
            "        (conv2): Conv2d(192, 48, kernel_size=(3, 3), stride=(1, 1), padding=(1, 1), bias=False)\n",
            "      )\n",
            "      (denselayer36): _DenseLayer(\n",
            "        (norm1): BatchNorm2d(2064, eps=1e-05, momentum=0.1, affine=True, track_running_stats=True)\n",
            "        (relu1): ReLU(inplace=True)\n",
            "        (conv1): Conv2d(2064, 192, kernel_size=(1, 1), stride=(1, 1), bias=False)\n",
            "        (norm2): BatchNorm2d(192, eps=1e-05, momentum=0.1, affine=True, track_running_stats=True)\n",
            "        (relu2): ReLU(inplace=True)\n",
            "        (conv2): Conv2d(192, 48, kernel_size=(3, 3), stride=(1, 1), padding=(1, 1), bias=False)\n",
            "      )\n",
            "    )\n",
            "    (transition3): _Transition(\n",
            "      (norm): BatchNorm2d(2112, eps=1e-05, momentum=0.1, affine=True, track_running_stats=True)\n",
            "      (relu): ReLU(inplace=True)\n",
            "      (conv): Conv2d(2112, 1056, kernel_size=(1, 1), stride=(1, 1), bias=False)\n",
            "      (pool): AvgPool2d(kernel_size=2, stride=2, padding=0)\n",
            "    )\n",
            "    (denseblock4): _DenseBlock(\n",
            "      (denselayer1): _DenseLayer(\n",
            "        (norm1): BatchNorm2d(1056, eps=1e-05, momentum=0.1, affine=True, track_running_stats=True)\n",
            "        (relu1): ReLU(inplace=True)\n",
            "        (conv1): Conv2d(1056, 192, kernel_size=(1, 1), stride=(1, 1), bias=False)\n",
            "        (norm2): BatchNorm2d(192, eps=1e-05, momentum=0.1, affine=True, track_running_stats=True)\n",
            "        (relu2): ReLU(inplace=True)\n",
            "        (conv2): Conv2d(192, 48, kernel_size=(3, 3), stride=(1, 1), padding=(1, 1), bias=False)\n",
            "      )\n",
            "      (denselayer2): _DenseLayer(\n",
            "        (norm1): BatchNorm2d(1104, eps=1e-05, momentum=0.1, affine=True, track_running_stats=True)\n",
            "        (relu1): ReLU(inplace=True)\n",
            "        (conv1): Conv2d(1104, 192, kernel_size=(1, 1), stride=(1, 1), bias=False)\n",
            "        (norm2): BatchNorm2d(192, eps=1e-05, momentum=0.1, affine=True, track_running_stats=True)\n",
            "        (relu2): ReLU(inplace=True)\n",
            "        (conv2): Conv2d(192, 48, kernel_size=(3, 3), stride=(1, 1), padding=(1, 1), bias=False)\n",
            "      )\n",
            "      (denselayer3): _DenseLayer(\n",
            "        (norm1): BatchNorm2d(1152, eps=1e-05, momentum=0.1, affine=True, track_running_stats=True)\n",
            "        (relu1): ReLU(inplace=True)\n",
            "        (conv1): Conv2d(1152, 192, kernel_size=(1, 1), stride=(1, 1), bias=False)\n",
            "        (norm2): BatchNorm2d(192, eps=1e-05, momentum=0.1, affine=True, track_running_stats=True)\n",
            "        (relu2): ReLU(inplace=True)\n",
            "        (conv2): Conv2d(192, 48, kernel_size=(3, 3), stride=(1, 1), padding=(1, 1), bias=False)\n",
            "      )\n",
            "      (denselayer4): _DenseLayer(\n",
            "        (norm1): BatchNorm2d(1200, eps=1e-05, momentum=0.1, affine=True, track_running_stats=True)\n",
            "        (relu1): ReLU(inplace=True)\n",
            "        (conv1): Conv2d(1200, 192, kernel_size=(1, 1), stride=(1, 1), bias=False)\n",
            "        (norm2): BatchNorm2d(192, eps=1e-05, momentum=0.1, affine=True, track_running_stats=True)\n",
            "        (relu2): ReLU(inplace=True)\n",
            "        (conv2): Conv2d(192, 48, kernel_size=(3, 3), stride=(1, 1), padding=(1, 1), bias=False)\n",
            "      )\n",
            "      (denselayer5): _DenseLayer(\n",
            "        (norm1): BatchNorm2d(1248, eps=1e-05, momentum=0.1, affine=True, track_running_stats=True)\n",
            "        (relu1): ReLU(inplace=True)\n",
            "        (conv1): Conv2d(1248, 192, kernel_size=(1, 1), stride=(1, 1), bias=False)\n",
            "        (norm2): BatchNorm2d(192, eps=1e-05, momentum=0.1, affine=True, track_running_stats=True)\n",
            "        (relu2): ReLU(inplace=True)\n",
            "        (conv2): Conv2d(192, 48, kernel_size=(3, 3), stride=(1, 1), padding=(1, 1), bias=False)\n",
            "      )\n",
            "      (denselayer6): _DenseLayer(\n",
            "        (norm1): BatchNorm2d(1296, eps=1e-05, momentum=0.1, affine=True, track_running_stats=True)\n",
            "        (relu1): ReLU(inplace=True)\n",
            "        (conv1): Conv2d(1296, 192, kernel_size=(1, 1), stride=(1, 1), bias=False)\n",
            "        (norm2): BatchNorm2d(192, eps=1e-05, momentum=0.1, affine=True, track_running_stats=True)\n",
            "        (relu2): ReLU(inplace=True)\n",
            "        (conv2): Conv2d(192, 48, kernel_size=(3, 3), stride=(1, 1), padding=(1, 1), bias=False)\n",
            "      )\n",
            "      (denselayer7): _DenseLayer(\n",
            "        (norm1): BatchNorm2d(1344, eps=1e-05, momentum=0.1, affine=True, track_running_stats=True)\n",
            "        (relu1): ReLU(inplace=True)\n",
            "        (conv1): Conv2d(1344, 192, kernel_size=(1, 1), stride=(1, 1), bias=False)\n",
            "        (norm2): BatchNorm2d(192, eps=1e-05, momentum=0.1, affine=True, track_running_stats=True)\n",
            "        (relu2): ReLU(inplace=True)\n",
            "        (conv2): Conv2d(192, 48, kernel_size=(3, 3), stride=(1, 1), padding=(1, 1), bias=False)\n",
            "      )\n",
            "      (denselayer8): _DenseLayer(\n",
            "        (norm1): BatchNorm2d(1392, eps=1e-05, momentum=0.1, affine=True, track_running_stats=True)\n",
            "        (relu1): ReLU(inplace=True)\n",
            "        (conv1): Conv2d(1392, 192, kernel_size=(1, 1), stride=(1, 1), bias=False)\n",
            "        (norm2): BatchNorm2d(192, eps=1e-05, momentum=0.1, affine=True, track_running_stats=True)\n",
            "        (relu2): ReLU(inplace=True)\n",
            "        (conv2): Conv2d(192, 48, kernel_size=(3, 3), stride=(1, 1), padding=(1, 1), bias=False)\n",
            "      )\n",
            "      (denselayer9): _DenseLayer(\n",
            "        (norm1): BatchNorm2d(1440, eps=1e-05, momentum=0.1, affine=True, track_running_stats=True)\n",
            "        (relu1): ReLU(inplace=True)\n",
            "        (conv1): Conv2d(1440, 192, kernel_size=(1, 1), stride=(1, 1), bias=False)\n",
            "        (norm2): BatchNorm2d(192, eps=1e-05, momentum=0.1, affine=True, track_running_stats=True)\n",
            "        (relu2): ReLU(inplace=True)\n",
            "        (conv2): Conv2d(192, 48, kernel_size=(3, 3), stride=(1, 1), padding=(1, 1), bias=False)\n",
            "      )\n",
            "      (denselayer10): _DenseLayer(\n",
            "        (norm1): BatchNorm2d(1488, eps=1e-05, momentum=0.1, affine=True, track_running_stats=True)\n",
            "        (relu1): ReLU(inplace=True)\n",
            "        (conv1): Conv2d(1488, 192, kernel_size=(1, 1), stride=(1, 1), bias=False)\n",
            "        (norm2): BatchNorm2d(192, eps=1e-05, momentum=0.1, affine=True, track_running_stats=True)\n",
            "        (relu2): ReLU(inplace=True)\n",
            "        (conv2): Conv2d(192, 48, kernel_size=(3, 3), stride=(1, 1), padding=(1, 1), bias=False)\n",
            "      )\n",
            "      (denselayer11): _DenseLayer(\n",
            "        (norm1): BatchNorm2d(1536, eps=1e-05, momentum=0.1, affine=True, track_running_stats=True)\n",
            "        (relu1): ReLU(inplace=True)\n",
            "        (conv1): Conv2d(1536, 192, kernel_size=(1, 1), stride=(1, 1), bias=False)\n",
            "        (norm2): BatchNorm2d(192, eps=1e-05, momentum=0.1, affine=True, track_running_stats=True)\n",
            "        (relu2): ReLU(inplace=True)\n",
            "        (conv2): Conv2d(192, 48, kernel_size=(3, 3), stride=(1, 1), padding=(1, 1), bias=False)\n",
            "      )\n",
            "      (denselayer12): _DenseLayer(\n",
            "        (norm1): BatchNorm2d(1584, eps=1e-05, momentum=0.1, affine=True, track_running_stats=True)\n",
            "        (relu1): ReLU(inplace=True)\n",
            "        (conv1): Conv2d(1584, 192, kernel_size=(1, 1), stride=(1, 1), bias=False)\n",
            "        (norm2): BatchNorm2d(192, eps=1e-05, momentum=0.1, affine=True, track_running_stats=True)\n",
            "        (relu2): ReLU(inplace=True)\n",
            "        (conv2): Conv2d(192, 48, kernel_size=(3, 3), stride=(1, 1), padding=(1, 1), bias=False)\n",
            "      )\n",
            "      (denselayer13): _DenseLayer(\n",
            "        (norm1): BatchNorm2d(1632, eps=1e-05, momentum=0.1, affine=True, track_running_stats=True)\n",
            "        (relu1): ReLU(inplace=True)\n",
            "        (conv1): Conv2d(1632, 192, kernel_size=(1, 1), stride=(1, 1), bias=False)\n",
            "        (norm2): BatchNorm2d(192, eps=1e-05, momentum=0.1, affine=True, track_running_stats=True)\n",
            "        (relu2): ReLU(inplace=True)\n",
            "        (conv2): Conv2d(192, 48, kernel_size=(3, 3), stride=(1, 1), padding=(1, 1), bias=False)\n",
            "      )\n",
            "      (denselayer14): _DenseLayer(\n",
            "        (norm1): BatchNorm2d(1680, eps=1e-05, momentum=0.1, affine=True, track_running_stats=True)\n",
            "        (relu1): ReLU(inplace=True)\n",
            "        (conv1): Conv2d(1680, 192, kernel_size=(1, 1), stride=(1, 1), bias=False)\n",
            "        (norm2): BatchNorm2d(192, eps=1e-05, momentum=0.1, affine=True, track_running_stats=True)\n",
            "        (relu2): ReLU(inplace=True)\n",
            "        (conv2): Conv2d(192, 48, kernel_size=(3, 3), stride=(1, 1), padding=(1, 1), bias=False)\n",
            "      )\n",
            "      (denselayer15): _DenseLayer(\n",
            "        (norm1): BatchNorm2d(1728, eps=1e-05, momentum=0.1, affine=True, track_running_stats=True)\n",
            "        (relu1): ReLU(inplace=True)\n",
            "        (conv1): Conv2d(1728, 192, kernel_size=(1, 1), stride=(1, 1), bias=False)\n",
            "        (norm2): BatchNorm2d(192, eps=1e-05, momentum=0.1, affine=True, track_running_stats=True)\n",
            "        (relu2): ReLU(inplace=True)\n",
            "        (conv2): Conv2d(192, 48, kernel_size=(3, 3), stride=(1, 1), padding=(1, 1), bias=False)\n",
            "      )\n",
            "      (denselayer16): _DenseLayer(\n",
            "        (norm1): BatchNorm2d(1776, eps=1e-05, momentum=0.1, affine=True, track_running_stats=True)\n",
            "        (relu1): ReLU(inplace=True)\n",
            "        (conv1): Conv2d(1776, 192, kernel_size=(1, 1), stride=(1, 1), bias=False)\n",
            "        (norm2): BatchNorm2d(192, eps=1e-05, momentum=0.1, affine=True, track_running_stats=True)\n",
            "        (relu2): ReLU(inplace=True)\n",
            "        (conv2): Conv2d(192, 48, kernel_size=(3, 3), stride=(1, 1), padding=(1, 1), bias=False)\n",
            "      )\n",
            "      (denselayer17): _DenseLayer(\n",
            "        (norm1): BatchNorm2d(1824, eps=1e-05, momentum=0.1, affine=True, track_running_stats=True)\n",
            "        (relu1): ReLU(inplace=True)\n",
            "        (conv1): Conv2d(1824, 192, kernel_size=(1, 1), stride=(1, 1), bias=False)\n",
            "        (norm2): BatchNorm2d(192, eps=1e-05, momentum=0.1, affine=True, track_running_stats=True)\n",
            "        (relu2): ReLU(inplace=True)\n",
            "        (conv2): Conv2d(192, 48, kernel_size=(3, 3), stride=(1, 1), padding=(1, 1), bias=False)\n",
            "      )\n",
            "      (denselayer18): _DenseLayer(\n",
            "        (norm1): BatchNorm2d(1872, eps=1e-05, momentum=0.1, affine=True, track_running_stats=True)\n",
            "        (relu1): ReLU(inplace=True)\n",
            "        (conv1): Conv2d(1872, 192, kernel_size=(1, 1), stride=(1, 1), bias=False)\n",
            "        (norm2): BatchNorm2d(192, eps=1e-05, momentum=0.1, affine=True, track_running_stats=True)\n",
            "        (relu2): ReLU(inplace=True)\n",
            "        (conv2): Conv2d(192, 48, kernel_size=(3, 3), stride=(1, 1), padding=(1, 1), bias=False)\n",
            "      )\n",
            "      (denselayer19): _DenseLayer(\n",
            "        (norm1): BatchNorm2d(1920, eps=1e-05, momentum=0.1, affine=True, track_running_stats=True)\n",
            "        (relu1): ReLU(inplace=True)\n",
            "        (conv1): Conv2d(1920, 192, kernel_size=(1, 1), stride=(1, 1), bias=False)\n",
            "        (norm2): BatchNorm2d(192, eps=1e-05, momentum=0.1, affine=True, track_running_stats=True)\n",
            "        (relu2): ReLU(inplace=True)\n",
            "        (conv2): Conv2d(192, 48, kernel_size=(3, 3), stride=(1, 1), padding=(1, 1), bias=False)\n",
            "      )\n",
            "      (denselayer20): _DenseLayer(\n",
            "        (norm1): BatchNorm2d(1968, eps=1e-05, momentum=0.1, affine=True, track_running_stats=True)\n",
            "        (relu1): ReLU(inplace=True)\n",
            "        (conv1): Conv2d(1968, 192, kernel_size=(1, 1), stride=(1, 1), bias=False)\n",
            "        (norm2): BatchNorm2d(192, eps=1e-05, momentum=0.1, affine=True, track_running_stats=True)\n",
            "        (relu2): ReLU(inplace=True)\n",
            "        (conv2): Conv2d(192, 48, kernel_size=(3, 3), stride=(1, 1), padding=(1, 1), bias=False)\n",
            "      )\n",
            "      (denselayer21): _DenseLayer(\n",
            "        (norm1): BatchNorm2d(2016, eps=1e-05, momentum=0.1, affine=True, track_running_stats=True)\n",
            "        (relu1): ReLU(inplace=True)\n",
            "        (conv1): Conv2d(2016, 192, kernel_size=(1, 1), stride=(1, 1), bias=False)\n",
            "        (norm2): BatchNorm2d(192, eps=1e-05, momentum=0.1, affine=True, track_running_stats=True)\n",
            "        (relu2): ReLU(inplace=True)\n",
            "        (conv2): Conv2d(192, 48, kernel_size=(3, 3), stride=(1, 1), padding=(1, 1), bias=False)\n",
            "      )\n",
            "      (denselayer22): _DenseLayer(\n",
            "        (norm1): BatchNorm2d(2064, eps=1e-05, momentum=0.1, affine=True, track_running_stats=True)\n",
            "        (relu1): ReLU(inplace=True)\n",
            "        (conv1): Conv2d(2064, 192, kernel_size=(1, 1), stride=(1, 1), bias=False)\n",
            "        (norm2): BatchNorm2d(192, eps=1e-05, momentum=0.1, affine=True, track_running_stats=True)\n",
            "        (relu2): ReLU(inplace=True)\n",
            "        (conv2): Conv2d(192, 48, kernel_size=(3, 3), stride=(1, 1), padding=(1, 1), bias=False)\n",
            "      )\n",
            "      (denselayer23): _DenseLayer(\n",
            "        (norm1): BatchNorm2d(2112, eps=1e-05, momentum=0.1, affine=True, track_running_stats=True)\n",
            "        (relu1): ReLU(inplace=True)\n",
            "        (conv1): Conv2d(2112, 192, kernel_size=(1, 1), stride=(1, 1), bias=False)\n",
            "        (norm2): BatchNorm2d(192, eps=1e-05, momentum=0.1, affine=True, track_running_stats=True)\n",
            "        (relu2): ReLU(inplace=True)\n",
            "        (conv2): Conv2d(192, 48, kernel_size=(3, 3), stride=(1, 1), padding=(1, 1), bias=False)\n",
            "      )\n",
            "      (denselayer24): _DenseLayer(\n",
            "        (norm1): BatchNorm2d(2160, eps=1e-05, momentum=0.1, affine=True, track_running_stats=True)\n",
            "        (relu1): ReLU(inplace=True)\n",
            "        (conv1): Conv2d(2160, 192, kernel_size=(1, 1), stride=(1, 1), bias=False)\n",
            "        (norm2): BatchNorm2d(192, eps=1e-05, momentum=0.1, affine=True, track_running_stats=True)\n",
            "        (relu2): ReLU(inplace=True)\n",
            "        (conv2): Conv2d(192, 48, kernel_size=(3, 3), stride=(1, 1), padding=(1, 1), bias=False)\n",
            "      )\n",
            "    )\n",
            "    (norm5): BatchNorm2d(2208, eps=1e-05, momentum=0.1, affine=True, track_running_stats=True)\n",
            "  )\n",
            "  (classifier): Linear(in_features=2208, out_features=10, bias=True)\n",
            ")\n"
          ],
          "name": "stdout"
        }
      ]
    },
    {
      "cell_type": "code",
      "metadata": {
        "id": "V92JAIdS3lh4",
        "colab_type": "code",
        "colab": {}
      },
      "source": [
        "# 損失関数の設定\n",
        "criterion = nn.CrossEntropyLoss()"
      ],
      "execution_count": 0,
      "outputs": []
    },
    {
      "cell_type": "code",
      "metadata": {
        "id": "ax8cdTyv6TQw",
        "colab_type": "code",
        "outputId": "362db360-f407-48bf-89d0-aa8018aa69a2",
        "colab": {
          "base_uri": "https://localhost:8080/",
          "height": 1000
        }
      },
      "source": [
        "# ファインチューニングで学習させるパラメータを、変数params_to_updateの1～3に格納する\n",
        "#https://qiita.com/koshian2/items/4f91ac5cceb6125fd57e\n",
        "\n",
        "params_to_update_1 = []\n",
        "params_to_update_2 = []\n",
        "params_to_update_3 = []\n",
        "params_to_update_4 = []\n",
        "\n",
        "\n",
        "# 再学習するパラメーターを指定する\n",
        "update_param_names_1 = [\"denseblock2\"]\n",
        "update_param_names_2 = [\"denseblock3\"]\n",
        "update_param_names_3 = [\"denseblock4\"]\n",
        "update_param_names_4 = [\"classifier.weight\", \"classifier.bias\"]\n",
        "\n",
        "# パラメータごとに各リストに格納する\n",
        "for name, param in model.named_parameters():\n",
        "    if update_param_names_1[0] in name:\n",
        "    \n",
        "        param.requires_grad = True\n",
        "        params_to_update_1.append(param)\n",
        "        print(\"params_to_update_1に格納：\", name)\n",
        "\n",
        "    elif update_param_names_2[0] in name:\n",
        "        param.requires_grad = True\n",
        "        params_to_update_2.append(param)\n",
        "        print(\"params_to_update_2に格納：\", name)\n",
        "    \n",
        "    elif update_param_names_3[0] in name:\n",
        "        param.requires_grad = True\n",
        "        params_to_update_2.append(param)\n",
        "        print(\"params_to_update_2に格納：\", name)\n",
        "\n",
        "    elif name in update_param_names_4:\n",
        "        param.requires_grad = True\n",
        "        params_to_update_3.append(param)\n",
        "        print(\"params_to_update_3に格納：\", name)\n",
        "\n",
        "    else:\n",
        "        param.requires_grad = False\n",
        "        print(\"勾配計算なし。学習しない：\", name)\n",
        "  "
      ],
      "execution_count": 0,
      "outputs": [
        {
          "output_type": "stream",
          "text": [
            "勾配計算なし。学習しない： features.conv0.weight\n",
            "勾配計算なし。学習しない： features.norm0.weight\n",
            "勾配計算なし。学習しない： features.norm0.bias\n",
            "勾配計算なし。学習しない： features.denseblock1.denselayer1.norm1.weight\n",
            "勾配計算なし。学習しない： features.denseblock1.denselayer1.norm1.bias\n",
            "勾配計算なし。学習しない： features.denseblock1.denselayer1.conv1.weight\n",
            "勾配計算なし。学習しない： features.denseblock1.denselayer1.norm2.weight\n",
            "勾配計算なし。学習しない： features.denseblock1.denselayer1.norm2.bias\n",
            "勾配計算なし。学習しない： features.denseblock1.denselayer1.conv2.weight\n",
            "勾配計算なし。学習しない： features.denseblock1.denselayer2.norm1.weight\n",
            "勾配計算なし。学習しない： features.denseblock1.denselayer2.norm1.bias\n",
            "勾配計算なし。学習しない： features.denseblock1.denselayer2.conv1.weight\n",
            "勾配計算なし。学習しない： features.denseblock1.denselayer2.norm2.weight\n",
            "勾配計算なし。学習しない： features.denseblock1.denselayer2.norm2.bias\n",
            "勾配計算なし。学習しない： features.denseblock1.denselayer2.conv2.weight\n",
            "勾配計算なし。学習しない： features.denseblock1.denselayer3.norm1.weight\n",
            "勾配計算なし。学習しない： features.denseblock1.denselayer3.norm1.bias\n",
            "勾配計算なし。学習しない： features.denseblock1.denselayer3.conv1.weight\n",
            "勾配計算なし。学習しない： features.denseblock1.denselayer3.norm2.weight\n",
            "勾配計算なし。学習しない： features.denseblock1.denselayer3.norm2.bias\n",
            "勾配計算なし。学習しない： features.denseblock1.denselayer3.conv2.weight\n",
            "勾配計算なし。学習しない： features.denseblock1.denselayer4.norm1.weight\n",
            "勾配計算なし。学習しない： features.denseblock1.denselayer4.norm1.bias\n",
            "勾配計算なし。学習しない： features.denseblock1.denselayer4.conv1.weight\n",
            "勾配計算なし。学習しない： features.denseblock1.denselayer4.norm2.weight\n",
            "勾配計算なし。学習しない： features.denseblock1.denselayer4.norm2.bias\n",
            "勾配計算なし。学習しない： features.denseblock1.denselayer4.conv2.weight\n",
            "勾配計算なし。学習しない： features.denseblock1.denselayer5.norm1.weight\n",
            "勾配計算なし。学習しない： features.denseblock1.denselayer5.norm1.bias\n",
            "勾配計算なし。学習しない： features.denseblock1.denselayer5.conv1.weight\n",
            "勾配計算なし。学習しない： features.denseblock1.denselayer5.norm2.weight\n",
            "勾配計算なし。学習しない： features.denseblock1.denselayer5.norm2.bias\n",
            "勾配計算なし。学習しない： features.denseblock1.denselayer5.conv2.weight\n",
            "勾配計算なし。学習しない： features.denseblock1.denselayer6.norm1.weight\n",
            "勾配計算なし。学習しない： features.denseblock1.denselayer6.norm1.bias\n",
            "勾配計算なし。学習しない： features.denseblock1.denselayer6.conv1.weight\n",
            "勾配計算なし。学習しない： features.denseblock1.denselayer6.norm2.weight\n",
            "勾配計算なし。学習しない： features.denseblock1.denselayer6.norm2.bias\n",
            "勾配計算なし。学習しない： features.denseblock1.denselayer6.conv2.weight\n",
            "勾配計算なし。学習しない： features.transition1.norm.weight\n",
            "勾配計算なし。学習しない： features.transition1.norm.bias\n",
            "勾配計算なし。学習しない： features.transition1.conv.weight\n",
            "params_to_update_1に格納： features.denseblock2.denselayer1.norm1.weight\n",
            "params_to_update_1に格納： features.denseblock2.denselayer1.norm1.bias\n",
            "params_to_update_1に格納： features.denseblock2.denselayer1.conv1.weight\n",
            "params_to_update_1に格納： features.denseblock2.denselayer1.norm2.weight\n",
            "params_to_update_1に格納： features.denseblock2.denselayer1.norm2.bias\n",
            "params_to_update_1に格納： features.denseblock2.denselayer1.conv2.weight\n",
            "params_to_update_1に格納： features.denseblock2.denselayer2.norm1.weight\n",
            "params_to_update_1に格納： features.denseblock2.denselayer2.norm1.bias\n",
            "params_to_update_1に格納： features.denseblock2.denselayer2.conv1.weight\n",
            "params_to_update_1に格納： features.denseblock2.denselayer2.norm2.weight\n",
            "params_to_update_1に格納： features.denseblock2.denselayer2.norm2.bias\n",
            "params_to_update_1に格納： features.denseblock2.denselayer2.conv2.weight\n",
            "params_to_update_1に格納： features.denseblock2.denselayer3.norm1.weight\n",
            "params_to_update_1に格納： features.denseblock2.denselayer3.norm1.bias\n",
            "params_to_update_1に格納： features.denseblock2.denselayer3.conv1.weight\n",
            "params_to_update_1に格納： features.denseblock2.denselayer3.norm2.weight\n",
            "params_to_update_1に格納： features.denseblock2.denselayer3.norm2.bias\n",
            "params_to_update_1に格納： features.denseblock2.denselayer3.conv2.weight\n",
            "params_to_update_1に格納： features.denseblock2.denselayer4.norm1.weight\n",
            "params_to_update_1に格納： features.denseblock2.denselayer4.norm1.bias\n",
            "params_to_update_1に格納： features.denseblock2.denselayer4.conv1.weight\n",
            "params_to_update_1に格納： features.denseblock2.denselayer4.norm2.weight\n",
            "params_to_update_1に格納： features.denseblock2.denselayer4.norm2.bias\n",
            "params_to_update_1に格納： features.denseblock2.denselayer4.conv2.weight\n",
            "params_to_update_1に格納： features.denseblock2.denselayer5.norm1.weight\n",
            "params_to_update_1に格納： features.denseblock2.denselayer5.norm1.bias\n",
            "params_to_update_1に格納： features.denseblock2.denselayer5.conv1.weight\n",
            "params_to_update_1に格納： features.denseblock2.denselayer5.norm2.weight\n",
            "params_to_update_1に格納： features.denseblock2.denselayer5.norm2.bias\n",
            "params_to_update_1に格納： features.denseblock2.denselayer5.conv2.weight\n",
            "params_to_update_1に格納： features.denseblock2.denselayer6.norm1.weight\n",
            "params_to_update_1に格納： features.denseblock2.denselayer6.norm1.bias\n",
            "params_to_update_1に格納： features.denseblock2.denselayer6.conv1.weight\n",
            "params_to_update_1に格納： features.denseblock2.denselayer6.norm2.weight\n",
            "params_to_update_1に格納： features.denseblock2.denselayer6.norm2.bias\n",
            "params_to_update_1に格納： features.denseblock2.denselayer6.conv2.weight\n",
            "params_to_update_1に格納： features.denseblock2.denselayer7.norm1.weight\n",
            "params_to_update_1に格納： features.denseblock2.denselayer7.norm1.bias\n",
            "params_to_update_1に格納： features.denseblock2.denselayer7.conv1.weight\n",
            "params_to_update_1に格納： features.denseblock2.denselayer7.norm2.weight\n",
            "params_to_update_1に格納： features.denseblock2.denselayer7.norm2.bias\n",
            "params_to_update_1に格納： features.denseblock2.denselayer7.conv2.weight\n",
            "params_to_update_1に格納： features.denseblock2.denselayer8.norm1.weight\n",
            "params_to_update_1に格納： features.denseblock2.denselayer8.norm1.bias\n",
            "params_to_update_1に格納： features.denseblock2.denselayer8.conv1.weight\n",
            "params_to_update_1に格納： features.denseblock2.denselayer8.norm2.weight\n",
            "params_to_update_1に格納： features.denseblock2.denselayer8.norm2.bias\n",
            "params_to_update_1に格納： features.denseblock2.denselayer8.conv2.weight\n",
            "params_to_update_1に格納： features.denseblock2.denselayer9.norm1.weight\n",
            "params_to_update_1に格納： features.denseblock2.denselayer9.norm1.bias\n",
            "params_to_update_1に格納： features.denseblock2.denselayer9.conv1.weight\n",
            "params_to_update_1に格納： features.denseblock2.denselayer9.norm2.weight\n",
            "params_to_update_1に格納： features.denseblock2.denselayer9.norm2.bias\n",
            "params_to_update_1に格納： features.denseblock2.denselayer9.conv2.weight\n",
            "params_to_update_1に格納： features.denseblock2.denselayer10.norm1.weight\n",
            "params_to_update_1に格納： features.denseblock2.denselayer10.norm1.bias\n",
            "params_to_update_1に格納： features.denseblock2.denselayer10.conv1.weight\n",
            "params_to_update_1に格納： features.denseblock2.denselayer10.norm2.weight\n",
            "params_to_update_1に格納： features.denseblock2.denselayer10.norm2.bias\n",
            "params_to_update_1に格納： features.denseblock2.denselayer10.conv2.weight\n",
            "params_to_update_1に格納： features.denseblock2.denselayer11.norm1.weight\n",
            "params_to_update_1に格納： features.denseblock2.denselayer11.norm1.bias\n",
            "params_to_update_1に格納： features.denseblock2.denselayer11.conv1.weight\n",
            "params_to_update_1に格納： features.denseblock2.denselayer11.norm2.weight\n",
            "params_to_update_1に格納： features.denseblock2.denselayer11.norm2.bias\n",
            "params_to_update_1に格納： features.denseblock2.denselayer11.conv2.weight\n",
            "params_to_update_1に格納： features.denseblock2.denselayer12.norm1.weight\n",
            "params_to_update_1に格納： features.denseblock2.denselayer12.norm1.bias\n",
            "params_to_update_1に格納： features.denseblock2.denselayer12.conv1.weight\n",
            "params_to_update_1に格納： features.denseblock2.denselayer12.norm2.weight\n",
            "params_to_update_1に格納： features.denseblock2.denselayer12.norm2.bias\n",
            "params_to_update_1に格納： features.denseblock2.denselayer12.conv2.weight\n",
            "勾配計算なし。学習しない： features.transition2.norm.weight\n",
            "勾配計算なし。学習しない： features.transition2.norm.bias\n",
            "勾配計算なし。学習しない： features.transition2.conv.weight\n",
            "params_to_update_2に格納： features.denseblock3.denselayer1.norm1.weight\n",
            "params_to_update_2に格納： features.denseblock3.denselayer1.norm1.bias\n",
            "params_to_update_2に格納： features.denseblock3.denselayer1.conv1.weight\n",
            "params_to_update_2に格納： features.denseblock3.denselayer1.norm2.weight\n",
            "params_to_update_2に格納： features.denseblock3.denselayer1.norm2.bias\n",
            "params_to_update_2に格納： features.denseblock3.denselayer1.conv2.weight\n",
            "params_to_update_2に格納： features.denseblock3.denselayer2.norm1.weight\n",
            "params_to_update_2に格納： features.denseblock3.denselayer2.norm1.bias\n",
            "params_to_update_2に格納： features.denseblock3.denselayer2.conv1.weight\n",
            "params_to_update_2に格納： features.denseblock3.denselayer2.norm2.weight\n",
            "params_to_update_2に格納： features.denseblock3.denselayer2.norm2.bias\n",
            "params_to_update_2に格納： features.denseblock3.denselayer2.conv2.weight\n",
            "params_to_update_2に格納： features.denseblock3.denselayer3.norm1.weight\n",
            "params_to_update_2に格納： features.denseblock3.denselayer3.norm1.bias\n",
            "params_to_update_2に格納： features.denseblock3.denselayer3.conv1.weight\n",
            "params_to_update_2に格納： features.denseblock3.denselayer3.norm2.weight\n",
            "params_to_update_2に格納： features.denseblock3.denselayer3.norm2.bias\n",
            "params_to_update_2に格納： features.denseblock3.denselayer3.conv2.weight\n",
            "params_to_update_2に格納： features.denseblock3.denselayer4.norm1.weight\n",
            "params_to_update_2に格納： features.denseblock3.denselayer4.norm1.bias\n",
            "params_to_update_2に格納： features.denseblock3.denselayer4.conv1.weight\n",
            "params_to_update_2に格納： features.denseblock3.denselayer4.norm2.weight\n",
            "params_to_update_2に格納： features.denseblock3.denselayer4.norm2.bias\n",
            "params_to_update_2に格納： features.denseblock3.denselayer4.conv2.weight\n",
            "params_to_update_2に格納： features.denseblock3.denselayer5.norm1.weight\n",
            "params_to_update_2に格納： features.denseblock3.denselayer5.norm1.bias\n",
            "params_to_update_2に格納： features.denseblock3.denselayer5.conv1.weight\n",
            "params_to_update_2に格納： features.denseblock3.denselayer5.norm2.weight\n",
            "params_to_update_2に格納： features.denseblock3.denselayer5.norm2.bias\n",
            "params_to_update_2に格納： features.denseblock3.denselayer5.conv2.weight\n",
            "params_to_update_2に格納： features.denseblock3.denselayer6.norm1.weight\n",
            "params_to_update_2に格納： features.denseblock3.denselayer6.norm1.bias\n",
            "params_to_update_2に格納： features.denseblock3.denselayer6.conv1.weight\n",
            "params_to_update_2に格納： features.denseblock3.denselayer6.norm2.weight\n",
            "params_to_update_2に格納： features.denseblock3.denselayer6.norm2.bias\n",
            "params_to_update_2に格納： features.denseblock3.denselayer6.conv2.weight\n",
            "params_to_update_2に格納： features.denseblock3.denselayer7.norm1.weight\n",
            "params_to_update_2に格納： features.denseblock3.denselayer7.norm1.bias\n",
            "params_to_update_2に格納： features.denseblock3.denselayer7.conv1.weight\n",
            "params_to_update_2に格納： features.denseblock3.denselayer7.norm2.weight\n",
            "params_to_update_2に格納： features.denseblock3.denselayer7.norm2.bias\n",
            "params_to_update_2に格納： features.denseblock3.denselayer7.conv2.weight\n",
            "params_to_update_2に格納： features.denseblock3.denselayer8.norm1.weight\n",
            "params_to_update_2に格納： features.denseblock3.denselayer8.norm1.bias\n",
            "params_to_update_2に格納： features.denseblock3.denselayer8.conv1.weight\n",
            "params_to_update_2に格納： features.denseblock3.denselayer8.norm2.weight\n",
            "params_to_update_2に格納： features.denseblock3.denselayer8.norm2.bias\n",
            "params_to_update_2に格納： features.denseblock3.denselayer8.conv2.weight\n",
            "params_to_update_2に格納： features.denseblock3.denselayer9.norm1.weight\n",
            "params_to_update_2に格納： features.denseblock3.denselayer9.norm1.bias\n",
            "params_to_update_2に格納： features.denseblock3.denselayer9.conv1.weight\n",
            "params_to_update_2に格納： features.denseblock3.denselayer9.norm2.weight\n",
            "params_to_update_2に格納： features.denseblock3.denselayer9.norm2.bias\n",
            "params_to_update_2に格納： features.denseblock3.denselayer9.conv2.weight\n",
            "params_to_update_2に格納： features.denseblock3.denselayer10.norm1.weight\n",
            "params_to_update_2に格納： features.denseblock3.denselayer10.norm1.bias\n",
            "params_to_update_2に格納： features.denseblock3.denselayer10.conv1.weight\n",
            "params_to_update_2に格納： features.denseblock3.denselayer10.norm2.weight\n",
            "params_to_update_2に格納： features.denseblock3.denselayer10.norm2.bias\n",
            "params_to_update_2に格納： features.denseblock3.denselayer10.conv2.weight\n",
            "params_to_update_2に格納： features.denseblock3.denselayer11.norm1.weight\n",
            "params_to_update_2に格納： features.denseblock3.denselayer11.norm1.bias\n",
            "params_to_update_2に格納： features.denseblock3.denselayer11.conv1.weight\n",
            "params_to_update_2に格納： features.denseblock3.denselayer11.norm2.weight\n",
            "params_to_update_2に格納： features.denseblock3.denselayer11.norm2.bias\n",
            "params_to_update_2に格納： features.denseblock3.denselayer11.conv2.weight\n",
            "params_to_update_2に格納： features.denseblock3.denselayer12.norm1.weight\n",
            "params_to_update_2に格納： features.denseblock3.denselayer12.norm1.bias\n",
            "params_to_update_2に格納： features.denseblock3.denselayer12.conv1.weight\n",
            "params_to_update_2に格納： features.denseblock3.denselayer12.norm2.weight\n",
            "params_to_update_2に格納： features.denseblock3.denselayer12.norm2.bias\n",
            "params_to_update_2に格納： features.denseblock3.denselayer12.conv2.weight\n",
            "params_to_update_2に格納： features.denseblock3.denselayer13.norm1.weight\n",
            "params_to_update_2に格納： features.denseblock3.denselayer13.norm1.bias\n",
            "params_to_update_2に格納： features.denseblock3.denselayer13.conv1.weight\n",
            "params_to_update_2に格納： features.denseblock3.denselayer13.norm2.weight\n",
            "params_to_update_2に格納： features.denseblock3.denselayer13.norm2.bias\n",
            "params_to_update_2に格納： features.denseblock3.denselayer13.conv2.weight\n",
            "params_to_update_2に格納： features.denseblock3.denselayer14.norm1.weight\n",
            "params_to_update_2に格納： features.denseblock3.denselayer14.norm1.bias\n",
            "params_to_update_2に格納： features.denseblock3.denselayer14.conv1.weight\n",
            "params_to_update_2に格納： features.denseblock3.denselayer14.norm2.weight\n",
            "params_to_update_2に格納： features.denseblock3.denselayer14.norm2.bias\n",
            "params_to_update_2に格納： features.denseblock3.denselayer14.conv2.weight\n",
            "params_to_update_2に格納： features.denseblock3.denselayer15.norm1.weight\n",
            "params_to_update_2に格納： features.denseblock3.denselayer15.norm1.bias\n",
            "params_to_update_2に格納： features.denseblock3.denselayer15.conv1.weight\n",
            "params_to_update_2に格納： features.denseblock3.denselayer15.norm2.weight\n",
            "params_to_update_2に格納： features.denseblock3.denselayer15.norm2.bias\n",
            "params_to_update_2に格納： features.denseblock3.denselayer15.conv2.weight\n",
            "params_to_update_2に格納： features.denseblock3.denselayer16.norm1.weight\n",
            "params_to_update_2に格納： features.denseblock3.denselayer16.norm1.bias\n",
            "params_to_update_2に格納： features.denseblock3.denselayer16.conv1.weight\n",
            "params_to_update_2に格納： features.denseblock3.denselayer16.norm2.weight\n",
            "params_to_update_2に格納： features.denseblock3.denselayer16.norm2.bias\n",
            "params_to_update_2に格納： features.denseblock3.denselayer16.conv2.weight\n",
            "params_to_update_2に格納： features.denseblock3.denselayer17.norm1.weight\n",
            "params_to_update_2に格納： features.denseblock3.denselayer17.norm1.bias\n",
            "params_to_update_2に格納： features.denseblock3.denselayer17.conv1.weight\n",
            "params_to_update_2に格納： features.denseblock3.denselayer17.norm2.weight\n",
            "params_to_update_2に格納： features.denseblock3.denselayer17.norm2.bias\n",
            "params_to_update_2に格納： features.denseblock3.denselayer17.conv2.weight\n",
            "params_to_update_2に格納： features.denseblock3.denselayer18.norm1.weight\n",
            "params_to_update_2に格納： features.denseblock3.denselayer18.norm1.bias\n",
            "params_to_update_2に格納： features.denseblock3.denselayer18.conv1.weight\n",
            "params_to_update_2に格納： features.denseblock3.denselayer18.norm2.weight\n",
            "params_to_update_2に格納： features.denseblock3.denselayer18.norm2.bias\n",
            "params_to_update_2に格納： features.denseblock3.denselayer18.conv2.weight\n",
            "params_to_update_2に格納： features.denseblock3.denselayer19.norm1.weight\n",
            "params_to_update_2に格納： features.denseblock3.denselayer19.norm1.bias\n",
            "params_to_update_2に格納： features.denseblock3.denselayer19.conv1.weight\n",
            "params_to_update_2に格納： features.denseblock3.denselayer19.norm2.weight\n",
            "params_to_update_2に格納： features.denseblock3.denselayer19.norm2.bias\n",
            "params_to_update_2に格納： features.denseblock3.denselayer19.conv2.weight\n",
            "params_to_update_2に格納： features.denseblock3.denselayer20.norm1.weight\n",
            "params_to_update_2に格納： features.denseblock3.denselayer20.norm1.bias\n",
            "params_to_update_2に格納： features.denseblock3.denselayer20.conv1.weight\n",
            "params_to_update_2に格納： features.denseblock3.denselayer20.norm2.weight\n",
            "params_to_update_2に格納： features.denseblock3.denselayer20.norm2.bias\n",
            "params_to_update_2に格納： features.denseblock3.denselayer20.conv2.weight\n",
            "params_to_update_2に格納： features.denseblock3.denselayer21.norm1.weight\n",
            "params_to_update_2に格納： features.denseblock3.denselayer21.norm1.bias\n",
            "params_to_update_2に格納： features.denseblock3.denselayer21.conv1.weight\n",
            "params_to_update_2に格納： features.denseblock3.denselayer21.norm2.weight\n",
            "params_to_update_2に格納： features.denseblock3.denselayer21.norm2.bias\n",
            "params_to_update_2に格納： features.denseblock3.denselayer21.conv2.weight\n",
            "params_to_update_2に格納： features.denseblock3.denselayer22.norm1.weight\n",
            "params_to_update_2に格納： features.denseblock3.denselayer22.norm1.bias\n",
            "params_to_update_2に格納： features.denseblock3.denselayer22.conv1.weight\n",
            "params_to_update_2に格納： features.denseblock3.denselayer22.norm2.weight\n",
            "params_to_update_2に格納： features.denseblock3.denselayer22.norm2.bias\n",
            "params_to_update_2に格納： features.denseblock3.denselayer22.conv2.weight\n",
            "params_to_update_2に格納： features.denseblock3.denselayer23.norm1.weight\n",
            "params_to_update_2に格納： features.denseblock3.denselayer23.norm1.bias\n",
            "params_to_update_2に格納： features.denseblock3.denselayer23.conv1.weight\n",
            "params_to_update_2に格納： features.denseblock3.denselayer23.norm2.weight\n",
            "params_to_update_2に格納： features.denseblock3.denselayer23.norm2.bias\n",
            "params_to_update_2に格納： features.denseblock3.denselayer23.conv2.weight\n",
            "params_to_update_2に格納： features.denseblock3.denselayer24.norm1.weight\n",
            "params_to_update_2に格納： features.denseblock3.denselayer24.norm1.bias\n",
            "params_to_update_2に格納： features.denseblock3.denselayer24.conv1.weight\n",
            "params_to_update_2に格納： features.denseblock3.denselayer24.norm2.weight\n",
            "params_to_update_2に格納： features.denseblock3.denselayer24.norm2.bias\n",
            "params_to_update_2に格納： features.denseblock3.denselayer24.conv2.weight\n",
            "params_to_update_2に格納： features.denseblock3.denselayer25.norm1.weight\n",
            "params_to_update_2に格納： features.denseblock3.denselayer25.norm1.bias\n",
            "params_to_update_2に格納： features.denseblock3.denselayer25.conv1.weight\n",
            "params_to_update_2に格納： features.denseblock3.denselayer25.norm2.weight\n",
            "params_to_update_2に格納： features.denseblock3.denselayer25.norm2.bias\n",
            "params_to_update_2に格納： features.denseblock3.denselayer25.conv2.weight\n",
            "params_to_update_2に格納： features.denseblock3.denselayer26.norm1.weight\n",
            "params_to_update_2に格納： features.denseblock3.denselayer26.norm1.bias\n",
            "params_to_update_2に格納： features.denseblock3.denselayer26.conv1.weight\n",
            "params_to_update_2に格納： features.denseblock3.denselayer26.norm2.weight\n",
            "params_to_update_2に格納： features.denseblock3.denselayer26.norm2.bias\n",
            "params_to_update_2に格納： features.denseblock3.denselayer26.conv2.weight\n",
            "params_to_update_2に格納： features.denseblock3.denselayer27.norm1.weight\n",
            "params_to_update_2に格納： features.denseblock3.denselayer27.norm1.bias\n",
            "params_to_update_2に格納： features.denseblock3.denselayer27.conv1.weight\n",
            "params_to_update_2に格納： features.denseblock3.denselayer27.norm2.weight\n",
            "params_to_update_2に格納： features.denseblock3.denselayer27.norm2.bias\n",
            "params_to_update_2に格納： features.denseblock3.denselayer27.conv2.weight\n",
            "params_to_update_2に格納： features.denseblock3.denselayer28.norm1.weight\n",
            "params_to_update_2に格納： features.denseblock3.denselayer28.norm1.bias\n",
            "params_to_update_2に格納： features.denseblock3.denselayer28.conv1.weight\n",
            "params_to_update_2に格納： features.denseblock3.denselayer28.norm2.weight\n",
            "params_to_update_2に格納： features.denseblock3.denselayer28.norm2.bias\n",
            "params_to_update_2に格納： features.denseblock3.denselayer28.conv2.weight\n",
            "params_to_update_2に格納： features.denseblock3.denselayer29.norm1.weight\n",
            "params_to_update_2に格納： features.denseblock3.denselayer29.norm1.bias\n",
            "params_to_update_2に格納： features.denseblock3.denselayer29.conv1.weight\n",
            "params_to_update_2に格納： features.denseblock3.denselayer29.norm2.weight\n",
            "params_to_update_2に格納： features.denseblock3.denselayer29.norm2.bias\n",
            "params_to_update_2に格納： features.denseblock3.denselayer29.conv2.weight\n",
            "params_to_update_2に格納： features.denseblock3.denselayer30.norm1.weight\n",
            "params_to_update_2に格納： features.denseblock3.denselayer30.norm1.bias\n",
            "params_to_update_2に格納： features.denseblock3.denselayer30.conv1.weight\n",
            "params_to_update_2に格納： features.denseblock3.denselayer30.norm2.weight\n",
            "params_to_update_2に格納： features.denseblock3.denselayer30.norm2.bias\n",
            "params_to_update_2に格納： features.denseblock3.denselayer30.conv2.weight\n",
            "params_to_update_2に格納： features.denseblock3.denselayer31.norm1.weight\n",
            "params_to_update_2に格納： features.denseblock3.denselayer31.norm1.bias\n",
            "params_to_update_2に格納： features.denseblock3.denselayer31.conv1.weight\n",
            "params_to_update_2に格納： features.denseblock3.denselayer31.norm2.weight\n",
            "params_to_update_2に格納： features.denseblock3.denselayer31.norm2.bias\n",
            "params_to_update_2に格納： features.denseblock3.denselayer31.conv2.weight\n",
            "params_to_update_2に格納： features.denseblock3.denselayer32.norm1.weight\n",
            "params_to_update_2に格納： features.denseblock3.denselayer32.norm1.bias\n",
            "params_to_update_2に格納： features.denseblock3.denselayer32.conv1.weight\n",
            "params_to_update_2に格納： features.denseblock3.denselayer32.norm2.weight\n",
            "params_to_update_2に格納： features.denseblock3.denselayer32.norm2.bias\n",
            "params_to_update_2に格納： features.denseblock3.denselayer32.conv2.weight\n",
            "params_to_update_2に格納： features.denseblock3.denselayer33.norm1.weight\n",
            "params_to_update_2に格納： features.denseblock3.denselayer33.norm1.bias\n",
            "params_to_update_2に格納： features.denseblock3.denselayer33.conv1.weight\n",
            "params_to_update_2に格納： features.denseblock3.denselayer33.norm2.weight\n",
            "params_to_update_2に格納： features.denseblock3.denselayer33.norm2.bias\n",
            "params_to_update_2に格納： features.denseblock3.denselayer33.conv2.weight\n",
            "params_to_update_2に格納： features.denseblock3.denselayer34.norm1.weight\n",
            "params_to_update_2に格納： features.denseblock3.denselayer34.norm1.bias\n",
            "params_to_update_2に格納： features.denseblock3.denselayer34.conv1.weight\n",
            "params_to_update_2に格納： features.denseblock3.denselayer34.norm2.weight\n",
            "params_to_update_2に格納： features.denseblock3.denselayer34.norm2.bias\n",
            "params_to_update_2に格納： features.denseblock3.denselayer34.conv2.weight\n",
            "params_to_update_2に格納： features.denseblock3.denselayer35.norm1.weight\n",
            "params_to_update_2に格納： features.denseblock3.denselayer35.norm1.bias\n",
            "params_to_update_2に格納： features.denseblock3.denselayer35.conv1.weight\n",
            "params_to_update_2に格納： features.denseblock3.denselayer35.norm2.weight\n",
            "params_to_update_2に格納： features.denseblock3.denselayer35.norm2.bias\n",
            "params_to_update_2に格納： features.denseblock3.denselayer35.conv2.weight\n",
            "params_to_update_2に格納： features.denseblock3.denselayer36.norm1.weight\n",
            "params_to_update_2に格納： features.denseblock3.denselayer36.norm1.bias\n",
            "params_to_update_2に格納： features.denseblock3.denselayer36.conv1.weight\n",
            "params_to_update_2に格納： features.denseblock3.denselayer36.norm2.weight\n",
            "params_to_update_2に格納： features.denseblock3.denselayer36.norm2.bias\n",
            "params_to_update_2に格納： features.denseblock3.denselayer36.conv2.weight\n",
            "勾配計算なし。学習しない： features.transition3.norm.weight\n",
            "勾配計算なし。学習しない： features.transition3.norm.bias\n",
            "勾配計算なし。学習しない： features.transition3.conv.weight\n",
            "params_to_update_2に格納： features.denseblock4.denselayer1.norm1.weight\n",
            "params_to_update_2に格納： features.denseblock4.denselayer1.norm1.bias\n",
            "params_to_update_2に格納： features.denseblock4.denselayer1.conv1.weight\n",
            "params_to_update_2に格納： features.denseblock4.denselayer1.norm2.weight\n",
            "params_to_update_2に格納： features.denseblock4.denselayer1.norm2.bias\n",
            "params_to_update_2に格納： features.denseblock4.denselayer1.conv2.weight\n",
            "params_to_update_2に格納： features.denseblock4.denselayer2.norm1.weight\n",
            "params_to_update_2に格納： features.denseblock4.denselayer2.norm1.bias\n",
            "params_to_update_2に格納： features.denseblock4.denselayer2.conv1.weight\n",
            "params_to_update_2に格納： features.denseblock4.denselayer2.norm2.weight\n",
            "params_to_update_2に格納： features.denseblock4.denselayer2.norm2.bias\n",
            "params_to_update_2に格納： features.denseblock4.denselayer2.conv2.weight\n",
            "params_to_update_2に格納： features.denseblock4.denselayer3.norm1.weight\n",
            "params_to_update_2に格納： features.denseblock4.denselayer3.norm1.bias\n",
            "params_to_update_2に格納： features.denseblock4.denselayer3.conv1.weight\n",
            "params_to_update_2に格納： features.denseblock4.denselayer3.norm2.weight\n",
            "params_to_update_2に格納： features.denseblock4.denselayer3.norm2.bias\n",
            "params_to_update_2に格納： features.denseblock4.denselayer3.conv2.weight\n",
            "params_to_update_2に格納： features.denseblock4.denselayer4.norm1.weight\n",
            "params_to_update_2に格納： features.denseblock4.denselayer4.norm1.bias\n",
            "params_to_update_2に格納： features.denseblock4.denselayer4.conv1.weight\n",
            "params_to_update_2に格納： features.denseblock4.denselayer4.norm2.weight\n",
            "params_to_update_2に格納： features.denseblock4.denselayer4.norm2.bias\n",
            "params_to_update_2に格納： features.denseblock4.denselayer4.conv2.weight\n",
            "params_to_update_2に格納： features.denseblock4.denselayer5.norm1.weight\n",
            "params_to_update_2に格納： features.denseblock4.denselayer5.norm1.bias\n",
            "params_to_update_2に格納： features.denseblock4.denselayer5.conv1.weight\n",
            "params_to_update_2に格納： features.denseblock4.denselayer5.norm2.weight\n",
            "params_to_update_2に格納： features.denseblock4.denselayer5.norm2.bias\n",
            "params_to_update_2に格納： features.denseblock4.denselayer5.conv2.weight\n",
            "params_to_update_2に格納： features.denseblock4.denselayer6.norm1.weight\n",
            "params_to_update_2に格納： features.denseblock4.denselayer6.norm1.bias\n",
            "params_to_update_2に格納： features.denseblock4.denselayer6.conv1.weight\n",
            "params_to_update_2に格納： features.denseblock4.denselayer6.norm2.weight\n",
            "params_to_update_2に格納： features.denseblock4.denselayer6.norm2.bias\n",
            "params_to_update_2に格納： features.denseblock4.denselayer6.conv2.weight\n",
            "params_to_update_2に格納： features.denseblock4.denselayer7.norm1.weight\n",
            "params_to_update_2に格納： features.denseblock4.denselayer7.norm1.bias\n",
            "params_to_update_2に格納： features.denseblock4.denselayer7.conv1.weight\n",
            "params_to_update_2に格納： features.denseblock4.denselayer7.norm2.weight\n",
            "params_to_update_2に格納： features.denseblock4.denselayer7.norm2.bias\n",
            "params_to_update_2に格納： features.denseblock4.denselayer7.conv2.weight\n",
            "params_to_update_2に格納： features.denseblock4.denselayer8.norm1.weight\n",
            "params_to_update_2に格納： features.denseblock4.denselayer8.norm1.bias\n",
            "params_to_update_2に格納： features.denseblock4.denselayer8.conv1.weight\n",
            "params_to_update_2に格納： features.denseblock4.denselayer8.norm2.weight\n",
            "params_to_update_2に格納： features.denseblock4.denselayer8.norm2.bias\n",
            "params_to_update_2に格納： features.denseblock4.denselayer8.conv2.weight\n",
            "params_to_update_2に格納： features.denseblock4.denselayer9.norm1.weight\n",
            "params_to_update_2に格納： features.denseblock4.denselayer9.norm1.bias\n",
            "params_to_update_2に格納： features.denseblock4.denselayer9.conv1.weight\n",
            "params_to_update_2に格納： features.denseblock4.denselayer9.norm2.weight\n",
            "params_to_update_2に格納： features.denseblock4.denselayer9.norm2.bias\n",
            "params_to_update_2に格納： features.denseblock4.denselayer9.conv2.weight\n",
            "params_to_update_2に格納： features.denseblock4.denselayer10.norm1.weight\n",
            "params_to_update_2に格納： features.denseblock4.denselayer10.norm1.bias\n",
            "params_to_update_2に格納： features.denseblock4.denselayer10.conv1.weight\n",
            "params_to_update_2に格納： features.denseblock4.denselayer10.norm2.weight\n",
            "params_to_update_2に格納： features.denseblock4.denselayer10.norm2.bias\n",
            "params_to_update_2に格納： features.denseblock4.denselayer10.conv2.weight\n",
            "params_to_update_2に格納： features.denseblock4.denselayer11.norm1.weight\n",
            "params_to_update_2に格納： features.denseblock4.denselayer11.norm1.bias\n",
            "params_to_update_2に格納： features.denseblock4.denselayer11.conv1.weight\n",
            "params_to_update_2に格納： features.denseblock4.denselayer11.norm2.weight\n",
            "params_to_update_2に格納： features.denseblock4.denselayer11.norm2.bias\n",
            "params_to_update_2に格納： features.denseblock4.denselayer11.conv2.weight\n",
            "params_to_update_2に格納： features.denseblock4.denselayer12.norm1.weight\n",
            "params_to_update_2に格納： features.denseblock4.denselayer12.norm1.bias\n",
            "params_to_update_2に格納： features.denseblock4.denselayer12.conv1.weight\n",
            "params_to_update_2に格納： features.denseblock4.denselayer12.norm2.weight\n",
            "params_to_update_2に格納： features.denseblock4.denselayer12.norm2.bias\n",
            "params_to_update_2に格納： features.denseblock4.denselayer12.conv2.weight\n",
            "params_to_update_2に格納： features.denseblock4.denselayer13.norm1.weight\n",
            "params_to_update_2に格納： features.denseblock4.denselayer13.norm1.bias\n",
            "params_to_update_2に格納： features.denseblock4.denselayer13.conv1.weight\n",
            "params_to_update_2に格納： features.denseblock4.denselayer13.norm2.weight\n",
            "params_to_update_2に格納： features.denseblock4.denselayer13.norm2.bias\n",
            "params_to_update_2に格納： features.denseblock4.denselayer13.conv2.weight\n",
            "params_to_update_2に格納： features.denseblock4.denselayer14.norm1.weight\n",
            "params_to_update_2に格納： features.denseblock4.denselayer14.norm1.bias\n",
            "params_to_update_2に格納： features.denseblock4.denselayer14.conv1.weight\n",
            "params_to_update_2に格納： features.denseblock4.denselayer14.norm2.weight\n",
            "params_to_update_2に格納： features.denseblock4.denselayer14.norm2.bias\n",
            "params_to_update_2に格納： features.denseblock4.denselayer14.conv2.weight\n",
            "params_to_update_2に格納： features.denseblock4.denselayer15.norm1.weight\n",
            "params_to_update_2に格納： features.denseblock4.denselayer15.norm1.bias\n",
            "params_to_update_2に格納： features.denseblock4.denselayer15.conv1.weight\n",
            "params_to_update_2に格納： features.denseblock4.denselayer15.norm2.weight\n",
            "params_to_update_2に格納： features.denseblock4.denselayer15.norm2.bias\n",
            "params_to_update_2に格納： features.denseblock4.denselayer15.conv2.weight\n",
            "params_to_update_2に格納： features.denseblock4.denselayer16.norm1.weight\n",
            "params_to_update_2に格納： features.denseblock4.denselayer16.norm1.bias\n",
            "params_to_update_2に格納： features.denseblock4.denselayer16.conv1.weight\n",
            "params_to_update_2に格納： features.denseblock4.denselayer16.norm2.weight\n",
            "params_to_update_2に格納： features.denseblock4.denselayer16.norm2.bias\n",
            "params_to_update_2に格納： features.denseblock4.denselayer16.conv2.weight\n",
            "params_to_update_2に格納： features.denseblock4.denselayer17.norm1.weight\n",
            "params_to_update_2に格納： features.denseblock4.denselayer17.norm1.bias\n",
            "params_to_update_2に格納： features.denseblock4.denselayer17.conv1.weight\n",
            "params_to_update_2に格納： features.denseblock4.denselayer17.norm2.weight\n",
            "params_to_update_2に格納： features.denseblock4.denselayer17.norm2.bias\n",
            "params_to_update_2に格納： features.denseblock4.denselayer17.conv2.weight\n",
            "params_to_update_2に格納： features.denseblock4.denselayer18.norm1.weight\n",
            "params_to_update_2に格納： features.denseblock4.denselayer18.norm1.bias\n",
            "params_to_update_2に格納： features.denseblock4.denselayer18.conv1.weight\n",
            "params_to_update_2に格納： features.denseblock4.denselayer18.norm2.weight\n",
            "params_to_update_2に格納： features.denseblock4.denselayer18.norm2.bias\n",
            "params_to_update_2に格納： features.denseblock4.denselayer18.conv2.weight\n",
            "params_to_update_2に格納： features.denseblock4.denselayer19.norm1.weight\n",
            "params_to_update_2に格納： features.denseblock4.denselayer19.norm1.bias\n",
            "params_to_update_2に格納： features.denseblock4.denselayer19.conv1.weight\n",
            "params_to_update_2に格納： features.denseblock4.denselayer19.norm2.weight\n",
            "params_to_update_2に格納： features.denseblock4.denselayer19.norm2.bias\n",
            "params_to_update_2に格納： features.denseblock4.denselayer19.conv2.weight\n",
            "params_to_update_2に格納： features.denseblock4.denselayer20.norm1.weight\n",
            "params_to_update_2に格納： features.denseblock4.denselayer20.norm1.bias\n",
            "params_to_update_2に格納： features.denseblock4.denselayer20.conv1.weight\n",
            "params_to_update_2に格納： features.denseblock4.denselayer20.norm2.weight\n",
            "params_to_update_2に格納： features.denseblock4.denselayer20.norm2.bias\n",
            "params_to_update_2に格納： features.denseblock4.denselayer20.conv2.weight\n",
            "params_to_update_2に格納： features.denseblock4.denselayer21.norm1.weight\n",
            "params_to_update_2に格納： features.denseblock4.denselayer21.norm1.bias\n",
            "params_to_update_2に格納： features.denseblock4.denselayer21.conv1.weight\n",
            "params_to_update_2に格納： features.denseblock4.denselayer21.norm2.weight\n",
            "params_to_update_2に格納： features.denseblock4.denselayer21.norm2.bias\n",
            "params_to_update_2に格納： features.denseblock4.denselayer21.conv2.weight\n",
            "params_to_update_2に格納： features.denseblock4.denselayer22.norm1.weight\n",
            "params_to_update_2に格納： features.denseblock4.denselayer22.norm1.bias\n",
            "params_to_update_2に格納： features.denseblock4.denselayer22.conv1.weight\n",
            "params_to_update_2に格納： features.denseblock4.denselayer22.norm2.weight\n",
            "params_to_update_2に格納： features.denseblock4.denselayer22.norm2.bias\n",
            "params_to_update_2に格納： features.denseblock4.denselayer22.conv2.weight\n",
            "params_to_update_2に格納： features.denseblock4.denselayer23.norm1.weight\n",
            "params_to_update_2に格納： features.denseblock4.denselayer23.norm1.bias\n",
            "params_to_update_2に格納： features.denseblock4.denselayer23.conv1.weight\n",
            "params_to_update_2に格納： features.denseblock4.denselayer23.norm2.weight\n",
            "params_to_update_2に格納： features.denseblock4.denselayer23.norm2.bias\n",
            "params_to_update_2に格納： features.denseblock4.denselayer23.conv2.weight\n",
            "params_to_update_2に格納： features.denseblock4.denselayer24.norm1.weight\n",
            "params_to_update_2に格納： features.denseblock4.denselayer24.norm1.bias\n",
            "params_to_update_2に格納： features.denseblock4.denselayer24.conv1.weight\n",
            "params_to_update_2に格納： features.denseblock4.denselayer24.norm2.weight\n",
            "params_to_update_2に格納： features.denseblock4.denselayer24.norm2.bias\n",
            "params_to_update_2に格納： features.denseblock4.denselayer24.conv2.weight\n",
            "勾配計算なし。学習しない： features.norm5.weight\n",
            "勾配計算なし。学習しない： features.norm5.bias\n",
            "params_to_update_3に格納： classifier.weight\n",
            "params_to_update_3に格納： classifier.bias\n"
          ],
          "name": "stdout"
        }
      ]
    },
    {
      "cell_type": "code",
      "metadata": {
        "id": "0MyUwuyv65cn",
        "colab_type": "code",
        "colab": {}
      },
      "source": [
        "#EarlyStopipingを導入するために、pytorchtools.pyをアップする\n",
        "from pytorchtools import EarlyStopping"
      ],
      "execution_count": 0,
      "outputs": []
    },
    {
      "cell_type": "code",
      "metadata": {
        "id": "cWW-VP7V7Y1W",
        "colab_type": "code",
        "colab": {}
      },
      "source": [
        "# 最適化手法の設定\n",
        "optimizer = optim.SGD([\n",
        "    {'params': params_to_update_1, 'lr': 1e-4},\n",
        "    {'params': params_to_update_2, 'lr': 1e-4},\n",
        "    {'params': params_to_update_3, 'lr': 1e-4},\n",
        "    {'params': params_to_update_4, 'lr': 1e-3}\n",
        "], momentum=0.9)"
      ],
      "execution_count": 0,
      "outputs": []
    },
    {
      "cell_type": "code",
      "metadata": {
        "id": "Iq5KMtcr7dWc",
        "colab_type": "code",
        "outputId": "bc892c8c-f0ba-4c7c-a2e8-2bde178da23f",
        "colab": {
          "base_uri": "https://localhost:8080/",
          "height": 1000
        }
      },
      "source": [
        "epochs = 150\n",
        "running_loss_history = []\n",
        "running_corrects_history = []\n",
        "val_running_loss_history = []\n",
        "val_running_corrects_history = []\n",
        "early_stopping = EarlyStopping(patience=3, verbose=True)  # early stopping patience; how long to wait after last time validation loss improved.\n",
        "\n",
        "for e in range(epochs):\n",
        "  \n",
        "  running_loss = 0.0\n",
        "  running_corrects = 0.0\n",
        "  val_running_loss = 0.0\n",
        "  val_running_corrects = 0.0\n",
        "\n",
        "  model.train() #学習モード\n",
        "  \n",
        "  for inputs, labels in tqdm(training_loader):\n",
        "#     DataLoaderのバッチサイズごとにforで取り出して計算\n",
        "#     ここのforの処理が終わると1エポック\n",
        "    inputs = inputs.to(device)\n",
        "    labels = labels.to(device)\n",
        "    outputs = model(inputs)\n",
        "    loss = criterion(outputs, labels)\n",
        "    \n",
        "#     一旦パラメーターの勾配をゼロにして\n",
        "    optimizer.zero_grad()\n",
        "#     勾配の計算\n",
        "    loss.backward()\n",
        "#     学習\n",
        "    optimizer.step()\n",
        "    \n",
        "#     分類わけなので、もっとも数字が大きいものをpredictとする\n",
        "#     バッチ処理しているので2次元目で比較\n",
        "    _, preds = torch.max(outputs, 1)\n",
        "    running_loss += loss.item()\n",
        "#     ラベルと合っているものを足し合わせてaccuracy計算\n",
        "    running_corrects += torch.sum(preds == labels.data)\n",
        "  \n",
        "  model.eval() #検証モード\n",
        "#     pytorchでは勾配の計算の高速化のため、パラメーターを保持しているがテスト時はいらないので止める\n",
        "  with torch.no_grad():\n",
        "    for val_inputs, val_labels in tqdm(validation_loader):\n",
        "      val_inputs = val_inputs.to(device)\n",
        "      val_labels = val_labels.to(device)\n",
        "      val_outputs = model(val_inputs)\n",
        "      val_loss = criterion(val_outputs, val_labels)\n",
        "      \n",
        "      _, val_preds = torch.max(val_outputs, 1)\n",
        "      val_running_loss += val_loss.item()\n",
        "      val_running_corrects += torch.sum(val_preds == val_labels.data)\n",
        "      \n",
        "#   学習過程を記録\n",
        "  epoch_loss = running_loss/len(training_loader.dataset)\n",
        "  epoch_acc = running_corrects.float()/ len(training_loader.dataset)\n",
        "  running_loss_history.append(epoch_loss)\n",
        "  running_corrects_history.append(epoch_acc)\n",
        "  \n",
        "  val_epoch_loss = val_running_loss/len(validation_loader.dataset)\n",
        "#     print('len-validation_loader :'+str(len(validation_loader)))\n",
        "#     print('len-validation_loader :'+str(len(validation_loader.dataset)))\n",
        "  val_epoch_acc = val_running_corrects.float()/len(validation_loader.dataset)\n",
        "  val_running_loss_history.append(val_epoch_loss)\n",
        "  val_running_corrects_history.append(val_epoch_acc)\n",
        "  \n",
        "  print('epoch *', (e+1))\n",
        "  print('training loss: {:.4f}, training acc {:.4f}'.format(epoch_loss, epoch_acc.item()))\n",
        "  print('validation loss: {:.4f}, validation acc{:.4f}'.format(val_epoch_loss,val_epoch_acc.item()))\n",
        "\n",
        "  early_stopping(val_epoch_loss, model)\n",
        "        \n",
        "  if early_stopping.early_stop:\n",
        "      print(\"Early stopping\")\n",
        "      break\n",
        "#学習済みモデルの保存\n",
        "#save_path = './weights.pth'\n",
        "#torch.save(model.state_dict(), save_path)"
      ],
      "execution_count": 15,
      "outputs": [
        {
          "output_type": "stream",
          "text": [
            "100%|██████████| 157/157 [00:56<00:00,  2.77it/s]\n",
            "100%|██████████| 250/250 [00:47<00:00,  5.24it/s]\n"
          ],
          "name": "stderr"
        },
        {
          "output_type": "stream",
          "text": [
            "epoch * 1\n",
            "training loss: 0.0608, training acc 0.4800\n",
            "validation loss: 0.0465, validation acc0.7725\n",
            "Validation loss decreased (inf --> 0.046501).  Saving model ...\n"
          ],
          "name": "stdout"
        },
        {
          "output_type": "stream",
          "text": [
            "100%|██████████| 157/157 [00:56<00:00,  2.79it/s]\n",
            "100%|██████████| 250/250 [00:47<00:00,  5.25it/s]\n",
            "  0%|          | 0/157 [00:00<?, ?it/s]"
          ],
          "name": "stderr"
        },
        {
          "output_type": "stream",
          "text": [
            "epoch * 2\n",
            "training loss: 0.0383, training acc 0.8170\n",
            "validation loss: 0.0287, validation acc0.8555\n",
            "Validation loss decreased (0.046501 --> 0.028736).  Saving model ...\n"
          ],
          "name": "stdout"
        },
        {
          "output_type": "stream",
          "text": [
            "100%|██████████| 157/157 [00:56<00:00,  2.79it/s]\n",
            "100%|██████████| 250/250 [00:47<00:00,  5.28it/s]\n",
            "  0%|          | 0/157 [00:00<?, ?it/s]"
          ],
          "name": "stderr"
        },
        {
          "output_type": "stream",
          "text": [
            "epoch * 3\n",
            "training loss: 0.0261, training acc 0.8620\n",
            "validation loss: 0.0200, validation acc0.8804\n",
            "Validation loss decreased (0.028736 --> 0.019985).  Saving model ...\n"
          ],
          "name": "stdout"
        },
        {
          "output_type": "stream",
          "text": [
            "100%|██████████| 157/157 [00:56<00:00,  2.80it/s]\n",
            "100%|██████████| 250/250 [00:47<00:00,  5.29it/s]\n",
            "  0%|          | 0/157 [00:00<?, ?it/s]"
          ],
          "name": "stderr"
        },
        {
          "output_type": "stream",
          "text": [
            "epoch * 4\n",
            "training loss: 0.0200, training acc 0.8666\n",
            "validation loss: 0.0158, validation acc0.8880\n",
            "Validation loss decreased (0.019985 --> 0.015828).  Saving model ...\n"
          ],
          "name": "stdout"
        },
        {
          "output_type": "stream",
          "text": [
            "100%|██████████| 157/157 [00:56<00:00,  2.79it/s]\n",
            "100%|██████████| 250/250 [00:47<00:00,  5.24it/s]\n",
            "  0%|          | 0/157 [00:00<?, ?it/s]"
          ],
          "name": "stderr"
        },
        {
          "output_type": "stream",
          "text": [
            "epoch * 5\n",
            "training loss: 0.0169, training acc 0.8708\n",
            "validation loss: 0.0136, validation acc0.8905\n",
            "Validation loss decreased (0.015828 --> 0.013648).  Saving model ...\n"
          ],
          "name": "stdout"
        },
        {
          "output_type": "stream",
          "text": [
            "100%|██████████| 157/157 [00:56<00:00,  2.79it/s]\n",
            "100%|██████████| 250/250 [00:47<00:00,  5.26it/s]\n",
            "  0%|          | 0/157 [00:00<?, ?it/s]"
          ],
          "name": "stderr"
        },
        {
          "output_type": "stream",
          "text": [
            "epoch * 6\n",
            "training loss: 0.0146, training acc 0.8820\n",
            "validation loss: 0.0119, validation acc0.9048\n",
            "Validation loss decreased (0.013648 --> 0.011903).  Saving model ...\n"
          ],
          "name": "stdout"
        },
        {
          "output_type": "stream",
          "text": [
            "100%|██████████| 157/157 [00:56<00:00,  2.79it/s]\n",
            "100%|██████████| 250/250 [00:47<00:00,  5.23it/s]\n",
            "  0%|          | 0/157 [00:00<?, ?it/s]"
          ],
          "name": "stderr"
        },
        {
          "output_type": "stream",
          "text": [
            "epoch * 7\n",
            "training loss: 0.0134, training acc 0.8854\n",
            "validation loss: 0.0109, validation acc0.9051\n",
            "Validation loss decreased (0.011903 --> 0.010856).  Saving model ...\n"
          ],
          "name": "stdout"
        },
        {
          "output_type": "stream",
          "text": [
            "100%|██████████| 157/157 [00:56<00:00,  2.79it/s]\n",
            "100%|██████████| 250/250 [00:47<00:00,  5.25it/s]\n",
            "  0%|          | 0/157 [00:00<?, ?it/s]"
          ],
          "name": "stderr"
        },
        {
          "output_type": "stream",
          "text": [
            "epoch * 8\n",
            "training loss: 0.0124, training acc 0.8894\n",
            "validation loss: 0.0104, validation acc0.9020\n",
            "Validation loss decreased (0.010856 --> 0.010426).  Saving model ...\n"
          ],
          "name": "stdout"
        },
        {
          "output_type": "stream",
          "text": [
            "100%|██████████| 157/157 [00:56<00:00,  2.79it/s]\n",
            "100%|██████████| 250/250 [00:47<00:00,  5.26it/s]\n",
            "  0%|          | 0/157 [00:00<?, ?it/s]"
          ],
          "name": "stderr"
        },
        {
          "output_type": "stream",
          "text": [
            "epoch * 9\n",
            "training loss: 0.0117, training acc 0.8964\n",
            "validation loss: 0.0099, validation acc0.9053\n",
            "Validation loss decreased (0.010426 --> 0.009870).  Saving model ...\n"
          ],
          "name": "stdout"
        },
        {
          "output_type": "stream",
          "text": [
            "100%|██████████| 157/157 [00:56<00:00,  2.79it/s]\n",
            "100%|██████████| 250/250 [00:47<00:00,  5.24it/s]\n",
            "  0%|          | 0/157 [00:00<?, ?it/s]"
          ],
          "name": "stderr"
        },
        {
          "output_type": "stream",
          "text": [
            "epoch * 10\n",
            "training loss: 0.0111, training acc 0.8938\n",
            "validation loss: 0.0093, validation acc0.9144\n",
            "Validation loss decreased (0.009870 --> 0.009274).  Saving model ...\n"
          ],
          "name": "stdout"
        },
        {
          "output_type": "stream",
          "text": [
            "100%|██████████| 157/157 [00:56<00:00,  2.78it/s]\n",
            "100%|██████████| 250/250 [00:47<00:00,  5.24it/s]\n",
            "  0%|          | 0/157 [00:00<?, ?it/s]"
          ],
          "name": "stderr"
        },
        {
          "output_type": "stream",
          "text": [
            "epoch * 11\n",
            "training loss: 0.0105, training acc 0.9008\n",
            "validation loss: 0.0091, validation acc0.9059\n",
            "Validation loss decreased (0.009274 --> 0.009130).  Saving model ...\n"
          ],
          "name": "stdout"
        },
        {
          "output_type": "stream",
          "text": [
            "100%|██████████| 157/157 [00:56<00:00,  2.79it/s]\n",
            "100%|██████████| 250/250 [00:47<00:00,  5.26it/s]\n",
            "  0%|          | 0/157 [00:00<?, ?it/s]"
          ],
          "name": "stderr"
        },
        {
          "output_type": "stream",
          "text": [
            "epoch * 12\n",
            "training loss: 0.0103, training acc 0.8992\n",
            "validation loss: 0.0089, validation acc0.9114\n",
            "Validation loss decreased (0.009130 --> 0.008948).  Saving model ...\n"
          ],
          "name": "stdout"
        },
        {
          "output_type": "stream",
          "text": [
            "100%|██████████| 157/157 [00:56<00:00,  2.79it/s]\n",
            "100%|██████████| 250/250 [00:47<00:00,  5.28it/s]\n",
            "  0%|          | 0/157 [00:00<?, ?it/s]"
          ],
          "name": "stderr"
        },
        {
          "output_type": "stream",
          "text": [
            "epoch * 13\n",
            "training loss: 0.0094, training acc 0.9122\n",
            "validation loss: 0.0084, validation acc0.9144\n",
            "Validation loss decreased (0.008948 --> 0.008418).  Saving model ...\n"
          ],
          "name": "stdout"
        },
        {
          "output_type": "stream",
          "text": [
            "100%|██████████| 157/157 [00:56<00:00,  2.78it/s]\n",
            "100%|██████████| 250/250 [00:47<00:00,  5.24it/s]\n"
          ],
          "name": "stderr"
        },
        {
          "output_type": "stream",
          "text": [
            "epoch * 14\n",
            "training loss: 0.0094, training acc 0.9126\n",
            "validation loss: 0.0081, validation acc0.9200\n",
            "Validation loss decreased (0.008418 --> 0.008064).  Saving model ...\n"
          ],
          "name": "stdout"
        },
        {
          "output_type": "stream",
          "text": [
            "100%|██████████| 157/157 [00:56<00:00,  2.78it/s]\n",
            "100%|██████████| 250/250 [00:47<00:00,  5.25it/s]\n",
            "  0%|          | 0/157 [00:00<?, ?it/s]"
          ],
          "name": "stderr"
        },
        {
          "output_type": "stream",
          "text": [
            "epoch * 15\n",
            "training loss: 0.0092, training acc 0.9088\n",
            "validation loss: 0.0081, validation acc0.9184\n",
            "EarlyStopping counter: 1 out of 3\n"
          ],
          "name": "stdout"
        },
        {
          "output_type": "stream",
          "text": [
            "100%|██████████| 157/157 [00:56<00:00,  2.78it/s]\n",
            "100%|██████████| 250/250 [00:47<00:00,  5.25it/s]\n",
            "  0%|          | 0/157 [00:00<?, ?it/s]"
          ],
          "name": "stderr"
        },
        {
          "output_type": "stream",
          "text": [
            "epoch * 16\n",
            "training loss: 0.0089, training acc 0.9154\n",
            "validation loss: 0.0080, validation acc0.9174\n",
            "Validation loss decreased (0.008064 --> 0.008010).  Saving model ...\n"
          ],
          "name": "stdout"
        },
        {
          "output_type": "stream",
          "text": [
            "100%|██████████| 157/157 [00:56<00:00,  2.78it/s]\n",
            "100%|██████████| 250/250 [00:47<00:00,  5.25it/s]\n",
            "  0%|          | 0/157 [00:00<?, ?it/s]"
          ],
          "name": "stderr"
        },
        {
          "output_type": "stream",
          "text": [
            "epoch * 17\n",
            "training loss: 0.0088, training acc 0.9142\n",
            "validation loss: 0.0077, validation acc0.9209\n",
            "Validation loss decreased (0.008010 --> 0.007728).  Saving model ...\n"
          ],
          "name": "stdout"
        },
        {
          "output_type": "stream",
          "text": [
            "100%|██████████| 157/157 [00:56<00:00,  2.79it/s]\n",
            "100%|██████████| 250/250 [00:47<00:00,  5.26it/s]\n",
            "  0%|          | 0/157 [00:00<?, ?it/s]"
          ],
          "name": "stderr"
        },
        {
          "output_type": "stream",
          "text": [
            "epoch * 18\n",
            "training loss: 0.0081, training acc 0.9176\n",
            "validation loss: 0.0076, validation acc0.9213\n",
            "Validation loss decreased (0.007728 --> 0.007624).  Saving model ...\n"
          ],
          "name": "stdout"
        },
        {
          "output_type": "stream",
          "text": [
            "100%|██████████| 157/157 [00:56<00:00,  2.79it/s]\n",
            "100%|██████████| 250/250 [00:47<00:00,  5.25it/s]\n"
          ],
          "name": "stderr"
        },
        {
          "output_type": "stream",
          "text": [
            "epoch * 19\n",
            "training loss: 0.0082, training acc 0.9200\n",
            "validation loss: 0.0072, validation acc0.9238\n",
            "Validation loss decreased (0.007624 --> 0.007235).  Saving model ...\n"
          ],
          "name": "stdout"
        },
        {
          "output_type": "stream",
          "text": [
            "100%|██████████| 157/157 [00:56<00:00,  2.79it/s]\n",
            "100%|██████████| 250/250 [00:47<00:00,  5.21it/s]\n",
            "  0%|          | 0/157 [00:00<?, ?it/s]"
          ],
          "name": "stderr"
        },
        {
          "output_type": "stream",
          "text": [
            "epoch * 20\n",
            "training loss: 0.0084, training acc 0.9170\n",
            "validation loss: 0.0073, validation acc0.9226\n",
            "EarlyStopping counter: 1 out of 3\n"
          ],
          "name": "stdout"
        },
        {
          "output_type": "stream",
          "text": [
            "100%|██████████| 157/157 [00:56<00:00,  2.79it/s]\n",
            "100%|██████████| 250/250 [00:48<00:00,  5.21it/s]\n",
            "  0%|          | 0/157 [00:00<?, ?it/s]"
          ],
          "name": "stderr"
        },
        {
          "output_type": "stream",
          "text": [
            "epoch * 21\n",
            "training loss: 0.0078, training acc 0.9202\n",
            "validation loss: 0.0073, validation acc0.9204\n",
            "EarlyStopping counter: 2 out of 3\n"
          ],
          "name": "stdout"
        },
        {
          "output_type": "stream",
          "text": [
            "100%|██████████| 157/157 [00:56<00:00,  2.79it/s]\n",
            "100%|██████████| 250/250 [00:47<00:00,  5.26it/s]"
          ],
          "name": "stderr"
        },
        {
          "output_type": "stream",
          "text": [
            "epoch * 22\n",
            "training loss: 0.0079, training acc 0.9254\n",
            "validation loss: 0.0073, validation acc0.9231\n",
            "EarlyStopping counter: 3 out of 3\n",
            "Early stopping\n"
          ],
          "name": "stdout"
        },
        {
          "output_type": "stream",
          "text": [
            "\n"
          ],
          "name": "stderr"
        }
      ]
    },
    {
      "cell_type": "code",
      "metadata": {
        "id": "8abJ6dvL7jR1",
        "colab_type": "code",
        "colab": {
          "base_uri": "https://localhost:8080/",
          "height": 282
        },
        "outputId": "6258f31a-c33e-42d0-ea56-e33331f09011"
      },
      "source": [
        "plt.plot(running_loss_history, label='training loss')\n",
        "plt.plot(val_running_loss_history, label='validation loss')\n",
        "plt.legend()"
      ],
      "execution_count": 16,
      "outputs": [
        {
          "output_type": "execute_result",
          "data": {
            "text/plain": [
              "<matplotlib.legend.Legend at 0x7f2db032e898>"
            ]
          },
          "metadata": {
            "tags": []
          },
          "execution_count": 16
        },
        {
          "output_type": "display_data",
          "data": {
            "image/png": "[encoded data removed]",
            "text/plain": [
              "<Figure size 432x288 with 1 Axes>"
            ]
          },
          "metadata": {
            "tags": [],
            "needs_background": "light"
          }
        }
      ]
    },
    {
      "cell_type": "code",
      "metadata": {
        "id": "YwvRVyVE9i4l",
        "colab_type": "code",
        "colab": {
          "base_uri": "https://localhost:8080/",
          "height": 282
        },
        "outputId": "e7d14e7b-8d95-418b-dbb7-154403f43c1a"
      },
      "source": [
        "plt.plot(running_corrects_history, label='training accuracy')\n",
        "plt.plot(val_running_corrects_history, label='validation accuracy')\n",
        "plt.legend()"
      ],
      "execution_count": 17,
      "outputs": [
        {
          "output_type": "execute_result",
          "data": {
            "text/plain": [
              "<matplotlib.legend.Legend at 0x7f2db2861eb8>"
            ]
          },
          "metadata": {
            "tags": []
          },
          "execution_count": 17
        },
        {
          "output_type": "display_data",
          "data": {
            "image/png": "[encoded data removed]",
            "text/plain": [
              "<Figure size 432x288 with 1 Axes>"
            ]
          },
          "metadata": {
            "tags": [],
            "needs_background": "light"
          }
        }
      ]
    },
    {
      "cell_type": "code",
      "metadata": {
        "id": "x0CRA7o69n0Q",
        "colab_type": "code",
        "colab": {
          "base_uri": "https://localhost:8080/",
          "height": 645
        },
        "outputId": "a2beabe4-31a9-4cf1-fa3c-fe2dd00d5ea9"
      },
      "source": [
        "validation_confusion_matrix(model)"
      ],
      "execution_count": 20,
      "outputs": [
        {
          "output_type": "stream",
          "text": [
            "/usr/local/lib/python3.6/dist-packages/statsmodels/tools/_testing.py:19: FutureWarning: pandas.util.testing is deprecated. Use the functions in the public API at pandas.testing instead.\n",
            "  import pandas.util.testing as tm\n"
          ],
          "name": "stderr"
        },
        {
          "output_type": "display_data",
          "data": {
            "text/plain": [
              "<Figure size 432x288 with 0 Axes>"
            ]
          },
          "metadata": {
            "tags": []
          }
        },
        {
          "output_type": "display_data",
          "data": {
            "image/png": "[encoded data removed]",
            "text/plain": [
              "<Figure size 1080x720 with 2 Axes>"
            ]
          },
          "metadata": {
            "tags": []
          }
        }
      ]
    },
    {
      "cell_type": "code",
      "metadata": {
        "id": "rWcFalSw91X4",
        "colab_type": "code",
        "colab": {}
      },
      "source": [
        ""
      ],
      "execution_count": 0,
      "outputs": []
    }
  ]
}